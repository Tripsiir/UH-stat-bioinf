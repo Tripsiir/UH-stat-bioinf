{
 "cells": [
  {
   "cell_type": "markdown",
   "metadata": {},
   "source": [
    "# Computer intensive methods"
   ]
  },
  {
   "cell_type": "markdown",
   "metadata": {},
   "source": [
    "## Homework 1 - 29 September 2015"
   ]
  },
  {
   "cell_type": "markdown",
   "metadata": {},
   "source": [
    "### Question 1: Correlation of law school data"
   ]
  },
  {
   "cell_type": "markdown",
   "metadata": {},
   "source": [
    "We want to estimate the correlation between the LSAT and GPA score of USA law schools based on a random sample of $n = 15$ schools. The dataset was retrived from the R package *bootstrap* (https://cran.r-project.org/web/packages/bootstrap/index.html). We will utilise the amazing Python package Numpy, which adds support for elegant array operations and a large library of mathematical and statistical functions (http://www.numpy.org/)."
   ]
  },
  {
   "cell_type": "markdown",
   "metadata": {},
   "source": [
    "In this first step we import the numpy package. We will also load the pandas package, which adds support for data frames akin to R and are sometimes a bit more intuitive to work with. We will be using both numpy arrays and panda dataframes interchangeably throughout this tutorial, to show the capabilities of both. The last few imports are required to plot graphics in this Jupyter notebook. "
   ]
  },
  {
   "cell_type": "markdown",
   "metadata": {},
   "source": [
    "Next, we read in the data in a 2-dimensional array and convert it to a data frame with named columns."
   ]
  },
  {
   "cell_type": "code",
   "execution_count": 1,
   "metadata": {
    "collapsed": false
   },
   "outputs": [
    {
     "data": {
      "text/html": [
       "<div>\n",
       "<table border=\"1\" class=\"dataframe\">\n",
       "  <thead>\n",
       "    <tr style=\"text-align: right;\">\n",
       "      <th></th>\n",
       "      <th>LSAT</th>\n",
       "      <th>GPA</th>\n",
       "    </tr>\n",
       "  </thead>\n",
       "  <tbody>\n",
       "    <tr>\n",
       "      <th>0</th>\n",
       "      <td>576</td>\n",
       "      <td>339</td>\n",
       "    </tr>\n",
       "    <tr>\n",
       "      <th>1</th>\n",
       "      <td>635</td>\n",
       "      <td>330</td>\n",
       "    </tr>\n",
       "    <tr>\n",
       "      <th>2</th>\n",
       "      <td>558</td>\n",
       "      <td>281</td>\n",
       "    </tr>\n",
       "    <tr>\n",
       "      <th>3</th>\n",
       "      <td>578</td>\n",
       "      <td>303</td>\n",
       "    </tr>\n",
       "    <tr>\n",
       "      <th>4</th>\n",
       "      <td>666</td>\n",
       "      <td>344</td>\n",
       "    </tr>\n",
       "    <tr>\n",
       "      <th>5</th>\n",
       "      <td>580</td>\n",
       "      <td>307</td>\n",
       "    </tr>\n",
       "    <tr>\n",
       "      <th>6</th>\n",
       "      <td>555</td>\n",
       "      <td>300</td>\n",
       "    </tr>\n",
       "    <tr>\n",
       "      <th>7</th>\n",
       "      <td>661</td>\n",
       "      <td>343</td>\n",
       "    </tr>\n",
       "    <tr>\n",
       "      <th>8</th>\n",
       "      <td>651</td>\n",
       "      <td>336</td>\n",
       "    </tr>\n",
       "    <tr>\n",
       "      <th>9</th>\n",
       "      <td>605</td>\n",
       "      <td>313</td>\n",
       "    </tr>\n",
       "    <tr>\n",
       "      <th>10</th>\n",
       "      <td>653</td>\n",
       "      <td>312</td>\n",
       "    </tr>\n",
       "    <tr>\n",
       "      <th>11</th>\n",
       "      <td>575</td>\n",
       "      <td>274</td>\n",
       "    </tr>\n",
       "    <tr>\n",
       "      <th>12</th>\n",
       "      <td>545</td>\n",
       "      <td>276</td>\n",
       "    </tr>\n",
       "    <tr>\n",
       "      <th>13</th>\n",
       "      <td>572</td>\n",
       "      <td>288</td>\n",
       "    </tr>\n",
       "    <tr>\n",
       "      <th>14</th>\n",
       "      <td>594</td>\n",
       "      <td>296</td>\n",
       "    </tr>\n",
       "  </tbody>\n",
       "</table>\n",
       "</div>"
      ],
      "text/plain": [
       "    LSAT  GPA\n",
       "0    576  339\n",
       "1    635  330\n",
       "2    558  281\n",
       "3    578  303\n",
       "4    666  344\n",
       "5    580  307\n",
       "6    555  300\n",
       "7    661  343\n",
       "8    651  336\n",
       "9    605  313\n",
       "10   653  312\n",
       "11   575  274\n",
       "12   545  276\n",
       "13   572  288\n",
       "14   594  296"
      ]
     },
     "execution_count": 1,
     "metadata": {},
     "output_type": "execute_result"
    }
   ],
   "source": [
    "import math\n",
    "import numpy as np # Imports the numpy package for easy matrix manipulation\n",
    "import pandas as pd # Imports the pandas package for data frame manipulation\n",
    "import matplotlib # Imports plotting capabilities\n",
    "import matplotlib.pyplot as plt\n",
    "from matplotlib import style # Sets graphics style\n",
    "style.use('ggplot')\n",
    "%matplotlib inline\n",
    "\n",
    "law = np.array([[576, 635, 558, 578, 666, 580, 555, 661, 651, 605, 653, 575, 545, 572, 594],\n",
    "[339, 330, 281, 303, 344, 307, 300, 343, 336, 313, 312, 274, 276, 288, 296]],dtype=float).transpose()\n",
    "columns = ['LSAT','GPA']\n",
    "lawdf = pd.DataFrame(law,columns=columns)\n",
    "lawdf"
   ]
  },
  {
   "cell_type": "markdown",
   "metadata": {},
   "source": [
    "Let's plot these pairs of scores in a **scatter plot**."
   ]
  },
  {
   "cell_type": "code",
   "execution_count": 5,
   "metadata": {
    "collapsed": false
   },
   "outputs": [
    {
     "data": {
      "image/png": "[encoded data removed]",
      "text/plain": [
       "<matplotlib.figure.Figure at 0x82bfb00>"
      ]
     },
     "metadata": {},
     "output_type": "display_data"
    }
   ],
   "source": [
    "plt.scatter(law[:,0],lawdf.GPA,color=['red'],alpha=0.7)\n",
    "plt.xlabel('LSAT')\n",
    "plt.ylabel('GPA')\n",
    "plt.title('Scatter plot of average LSAT and GPA tests of 15 USA law schools', y=1.08)\n",
    "plt.text(525,340,r'$\\hat{\\rho} = 0.776$')\n",
    "plt.show()"
   ]
  },
  {
   "cell_type": "markdown",
   "metadata": {},
   "source": [
    "This plot suggests that there is a linear relation between the two scores. The **estimated correlation coefficient** $\\hat{\\rho}$ between LSAT and GPA is about 0.78 ."
   ]
  },
  {
   "cell_type": "code",
   "execution_count": 3,
   "metadata": {
    "collapsed": false
   },
   "outputs": [
    {
     "data": {
      "text/html": [
       "<div>\n",
       "<table border=\"1\" class=\"dataframe\">\n",
       "  <thead>\n",
       "    <tr style=\"text-align: right;\">\n",
       "      <th></th>\n",
       "      <th>LSAT</th>\n",
       "      <th>GPA</th>\n",
       "    </tr>\n",
       "  </thead>\n",
       "  <tbody>\n",
       "    <tr>\n",
       "      <th>LSAT</th>\n",
       "      <td>1.000000</td>\n",
       "      <td>0.776374</td>\n",
       "    </tr>\n",
       "    <tr>\n",
       "      <th>GPA</th>\n",
       "      <td>0.776374</td>\n",
       "      <td>1.000000</td>\n",
       "    </tr>\n",
       "  </tbody>\n",
       "</table>\n",
       "</div>"
      ],
      "text/plain": [
       "          LSAT       GPA\n",
       "LSAT  1.000000  0.776374\n",
       "GPA   0.776374  1.000000"
      ]
     },
     "execution_count": 3,
     "metadata": {},
     "output_type": "execute_result"
    }
   ],
   "source": [
    "obsCorr = np.corrcoef(law[:,0],law[:,1])[0,1]\n",
    "lawdf.corr()"
   ]
  },
  {
   "cell_type": "markdown",
   "metadata": {},
   "source": [
    "If we assume that the probability distribution $F$ of the two variables is bivariate normal, then the standard error of the estimated correlation coefficient is given by the following formula:\n",
    "\n",
    "$$ \\hat{se}_{normal} = \\dfrac{( 1 - \\hat{corr}^2)} {\\sqrt{n- 3}} $$"
   ]
  },
  {
   "cell_type": "code",
   "execution_count": 6,
   "metadata": {
    "collapsed": false
   },
   "outputs": [
    {
     "data": {
      "text/plain": [
       "0.014436172405434168"
      ]
     },
     "execution_count": 6,
     "metadata": {},
     "output_type": "execute_result"
    }
   ],
   "source": [
    "seForm = (1 - obsCorr)**2 / (math.sqrt(15 - 3))\n",
    "seForm"
   ]
  },
  {
   "cell_type": "markdown",
   "metadata": {},
   "source": [
    "However, we can also estimate the distribution of this statistic using a **bootstrap** procedure. The benefit of this approach is that we *do not need to assume a distribution of the population*. It will also work for more complicated statistics where a closed-form solution is harder to obtain. We will showcase two different approaches: the non parametric and the parametric bootstrap."
   ]
  },
  {
   "cell_type": "markdown",
   "metadata": {},
   "source": [
    "The **non-parametric** bootstrap procedure consists of *resampling with replacement from the observed data*. In other words, we sample from the empirical distribution $\\hat{F}$. Note that we always sample pairs of LSAT-GPA, since these observations are dependent."
   ]
  },
  {
   "cell_type": "code",
   "execution_count": 10,
   "metadata": {
    "collapsed": false
   },
   "outputs": [],
   "source": [
    "def bootstrapResample(sample):\n",
    "    \"\"\" This function returns a random sample of rows drawn with replacement from the provided array.\n",
    "    \n",
    "    Args: sample (numpy array): the observed data in array format (n x 2) from which to sample.\n",
    "    \n",
    "    Returns: bootstrapSample (numpy array): a new array with random rows sampled from the input.\n",
    "    \"\"\"\n",
    "    n = len(sample) # bootstrap samples have the same size as the original sample\n",
    "    bootstrapSample = sample[np.random.choice(n, n)] # random.choice returns a vector of size n with random digits\n",
    "                                                     # between 0 and 14, then we slice the input array using this vector\n",
    "    return bootstrapSample\n",
    "\n",
    "bootstraps = bootstrapResample(law)"
   ]
  },
  {
   "cell_type": "markdown",
   "metadata": {},
   "source": [
    "We can calculate the sample correlation coefficient based on this bootstrap sample, i.e. the **bootstrap replicate** $ \\hat{\\theta}^*(b) $. It will be close to the observed $\\hat{\\rho}$, but not exactly the same."
   ]
  },
  {
   "cell_type": "code",
   "execution_count": 11,
   "metadata": {
    "collapsed": false
   },
   "outputs": [
    {
     "data": {
      "text/plain": [
       "0.87417660016697596"
      ]
     },
     "execution_count": 11,
     "metadata": {},
     "output_type": "execute_result"
    }
   ],
   "source": [
    "np.corrcoef(bootstraps[:,0],bootstraps[:,1])[0,1]"
   ]
  },
  {
   "cell_type": "markdown",
   "metadata": {},
   "source": [
    "Now we will create *a thousand bootstrap samples* and calculate the estimated correlation coefficients for each of them."
   ]
  },
  {
   "cell_type": "code",
   "execution_count": 12,
   "metadata": {
    "collapsed": false
   },
   "outputs": [
    {
     "data": {
      "text/plain": [
       "array([ 0.94790401,  0.60765439,  0.81362247,  0.80600117,  0.77286733,\n",
       "        0.75017514,  0.88210262,  0.77160419,  0.53519311,  0.98134867])"
      ]
     },
     "execution_count": 12,
     "metadata": {},
     "output_type": "execute_result"
    }
   ],
   "source": [
    "def bootstrapCorr(sample,replicates): # replicates is number of bootstraps sample to take\n",
    "    \"\"\" \n",
    "This function returns the bootstrap replicates for the correlation coefficient based on the input sample.\n",
    "\n",
    "Args: sample (numpy array): the observed data in array format (n x 2) from which to sample\n",
    "      replicates (int): number of bootstrap samples to perform\n",
    "          \n",
    "Returns: bootstrapCorr (numpy array): a new array (replicates x 1) containing the bootstrap correlation coefficient for each bootstrap sample.\n",
    "    \"\"\"\n",
    "    n = len(sample)\n",
    "#     bootstrapSamples = np.zeros((replicates, n, 2))\n",
    "    bootstrapCorr = np.zeros(replicates)\n",
    "    for i in range(replicates):\n",
    "        bootstrapSample = bootstrapResample(sample)\n",
    "#         bootstrapSamples[i] = bootstrapSample\n",
    "        bootstrapCorr[i] = np.corrcoef(bootstrapSample[:,0],bootstrapSample[:,1])[0,1]\n",
    "    return bootstrapCorr\n",
    "bootstrapCorr = bootstrapCorr(law,1000)\n",
    "bootstrapCorr[0:10] # print first 10 bootstrap replicates"
   ]
  },
  {
   "cell_type": "markdown",
   "metadata": {},
   "source": [
    "We can plot each of the thousand bootstrap replicate correlation coefficients $\\hat{\\rho^*}$ in a **histogram**. This gives us an approximation of the sampling distribution of the correlation coefficient $\\hat{\\rho}$. "
   ]
  },
  {
   "cell_type": "code",
   "execution_count": 13,
   "metadata": {
    "collapsed": false
   },
   "outputs": [
    {
     "data": {
      "image/png": "[encoded data removed]",
      "text/plain": [
       "<matplotlib.figure.Figure at 0x83c5898>"
      ]
     },
     "metadata": {},
     "output_type": "display_data"
    }
   ],
   "source": [
    "plt.hist(bootstrapCorr,bins=35)\n",
    "plt.title(\"Histogram of bootstrap replicates of the correlation between LSAT and GPA\",y=1.08)\n",
    "plt.xlabel(r\"$\\hat{\\rho^*_b}$\")\n",
    "plt.ylabel(\"Frequency\")\n",
    "plt.annotate(r'Observed $\\hat{\\rho}$', xy=(obsCorr, 60), xytext=(0.2, 75),\n",
    "            arrowprops=dict(facecolor='black', shrink=0.05))\n",
    "plt.axvline(obsCorr,color='teal')\n",
    "plt.show()"
   ]
  },
  {
   "cell_type": "markdown",
   "metadata": {},
   "source": [
    "It is immediately obvious that the sampling distribution is skewed. This is to be expected for statistics with an upper or lower bound."
   ]
  },
  {
   "cell_type": "markdown",
   "metadata": {},
   "source": [
    "Based on this sampling distribution it is easy to calculate the **standard error of the correlation coefficient**. We just need to calculate the sample standard deviation of our bootstrap replicates:\n",
    "\n",
    "$$ \\hat{se}_B = \\sqrt{\\frac{\\sum (\\hat{\\rho}^*_b - \\hat{\\rho}^*.)^2} {B-1}} $$"
   ]
  },
  {
   "cell_type": "code",
   "execution_count": 14,
   "metadata": {
    "collapsed": false
   },
   "outputs": [
    {
     "data": {
      "text/plain": [
       "0.13128402360455518"
      ]
     },
     "execution_count": 14,
     "metadata": {},
     "output_type": "execute_result"
    }
   ],
   "source": [
    "seCorr = np.std(bootstrapCorr, ddof=1)\n",
    "seCorr"
   ]
  },
  {
   "cell_type": "markdown",
   "metadata": {
    "collapsed": true
   },
   "source": [
    "The **parametric bootstrap** is very similar to the previous method, but rather than sampling from the empirical distribution (i.e. the observed sample), we resample from the assumed population distribution using the sample statistics as our distribution parameters. In this case we will assume a bivariate normal distribution for the LSAT and GPA variables: \n",
    "\n",
    "$$ x,y \\sim \\mathcal{N}(\\mu_2,\\sum) $$\n",
    "\n",
    "where $\\mu = (\\bar{x},\\bar{y})$"
   ]
  },
  {
   "cell_type": "code",
   "execution_count": 15,
   "metadata": {
    "collapsed": false
   },
   "outputs": [
    {
     "name": "stdout",
     "output_type": "stream",
     "text": [
      "[ 600.26666667  309.46666667]\n"
     ]
    }
   ],
   "source": [
    "mean = np.mean(law,axis=0)\n",
    "print(mean)"
   ]
  },
  {
   "cell_type": "markdown",
   "metadata": {},
   "source": [
    "and $\\sum = Cov(x_i,y_i) = \\left(\\begin{array}{cc}\n",
    "\\sum(x_i - \\bar{x})^2 & \\sum(x_i - \\bar{x})(y_i - \\bar{y}) \\\\\n",
    "\\sum(x_i - \\bar{x})(y_i - \\bar{y}) & \\sum(y_i - \\bar{y})^2\n",
    "\\end{array} \\right )$"
   ]
  },
  {
   "cell_type": "code",
   "execution_count": 16,
   "metadata": {
    "collapsed": false
   },
   "outputs": [
    {
     "name": "stdout",
     "output_type": "stream",
     "text": [
      "[[ 1746.78095238   790.15238095]\n",
      " [  790.15238095   592.98095238]]\n"
     ]
    }
   ],
   "source": [
    "cov = np.cov(law,rowvar=0)\n",
    "print(cov)"
   ]
  },
  {
   "cell_type": "code",
   "execution_count": 25,
   "metadata": {
    "collapsed": false
   },
   "outputs": [],
   "source": [
    "def paramBootstrapResample(sample,replicates):\n",
    "    \"\"\" This function returns a random sample of x,y pairs drawn from a bivariate normal distribution based on the provided sample.\n",
    "    \n",
    "    Args: sample (numpy array): the observed data in array format (n x 2) from which to sample.\n",
    "          replicates (int): number of bootstrap samples to generate\n",
    "    \n",
    "    Returns: paramBootstrapSamples (numpy array): x,y arrays with random variables sampled from the multivariate distribution based on the provided \n",
    "                                 sample, of size replicates x sample\n",
    "    \"\"\"\n",
    "    n = len(sample) # bootstrap samples have the same size as the original sample\n",
    "    mean = np.mean(sample,axis=0) # calculate the mean vector for x,y\n",
    "    cov = np.cov(law,rowvar=0) # calculate the covariance matrix for x,y\n",
    "    paramBootstrapSamples = np.random.multivariate_normal(mean,cov,(n,replicates)).T\n",
    "    return paramBootstrapSamples\n",
    "\n",
    "paramBootstraps = paramBootstrapResample(law,1000)"
   ]
  },
  {
   "cell_type": "markdown",
   "metadata": {},
   "source": [
    "We can plot the first three samples (each of size 15) to showcase the process."
   ]
  },
  {
   "cell_type": "code",
   "execution_count": 26,
   "metadata": {
    "collapsed": false
   },
   "outputs": [
    {
     "data": {
      "image/png": "[encoded data removed]",
      "text/plain": [
       "<matplotlib.figure.Figure at 0x5c19a90>"
      ]
     },
     "metadata": {},
     "output_type": "display_data"
    }
   ],
   "source": [
    "for index,group in enumerate(paramBootstraps[0,0:3]):\n",
    "    plt.scatter(group, paramBootstraps[1,0:3][index], color=['red','green','blue'])\n",
    "plt.show()"
   ]
  },
  {
   "cell_type": "markdown",
   "metadata": {},
   "source": [
    "As before we can calculate a correlation coefficient for each of these bootstrap samples and also find the sample standard deviation of these replicates."
   ]
  },
  {
   "cell_type": "code",
   "execution_count": 27,
   "metadata": {
    "collapsed": false
   },
   "outputs": [
    {
     "data": {
      "text/plain": [
       "array([ 0.94790401,  0.60765439,  0.81362247,  0.80600117,  0.77286733,\n",
       "        0.75017514,  0.88210262,  0.77160419,  0.53519311,  0.98134867])"
      ]
     },
     "execution_count": 27,
     "metadata": {},
     "output_type": "execute_result"
    }
   ],
   "source": [
    "def paramBootstrapCorr(bootstrapSamples):\n",
    "    \"\"\" \n",
    "    This function returns the bootstrap replicates for the correlation coefficient based on the provided bootstrap samples.\n",
    "\n",
    "    Args: sample (numpy array): the bootstrap samples in array format (2 x B x n)\n",
    "          \n",
    "    Returns: paramBootstrapCorr (numpy array): a new array (B x 1) containing the bootstrap correlation coefficient for\n",
    "    each bootstrap sample.\n",
    "    \"\"\"\n",
    "    n,B,n = bootstrapSamples.shape\n",
    "    paramBootstrapCorr = np.zeros(B)\n",
    "    for i in range(B):\n",
    "        paramBootstrapCorr[i] = np.corrcoef(bootstrapSamples[0,i],bootstrapSamples[1,i])[0,1]\n",
    "    return paramBootstrapCorr\n",
    "paramBootstrapCorr = paramBootstrapCorr(paramBootstraps)\n",
    "bootstrapCorr[0:10] # print first 10 bootstrap replicates"
   ]
  },
  {
   "cell_type": "markdown",
   "metadata": {},
   "source": [
    "And again we can create a **histogram** to approximate the sampling distribution of the correlation coefficient $\\hat{\\rho}$. "
   ]
  },
  {
   "cell_type": "code",
   "execution_count": 28,
   "metadata": {
    "collapsed": false
   },
   "outputs": [
    {
     "data": {
      "image/png": "[encoded data removed]",
      "text/plain": [
       "<matplotlib.figure.Figure at 0x5c64128>"
      ]
     },
     "metadata": {},
     "output_type": "display_data"
    }
   ],
   "source": [
    "plt.hist(paramBootstrapCorr,bins=35,color='orange',alpha=1)\n",
    "plt.hist(bootstrapCorr,bins=35,alpha=0.3,color='purple')\n",
    "plt.title(\"Histogram of bootstrap replicates of the correlation between LSAT and GPA\",y=1.08)\n",
    "plt.xlabel(r\"$\\hat{\\rho^*_b}$\")\n",
    "plt.ylabel(\"Frequency\")\n",
    "plt.annotate(r'Observed $\\hat{\\rho}$', xy=(obsCorr, 60), xytext=(0.2, 75),\n",
    "            arrowprops=dict(facecolor='black', shrink=0.05))\n",
    "plt.axvline(obsCorr,color='teal')\n",
    "# Parametric bootstrap in orange\n",
    "plt.show()"
   ]
  },
  {
   "cell_type": "markdown",
   "metadata": {},
   "source": [
    "The **standard error of the correlation coefficient** is calculated in the same manner as before. It's very close to the non parametric estimate."
   ]
  },
  {
   "cell_type": "code",
   "execution_count": 29,
   "metadata": {
    "collapsed": false
   },
   "outputs": [
    {
     "data": {
      "text/plain": [
       "0.11373753431067481"
      ]
     },
     "execution_count": 29,
     "metadata": {},
     "output_type": "execute_result"
    }
   ],
   "source": [
    "seParamCorr = np.std(paramBootstrapCorr, ddof=1)\n",
    "seParamCorr # parametric se"
   ]
  },
  {
   "cell_type": "code",
   "execution_count": 30,
   "metadata": {
    "collapsed": false,
    "scrolled": true
   },
   "outputs": [
    {
     "data": {
      "text/plain": [
       "0.13128402360455518"
      ]
     },
     "execution_count": 30,
     "metadata": {},
     "output_type": "execute_result"
    }
   ],
   "source": [
    "seCorr # non parametric se"
   ]
  },
  {
   "cell_type": "markdown",
   "metadata": {},
   "source": [
    "## Question 2: Mean and variance of GPA"
   ]
  },
  {
   "cell_type": "markdown",
   "metadata": {
    "collapsed": true
   },
   "source": [
    "We can estimate the mean of GPA using the **sample mean**:\n",
    "\n",
    "$$\\bar{x} = \\frac{1}{N} \\sum\\limits_{i=1}^N x_i$$"
   ]
  },
  {
   "cell_type": "code",
   "execution_count": 31,
   "metadata": {
    "collapsed": false,
    "scrolled": true
   },
   "outputs": [
    {
     "data": {
      "text/plain": [
       "309.46666666666664"
      ]
     },
     "execution_count": 31,
     "metadata": {},
     "output_type": "execute_result"
    }
   ],
   "source": [
    "np.mean(lawdf.GPA)"
   ]
  },
  {
   "cell_type": "markdown",
   "metadata": {},
   "source": [
    "The **sample variance** is given by:\n",
    "\n",
    "$$ s^2 = \\frac{1}{N-1}\\sum\\limits_{i = 1}^N {\\left( {x_i - \\bar x} \\right)^2 } $$"
   ]
  },
  {
   "cell_type": "code",
   "execution_count": 32,
   "metadata": {
    "collapsed": false,
    "scrolled": false
   },
   "outputs": [
    {
     "data": {
      "text/plain": [
       "553.44888888889307"
      ]
     },
     "execution_count": 32,
     "metadata": {},
     "output_type": "execute_result"
    }
   ],
   "source": [
    "np.var(lawdf.GPA)"
   ]
  },
  {
   "cell_type": "markdown",
   "metadata": {},
   "source": [
    "We can use the same *bootstrapResample* function again to generate a random sample from the empirical distribution $\\hat{F}$ by **generating samples with replacement** from the observed GPA results."
   ]
  },
  {
   "cell_type": "code",
   "execution_count": 34,
   "metadata": {
    "collapsed": false
   },
   "outputs": [
    {
     "data": {
      "text/plain": [
       "array([ 274.,  300.,  313.,  288.,  313.,  343.,  330.,  296.,  274.,\n",
       "        312.,  276.,  312.,  276.,  344.,  344.])"
      ]
     },
     "execution_count": 34,
     "metadata": {},
     "output_type": "execute_result"
    }
   ],
   "source": [
    "bootstrapResample(np.array(lawdf.GPA)) # bootstrapResample(law[:,1])"
   ]
  },
  {
   "cell_type": "markdown",
   "metadata": {},
   "source": [
    "When we repeat the process a *thousand times* and calculate the bootstrap sample means/sample variances (**bootstrap replicates**) we can generate a **histogram** and calculate the **standard errors** as before, i.e. the sample standard deviation of our bootstrap replicates:\n",
    "\n",
    "$$ \\hat{se}_B = \\sqrt{\\frac{\\sum (\\bar{x}^*_b - \\bar{x}^*.)^2} {B-1}} $$"
   ]
  },
  {
   "cell_type": "code",
   "execution_count": 113,
   "metadata": {
    "collapsed": false
   },
   "outputs": [
    {
     "data": {
      "text/plain": [
       "array([ 306.        ,  315.86666667,  314.06666667,  308.86666667,\n",
       "        321.53333333,  309.4       ,  319.73333333,  320.46666667,\n",
       "        306.8       ,  307.2       ])"
      ]
     },
     "execution_count": 113,
     "metadata": {},
     "output_type": "execute_result"
    }
   ],
   "source": [
    "def bootstrapMean(sample,replicates): # replicates is number of bootstraps sample to take\n",
    "    \"\"\" \n",
    "This function returns the bootstrap replicates for the mean based on the input sample.\n",
    "\n",
    "Args: sample (numpy array): the observed data in array format (n x 1) from which to sample\n",
    "      replicates (int): number of bootstrap samples to perform\n",
    "          \n",
    "Returns: bootstrapCorr (numpy array): a new array (replicates x 1) containing the means for each bootstrap sample.\n",
    "    \"\"\"\n",
    "    n = len(sample)\n",
    "    bootstrapMean = np.zeros(replicates)\n",
    "    for i in range(replicates):\n",
    "        bootstrapSample = bootstrapResample(sample)\n",
    "        bootstrapMean[i] = np.mean(bootstrapSample)\n",
    "    return bootstrapMean\n",
    "\n",
    "bootstrapMeans = bootstrapMean(np.array(lawdf.GPA),1000)\n",
    "bootstrapMeans[0:10] # print first 10 bootstrap replicates"
   ]
  },
  {
   "cell_type": "code",
   "execution_count": 115,
   "metadata": {
    "collapsed": false
   },
   "outputs": [
    {
     "data": {
      "image/png": "[encoded data removed]",
      "text/plain": [
       "<matplotlib.figure.Figure at 0x8324470>"
      ]
     },
     "metadata": {},
     "output_type": "display_data"
    }
   ],
   "source": [
    "plt.hist(bootstrapMeans,bins=35,color='g')\n",
    "plt.title(\"Histogram of bootstrap replicates of the sample mean of GPA\",y=1.08)\n",
    "plt.xlabel(r\"$\\bar{x}^*_b$\")\n",
    "plt.ylabel(\"Frequency\")\n",
    "plt.annotate(r'Observed $\\bar{x}$', xy=(np.mean(lawdf.GPA), 80), xytext=(290, 90),\n",
    "            arrowprops=dict(facecolor='black', shrink=0.05))\n",
    "plt.axvline(np.mean(lawdf.GPA),color='teal')\n",
    "plt.show()"
   ]
  },
  {
   "cell_type": "code",
   "execution_count": 151,
   "metadata": {
    "collapsed": false
   },
   "outputs": [
    {
     "data": {
      "text/plain": [
       "6.0907166192533664"
      ]
     },
     "execution_count": 151,
     "metadata": {},
     "output_type": "execute_result"
    }
   ],
   "source": [
    "seMean = np.std(bootstrapMeans, ddof=1)\n",
    "seMean"
   ]
  },
  {
   "cell_type": "markdown",
   "metadata": {},
   "source": [
    "We can compare this value to the theoretical standard error of the sample mean, based on the central limit theorem which tells us that the sampling distribution of the sample mean is given by: $ \\bar{X}\\sim N(\\mu,\\dfrac{\\sigma^{2}}{n})$, which we can approximate by plugging in the sample variance:\n",
    "\n",
    "$$ \\text{SE}_\\bar{x}\\ = \\frac{s}{\\sqrt{n}} $$"
   ]
  },
  {
   "cell_type": "code",
   "execution_count": 152,
   "metadata": {
    "collapsed": false
   },
   "outputs": [
    {
     "data": {
      "text/plain": [
       "6.0742565464913136"
      ]
     },
     "execution_count": 152,
     "metadata": {},
     "output_type": "execute_result"
    }
   ],
   "source": [
    "np.std(np.array(lawdf.GPA))/math.sqrt(15)"
   ]
  },
  {
   "cell_type": "markdown",
   "metadata": {},
   "source": [
    "As you can see the bootstrap result is quite close to the classical one."
   ]
  },
  {
   "cell_type": "markdown",
   "metadata": {
    "collapsed": true
   },
   "source": [
    "We can do the same thing for the **sample variance**: generate *bootstrap samples*, calculate the *bootstrap replicates*, generate a *histogram* and calculate the *standard error*."
   ]
  },
  {
   "cell_type": "code",
   "execution_count": 153,
   "metadata": {
    "collapsed": false,
    "scrolled": false
   },
   "outputs": [
    {
     "data": {
      "text/plain": [
       "array([ 421.97333333,  647.17333333,  687.42222222,  489.84      ,\n",
       "        357.44888889,  634.59555556,  461.02222222,  611.49333333,\n",
       "        726.72888889,  848.16      ])"
      ]
     },
     "execution_count": 153,
     "metadata": {},
     "output_type": "execute_result"
    }
   ],
   "source": [
    "def bootstrapVar(sample,replicates): # replicates is number of bootstraps sample to take\n",
    "    \"\"\" \n",
    "This function returns the bootstrap replicates for the mean based on the input sample.\n",
    "\n",
    "Args: sample (numpy array): the observed data in array format (n x 1) from which to sample\n",
    "      replicates (int): number of bootstrap samples to perform\n",
    "          \n",
    "Returns: bootstrapCorr (numpy array): a new array (replicates x 1) containing the means for each bootstrap sample.\n",
    "    \"\"\"\n",
    "    n = len(sample)\n",
    "    bootstrapVar = np.zeros(replicates)\n",
    "    for i in range(replicates):\n",
    "        bootstrapSample = bootstrapResample(sample)\n",
    "        bootstrapVar[i] = np.var(bootstrapSample)\n",
    "    return bootstrapVar\n",
    "bootstrapVars = bootstrapVar(np.array(lawdf.GPA),1000)\n",
    "bootstrapVars[0:10] # print first 10 bootstrap replicates"
   ]
  },
  {
   "cell_type": "code",
   "execution_count": 154,
   "metadata": {
    "collapsed": false
   },
   "outputs": [
    {
     "data": {
      "image/png": "[encoded data removed]",
      "text/plain": [
       "<matplotlib.figure.Figure at 0x5d1d860>"
      ]
     },
     "metadata": {},
     "output_type": "display_data"
    }
   ],
   "source": [
    "plt.hist(bootstrapVars,bins=35,color='teal')\n",
    "plt.title(\"Histogram of bootstrap replicates of the sample variance of GPA\",y=1.08)\n",
    "plt.xlabel(r\"$s^{2*}_b$\")\n",
    "plt.ylabel(\"Frequency\")\n",
    "plt.annotate(r'Observed $s^2$', xy=(np.var(lawdf.GPA), 40), xytext=(200, 60),\n",
    "            arrowprops=dict(facecolor='black', shrink=0.05))\n",
    "plt.axvline(np.var(lawdf.GPA),color='red')\n",
    "plt.show()"
   ]
  },
  {
   "cell_type": "code",
   "execution_count": 155,
   "metadata": {
    "collapsed": false
   },
   "outputs": [
    {
     "data": {
      "text/plain": [
       "125.19543999073207"
      ]
     },
     "execution_count": 155,
     "metadata": {},
     "output_type": "execute_result"
    }
   ],
   "source": [
    "seVar = np.std(bootstrapVars, ddof=1)\n",
    "seVar"
   ]
  },
  {
   "cell_type": "markdown",
   "metadata": {},
   "source": [
    "The standard error of the sample variance is given by: $$ \\sqrt{\\frac{2\\sigma^4 }{n-1}} $$\n",
    "\n",
    "Oddly, this estimate is quite different from the bootstrap one and he histogram does not suggest a $\\chi^2$ distribution either."
   ]
  },
  {
   "cell_type": "code",
   "execution_count": 156,
   "metadata": {
    "collapsed": false,
    "scrolled": true
   },
   "outputs": [
    {
     "data": {
      "text/plain": [
       "209.1840176264312"
      ]
     },
     "execution_count": 156,
     "metadata": {},
     "output_type": "execute_result"
    }
   ],
   "source": [
    "math.sqrt(2*np.var(np.array(lawdf.GPA))**2 / (len(lawdf.GPA) - 1) )"
   ]
  },
  {
   "cell_type": "markdown",
   "metadata": {},
   "source": [
    "The estimate based on the fourth moment comes closer: $${\\sigma^4\\,(n-3)\\over n\\,(n-1)}$$."
   ]
  },
  {
   "cell_type": "code",
   "execution_count": 157,
   "metadata": {
    "collapsed": false
   },
   "outputs": [
    {
     "data": {
      "text/plain": [
       "132.29958916086636"
      ]
     },
     "execution_count": 157,
     "metadata": {},
     "output_type": "execute_result"
    }
   ],
   "source": [
    "math.sqrt((np.var(np.array(lawdf.GPA))**2 * (len(lawdf.GPA) - 3) ) / (len(lawdf.GPA) * ((len(lawdf.GPA) - 1))))"
   ]
  },
  {
   "cell_type": "markdown",
   "metadata": {},
   "source": [
    "One possible explanation for the discrepancy is that the first formula assumes a normal distribution for GPA, which might not be correct."
   ]
  },
  {
   "cell_type": "code",
   "execution_count": 158,
   "metadata": {
    "collapsed": false
   },
   "outputs": [
    {
     "data": {
      "image/png": "[encoded data removed]",
      "text/plain": [
       "<matplotlib.figure.Figure at 0x83d84a8>"
      ]
     },
     "metadata": {},
     "output_type": "display_data"
    }
   ],
   "source": [
    "plt.hist(lawdf.GPA,bins=35,color='blue')\n",
    "plt.title(\"Histogram of GPA scores\",y=1.08)\n",
    "plt.xlabel(r\"GPA\")\n",
    "plt.ylabel(\"Frequency\")\n",
    "plt.show()"
   ]
  },
  {
   "cell_type": "markdown",
   "metadata": {},
   "source": [
    "#### How many bootstrap samples do we need?"
   ]
  },
  {
   "cell_type": "markdown",
   "metadata": {},
   "source": [
    "Now we'll compare the results for different amounts of bootstrap samples, starting with the sample mean."
   ]
  },
  {
   "cell_type": "code",
   "execution_count": 159,
   "metadata": {
    "collapsed": false
   },
   "outputs": [
    {
     "name": "stdout",
     "output_type": "stream",
     "text": [
      "25: ------------------    5.11940824127\n"
     ]
    },
    {
     "data": {
      "image/png": "[encoded data removed]",
      "text/plain": [
       "<matplotlib.figure.Figure at 0x60508d0>"
      ]
     },
     "metadata": {},
     "output_type": "display_data"
    },
    {
     "name": "stdout",
     "output_type": "stream",
     "text": [
      "50: ------------------    6.63697004879\n"
     ]
    },
    {
     "data": {
      "image/png": "[encoded data removed]",
      "text/plain": [
       "<matplotlib.figure.Figure at 0x5e32c18>"
      ]
     },
     "metadata": {},
     "output_type": "display_data"
    },
    {
     "name": "stdout",
     "output_type": "stream",
     "text": [
      "75: ------------------    6.28959768499\n"
     ]
    },
    {
     "data": {
      "image/png": "[encoded data removed]",
      "text/plain": [
       "<matplotlib.figure.Figure at 0x9a5a7b8>"
      ]
     },
     "metadata": {},
     "output_type": "display_data"
    },
    {
     "name": "stdout",
     "output_type": "stream",
     "text": [
      "100: ------------------    6.55701760789\n"
     ]
    },
    {
     "data": {
      "image/png": "[encoded data removed]",
      "text/plain": [
       "<matplotlib.figure.Figure at 0x608fa90>"
      ]
     },
     "metadata": {},
     "output_type": "display_data"
    },
    {
     "name": "stdout",
     "output_type": "stream",
     "text": [
      "2500: ------------------    5.96040520669\n"
     ]
    },
    {
     "data": {
      "image/png": "[encoded data removed]",
      "text/plain": [
       "<matplotlib.figure.Figure at 0x5f68940>"
      ]
     },
     "metadata": {},
     "output_type": "display_data"
    },
    {
     "name": "stdout",
     "output_type": "stream",
     "text": [
      "7500: ------------------    6.07729504782\n"
     ]
    },
    {
     "data": {
      "image/png": "[encoded data removed]",
      "text/plain": [
       "<matplotlib.figure.Figure at 0x5cbb978>"
      ]
     },
     "metadata": {},
     "output_type": "display_data"
    },
    {
     "name": "stdout",
     "output_type": "stream",
     "text": [
      "10000: ------------------    6.03952663155\n"
     ]
    },
    {
     "data": {
      "image/png": "[encoded data removed]",
      "text/plain": [
       "<matplotlib.figure.Figure at 0x830b278>"
      ]
     },
     "metadata": {},
     "output_type": "display_data"
    }
   ],
   "source": [
    "for i in [25,50,75,100,2500,7500,10000]:\n",
    "    bootstrapMeans = bootstrapMean(np.array(lawdf.GPA),i)\n",
    "    seM = np.std(bootstrapMeans, ddof=1)\n",
    "    print(str(i)+': '.ljust(20, '-') + str(seM).rjust(17))\n",
    "    plt.hist(bootstrapMeans,bins=35,color='g')\n",
    "    plt.xlabel(r\"$\\bar{x}^*_b$\")\n",
    "    plt.ylabel(\"Frequency\")\n",
    "    plt.axvline(np.mean(lawdf.GPA),color='red')\n",
    "    plt.show()"
   ]
  },
  {
   "cell_type": "markdown",
   "metadata": {},
   "source": [
    "And now the **sample variance**:"
   ]
  },
  {
   "cell_type": "code",
   "execution_count": 164,
   "metadata": {
    "collapsed": false
   },
   "outputs": [
    {
     "name": "stdout",
     "output_type": "stream",
     "text": [
      "25: ------------------     88.575952776\n"
     ]
    },
    {
     "data": {
      "image/png": "[encoded data removed]",
      "text/plain": [
       "<matplotlib.figure.Figure at 0x60d08d0>"
      ]
     },
     "metadata": {},
     "output_type": "display_data"
    },
    {
     "name": "stdout",
     "output_type": "stream",
     "text": [
      "50: ------------------    128.279729652\n"
     ]
    },
    {
     "data": {
      "image/png": "[encoded data removed]",
      "text/plain": [
       "<matplotlib.figure.Figure at 0x5bec860>"
      ]
     },
     "metadata": {},
     "output_type": "display_data"
    },
    {
     "name": "stdout",
     "output_type": "stream",
     "text": [
      "75: ------------------    126.597469713\n"
     ]
    },
    {
     "data": {
      "image/png": "[encoded data removed]",
      "text/plain": [
       "<matplotlib.figure.Figure at 0x9493128>"
      ]
     },
     "metadata": {},
     "output_type": "display_data"
    },
    {
     "name": "stdout",
     "output_type": "stream",
     "text": [
      "100: ------------------    124.243451477\n"
     ]
    },
    {
     "data": {
      "image/png": "[encoded data removed]",
      "text/plain": [
       "<matplotlib.figure.Figure at 0x9a450b8>"
      ]
     },
     "metadata": {},
     "output_type": "display_data"
    },
    {
     "name": "stdout",
     "output_type": "stream",
     "text": [
      "2500: ------------------     125.03207296\n"
     ]
    },
    {
     "data": {
      "image/png": "[encoded data removed]",
      "text/plain": [
       "<matplotlib.figure.Figure at 0x9ab2b38>"
      ]
     },
     "metadata": {},
     "output_type": "display_data"
    },
    {
     "name": "stdout",
     "output_type": "stream",
     "text": [
      "7500: ------------------    122.050771292\n"
     ]
    },
    {
     "data": {
      "image/png": "[encoded data removed]",
      "text/plain": [
       "<matplotlib.figure.Figure at 0x5ff90f0>"
      ]
     },
     "metadata": {},
     "output_type": "display_data"
    },
    {
     "name": "stdout",
     "output_type": "stream",
     "text": [
      "10000: ------------------    122.425518245\n"
     ]
    },
    {
     "data": {
      "image/png": "[encoded data removed]",
      "text/plain": [
       "<matplotlib.figure.Figure at 0x5e94e80>"
      ]
     },
     "metadata": {},
     "output_type": "display_data"
    }
   ],
   "source": [
    "for i in [25,50,75,100,2500,7500,10000]:\n",
    "    bootstrapVars = bootstrapVar(np.array(lawdf.GPA),i)\n",
    "    seV = np.std(bootstrapVars, ddof=1)\n",
    "    print(str(i)+': '.ljust(20, '-') + str(seV).rjust(17))\n",
    "    plt.hist(bootstrapVars,bins=35,color='teal')\n",
    "    plt.xlabel(r\"$s^{2*}_b$\")\n",
    "    plt.ylabel(\"Frequency\")\n",
    "    plt.axvline(np.var(lawdf.GPA),color='red')\n",
    "    plt.show()"
   ]
  },
  {
   "cell_type": "markdown",
   "metadata": {},
   "source": [
    "## Question 3: Maximum wind speed"
   ]
  },
  {
   "cell_type": "code",
   "execution_count": 166,
   "metadata": {
    "collapsed": true
   },
   "outputs": [],
   "source": [
    "wind = np.array([7.4, 8, 12.6, 11.5, 14.3, 14.9, 8.6, 13.8, 20.1, 8.6, 6.9, 9.7, 9.2, 10.9, 13.2, 11.5, 12, 18.4, 11.5, 9.7, 9.7, 16.6, 9.7, 12, 16.6, 14.9, 8, 12, 14.9, 5.7, 7.4, 8.6, 9.7, 16.1, 9.2, 8.6, 14.3, 9.7, 6.9, 13.8, 11.5, 10.9, 9.2, 8, 13.8, 11.5, 14.9, 20.7, 9.2, 11.5, 10.3, 6.3, 1.7, 4.6, 6.3, 8, 8, 10.3, 11.5, 14.9, 8, 4.1, 9.2, 9.2, 10.9, 4.6, 10.9, 5.1, 6.3, 5.7, 7.4, 8.6, 14.3, 14.9, 14.9, 14.3, 6.9, 10.3, 6.3, 5.1, 11.5, 6.9, 9.7, 11.5, 8.6, 8, 8.6, 12, 7.4, 7.4, 7.4, 9.2, 6.9, 13.8, 7.4, 6.9, 7.4, 4.6, 4, 10.3, 8, 8.6, 11.5, 11.5, 11.5, 9.7, 11.5, 10.3, 6.3, 7.4, 10.9, 10.3, 15.5, 14.3, 12.6, 9.7, 3.4, 8, 5.7, 9.7, 2.3, 6.3, 6.3, 6.9, 5.1, 2.8, 4.6, 7.4, 15.5, 10.9, 10.3, 10.9, 9.7, 14.9, 15.5, 6.3, 10.9, 11.5, 6.9, 13.8, 10.3, 10.3, 8, 12.6, 9.2, 10.3, 10.3, 16.6, 6.9, 13.2, 14.3, 8, 11.5])"
   ]
  },
  {
   "cell_type": "code",
   "execution_count": 169,
   "metadata": {
    "collapsed": false,
    "scrolled": true
   },
   "outputs": [
    {
     "data": {
      "text/plain": [
       "<function matplotlib.pyplot.show>"
      ]
     },
     "execution_count": 169,
     "metadata": {},
     "output_type": "execute_result"
    },
    {
     "data": {
      "image/png": "[encoded data removed]",
      "text/plain": [
       "<matplotlib.figure.Figure at 0x5e451d0>"
      ]
     },
     "metadata": {},
     "output_type": "display_data"
    }
   ],
   "source": [
    "plt.hist(wind,bins=35,color='purple')\n",
    "plt.title(\"Histogram of wind speeds\",y=1.08)\n",
    "plt.xlabel(r\"Wind speed\")\n",
    "plt.ylabel(\"Frequency\")\n",
    "plt.show"
   ]
  },
  {
   "cell_type": "code",
   "execution_count": 171,
   "metadata": {
    "collapsed": false
   },
   "outputs": [
    {
     "data": {
      "text/plain": [
       "20.699999999999999"
      ]
     },
     "execution_count": 171,
     "metadata": {},
     "output_type": "execute_result"
    }
   ],
   "source": [
    "np.max(wind)"
   ]
  },
  {
   "cell_type": "markdown",
   "metadata": {},
   "source": [
    "### Non parametric bootstrap"
   ]
  },
  {
   "cell_type": "code",
   "execution_count": 197,
   "metadata": {
    "collapsed": false
   },
   "outputs": [
    {
     "data": {
      "text/plain": [
       "array([ 20.7,  20.1,  20.7,  20.7,  20.7,  20.7,  20.1,  18.4,  20.1,\n",
       "        20.1,  20.7,  20.7,  20.1,  20.7,  20.1,  20.1,  16.6,  20.7,\n",
       "        20.7,  20.7,  20.7,  20.7,  20.1,  20.7,  20.7,  20.7,  20.7,\n",
       "        20.1,  20.7,  20.1,  20.7,  18.4,  20.7,  20.7,  20.1,  20.7,\n",
       "        20.1,  20.7,  20.7,  20.7])"
      ]
     },
     "execution_count": 197,
     "metadata": {},
     "output_type": "execute_result"
    }
   ],
   "source": [
    "def bootstrapMax(sample,replicates): # replicates is number of bootstraps sample to take\n",
    "    \"\"\" \n",
    "This function returns the bootstrap replicates for the mean based on the input sample.\n",
    "\n",
    "Args: sample (numpy array): the observed data in array format (n x 1) from which to sample\n",
    "      replicates (int): number of bootstrap samples to perform\n",
    "          \n",
    "Returns: bootstrapCorr (numpy array): a new array (replicates x 1) containing the means for each bootstrap sample.\n",
    "    \"\"\"\n",
    "    n = len(sample)\n",
    "    bootstrapMaxs = np.zeros(replicates)\n",
    "    for i in range(replicates):\n",
    "        bootstrapSample = bootstrapResample(sample)\n",
    "        bootstrapMaxs[i] = np.max(bootstrapSample)\n",
    "    return bootstrapMaxs\n",
    "bootstrapMaxs = bootstrapMax(np.array(wind),1000)\n",
    "bootstrapMaxs[0:40] # print first 10 bootstrap replicates"
   ]
  },
  {
   "cell_type": "code",
   "execution_count": 198,
   "metadata": {
    "collapsed": false
   },
   "outputs": [
    {
     "data": {
      "text/plain": [
       "1.0616304532271192"
      ]
     },
     "execution_count": 198,
     "metadata": {},
     "output_type": "execute_result"
    }
   ],
   "source": [
    "seMax = np.std(bootstrapMaxs, ddof=1)\n",
    "seMax"
   ]
  }
 ],
 "metadata": {
  "kernelspec": {
   "display_name": "Python 3",
   "language": "python",
   "name": "python3"
  },
  "language_info": {
   "codemirror_mode": {
    "name": "ipython",
    "version": 3
   },
   "file_extension": ".py",
   "mimetype": "text/x-python",
   "name": "python",
   "nbconvert_exporter": "python",
   "pygments_lexer": "ipython3",
   "version": "3.5.1"
  }
 },
 "nbformat": 4,
 "nbformat_minor": 0
}
