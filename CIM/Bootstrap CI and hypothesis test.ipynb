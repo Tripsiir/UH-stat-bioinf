{
 "cells": [
  {
   "cell_type": "markdown",
   "metadata": {},
   "source": [
    "# Computer Intensive Methods - Homework 1 - 13 October 2015"
   ]
  },
  {
   "cell_type": "markdown",
   "metadata": {},
   "source": [
    "## 1.1 Estimate the mean of the ozone levels and use a non-parametric bootstrap to obtain its standard error"
   ]
  },
  {
   "cell_type": "code",
   "execution_count": 2,
   "metadata": {
    "collapsed": false,
    "scrolled": true
   },
   "outputs": [
    {
     "data": {
      "text/plain": [
       "array([ 41,  36,  12,  18,  28,  23,  19,   8,   7,  16,  11,  14,  18,\n",
       "        14,  34,   6,  30,  11,   1,  11,   4,  32,  23,  45, 115,  37,\n",
       "        29,  71,  39,  23,  21,  37,  20,  12,  13, 135,  49,  32,  64,\n",
       "        40,  77,  97,  97,  85,  10,  27,   7,  48,  35,  61,  79,  63,\n",
       "        16,  80, 108,  20,  52,  82,  50,  64,  59,  39,   9,  16,  78,\n",
       "        35,  66, 122,  89, 110,  44,  28,  65,  22,  59,  23,  31,  44,\n",
       "        21,   9,  45, 168,  73,  76, 118,  84,  85,  96,  78,  73,  91,\n",
       "        47,  32,  20,  23,  21,  24,  44,  21,  28,   9,  13,  46,  18,\n",
       "        13,  24,  16,  13,  23,  36,   7,  14,  30,  14,  18,  20])"
      ]
     },
     "execution_count": 2,
     "metadata": {},
     "output_type": "execute_result"
    }
   ],
   "source": [
    "import math\n",
    "import numpy as np # Imports the numpy package for easy matrix manipulation\n",
    "import pandas as pd # Imports the pandas package for data frame manipulation\n",
    "from scipy import stats\n",
    "import matplotlib # Imports plotting capabilities\n",
    "import matplotlib.pyplot as plt\n",
    "from matplotlib import style # Sets graphics style\n",
    "style.use('ggplot')\n",
    "%matplotlib inline\n",
    "\n",
    "ozone = np.array([41, 36, 12, 18, 28, 23, 19, 8, 7, 16, 11, 14, 18, 14,\n",
    "                  34, 6, 30, 11, 1, 11, 4, 32, 23, 45, 115, 37, 29, 71,\n",
    "                  39, 23, 21, 37, 20, 12, 13, 135, 49, 32, 64, 40, 77, 97,\n",
    "                  97, 85, 10, 27, 7, 48, 35, 61, 79, 63, 16, 80, 108, 20,\n",
    "                  52, 82, 50, 64, 59, 39, 9, 16, 78, 35, 66, 122, 89, 110,\n",
    "                  44, 28, 65, 22, 59, 23, 31, 44, 21, 9, 45, 168, 73, 76,\n",
    "                  118, 84, 85, 96, 78, 73, 91, 47, 32, 20, 23, 21, 24, 44,\n",
    "                  21, 28, 9, 13, 46, 18, 13, 24, 16, 13, 23, 36, 7, 14, 30, 14, 18, 20])\n",
    "ozone"
   ]
  },
  {
   "cell_type": "code",
   "execution_count": 15,
   "metadata": {
    "collapsed": false
   },
   "outputs": [
    {
     "data": {
      "image/png": "[encoded data removed]",
      "text/plain": [
       "<matplotlib.figure.Figure at 0x86e1358>"
      ]
     },
     "metadata": {},
     "output_type": "display_data"
    }
   ],
   "source": [
    "plt.hist(ozone,bins=35,color='purple',alpha=1)\n",
    "plt.title(\"Histogram of ozone levels.\",y=1.08)\n",
    "plt.xlabel(r\"Ozone level\")\n",
    "plt.ylabel(\"Frequency\")\n",
    "plt.annotate(r'$\\bar{x}$', xy=(ozoneMean, 60), xytext=(50, 50),\n",
    "            arrowprops=dict(facecolor='black', shrink=0.05))\n",
    "plt.axvline(ozoneMean,color='orange')\n",
    "plt.show()"
   ]
  },
  {
   "cell_type": "markdown",
   "metadata": {},
   "source": [
    "We can estimate the mean of ozone using the **sample mean**:\n",
    "\n",
    "$$\\bar{x} = \\frac{1}{N} \\sum\\limits_{i=1}^N x_i$$"
   ]
  },
  {
   "cell_type": "code",
   "execution_count": 3,
   "metadata": {
    "collapsed": false
   },
   "outputs": [
    {
     "data": {
      "text/plain": [
       "42.129310344827587"
      ]
     },
     "execution_count": 3,
     "metadata": {},
     "output_type": "execute_result"
    }
   ],
   "source": [
    "ozoneMean = np.mean(ozone)\n",
    "ozoneMean"
   ]
  },
  {
   "cell_type": "markdown",
   "metadata": {},
   "source": [
    "The **non-parametric** bootstrap procedure consists of *resampling with replacement from the observed data*. In other words, we sample from the empirical distribution $\\hat{F}$."
   ]
  },
  {
   "cell_type": "code",
   "execution_count": 6,
   "metadata": {
    "collapsed": false
   },
   "outputs": [
    {
     "data": {
      "text/plain": [
       "array([ 79, 168,  14,  59,  24,  11,  32,  21,  34,  12,  44,  13,   7,\n",
       "        34,  49,  13,  21,  85,  76,  44,  23,  34,  16,  20,  20,  13,\n",
       "       108,  14,  97,   8,  14,  78,  18,  44, 168,  16,  44,  16, 115,\n",
       "        85,  10,   9, 110,   4,  12,   7,  16,  39,  35,   4,  63,  64,\n",
       "        35,  14,  37,  16,  23,  12,  32,  47,  71,   8,  14,  28,  76,\n",
       "        11,  48,  22,  30,  59,  44,  24,  37,  12,  27,  23,  12,  22,\n",
       "        14,  30,  12,  13,  23,  37,  18,  11,  45,  44,  16,  78,   7,\n",
       "        44,  97,  61,  23,  13,  85,  31,   6,  12,  16, 168,  10,  12,\n",
       "        13,  44,  65,  23,  21,   7,  27,  16,   9,  65,  64,  63])"
      ]
     },
     "execution_count": 6,
     "metadata": {},
     "output_type": "execute_result"
    }
   ],
   "source": [
    "def bootstrapResample(sample):\n",
    "    \"\"\" This function returns a random sample of rows drawn with replacement from the provided array.\n",
    "    \n",
    "    Args: sample (numpy array): the observed data in array format (n x 2) from which to sample.\n",
    "    \n",
    "    Returns: bootstrapSample (numpy array): a new array with random rows sampled from the input.\n",
    "    \"\"\"\n",
    "    n = len(sample) # bootstrap samples have the same size as the original sample\n",
    "    bootstrapSample = sample[np.random.choice(n, n)] # random.choice returns a vector of size n with random digits\n",
    "                                                     # between 0 and 14, then we slice the input array using this vector\n",
    "    return bootstrapSample\n",
    "bootstrapResample(ozone)"
   ]
  },
  {
   "cell_type": "markdown",
   "metadata": {},
   "source": [
    "When we repeat the process a *thousand times* and calculate sample means for each bootstrap sample (**bootstrap replicates**) we can generate a **histogram** (an approximation of the **sampling distribution**) and calculate the **standard errors** of $\\bar{x}$, i.e. the sample standard deviation of our bootstrap replicates."
   ]
  },
  {
   "cell_type": "code",
   "execution_count": 11,
   "metadata": {
    "collapsed": false
   },
   "outputs": [
    {
     "data": {
      "text/plain": [
       "array([ 42.69827586,  37.85344828,  43.98275862,  43.07758621,\n",
       "        39.88793103,  40.23275862,  42.85344828,  43.04310345,\n",
       "        38.97413793,  42.23275862])"
      ]
     },
     "execution_count": 11,
     "metadata": {},
     "output_type": "execute_result"
    }
   ],
   "source": [
    "def bootstrapMean(sample,replicates): # replicates is number of bootstraps sample to take\n",
    "    \"\"\" \n",
    "This function returns the bootstrap replicates for the mean based on the input sample.\n",
    "\n",
    "Args: sample (numpy array): the observed data in array format (n x 1) from which to sample\n",
    "      replicates (int): number of bootstrap samples to perform\n",
    "          \n",
    "Returns: bootstrapCorr (numpy array): a new array (replicates x 1) containing the means for each bootstrap sample.\n",
    "    \"\"\"\n",
    "    n = len(sample)\n",
    "    bootstrapMean = np.zeros(replicates)\n",
    "    for i in range(replicates):\n",
    "        bootstrapSample = bootstrapResample(sample)\n",
    "        bootstrapMean[i] = np.mean(bootstrapSample)\n",
    "    return bootstrapMean\n",
    "\n",
    "bootstrapMeans = bootstrapMean(ozone,1000)\n",
    "bootstrapMeans[0:10] # print first 10 bootstrap replicates"
   ]
  },
  {
   "cell_type": "code",
   "execution_count": 12,
   "metadata": {
    "collapsed": false,
    "scrolled": false
   },
   "outputs": [
    {
     "data": {
      "image/png": "[encoded data removed]",
      "text/plain": [
       "<matplotlib.figure.Figure at 0x97a8710>"
      ]
     },
     "metadata": {},
     "output_type": "display_data"
    }
   ],
   "source": [
    "plt.hist(bootstrapMeans,bins=35,color='orange',alpha=1)\n",
    "plt.title(\"Histogram of bootstrap replicates of the sample mean of ozone levels.\",y=1.08)\n",
    "plt.xlabel(r\"$\\bar{x}^*_b}$\")\n",
    "plt.ylabel(\"Frequency\")\n",
    "plt.annotate(r'Observed $\\bar{x}$', xy=(ozoneMean, 60), xytext=(43, 75),\n",
    "            arrowprops=dict(facecolor='black', shrink=0.05))\n",
    "plt.axvline(ozoneMean,color='purple')\n",
    "plt.show()"
   ]
  },
  {
   "cell_type": "markdown",
   "metadata": {},
   "source": [
    "The bootstrap standard error of the sample mean is: $$ \\hat{se}_B = \\sqrt{\\frac{\\sum (\\bar{x}^*_b - \\bar{x}^*.)^2} {B-1}} $$"
   ]
  },
  {
   "cell_type": "code",
   "execution_count": 18,
   "metadata": {
    "collapsed": false
   },
   "outputs": [
    {
     "name": "stdout",
     "output_type": "stream",
     "text": [
      "3.07237180492\n"
     ]
    }
   ],
   "source": [
    "seMean = np.std(bootstrapMeans, ddof=1)\n",
    "print(seMean)"
   ]
  },
  {
   "cell_type": "markdown",
   "metadata": {},
   "source": [
    "Compared to the theoretical one $$ \\text{SE}_\\bar{x}\\ = \\frac{s}{\\sqrt{n}} $$"
   ]
  },
  {
   "cell_type": "code",
   "execution_count": 17,
   "metadata": {
    "collapsed": false
   },
   "outputs": [
    {
     "data": {
      "text/plain": [
       "3.0628481853266725"
      ]
     },
     "execution_count": 17,
     "metadata": {},
     "output_type": "execute_result"
    }
   ],
   "source": [
    "np.std(ozone,ddof=1) / math.sqrt(len(ozone))"
   ]
  },
  {
   "cell_type": "markdown",
   "metadata": {},
   "source": [
    "## 1.2 Confidence interval for ozone"
   ]
  },
  {
   "cell_type": "markdown",
   "metadata": {},
   "source": [
    "The classical confidence interval for the sample mean of a normally distributed random variable with unknown variance is given by:\n",
    "\n",
    "$$\n",
    "[\\, \\hat\\mu - t_{n-1,1-\\alpha/2}\\,  \\frac{1}{\\sqrt{n}}s,\\ \\ \n",
    "                      \\hat\\mu + t_{n-1,1-\\alpha/2}\\,\\frac{1}{\\sqrt{n}}s \\,]\n",
    "$$\n",
    "\n",
    "where $s$ is the sample standard deviation, $\\hat{\\mu}$ is the sample mean $\\bar{x}$, $n$ is the sample size and $t_{n-1,1-\\alpha/2}$ is a quantile of the t-distribution."
   ]
  },
  {
   "cell_type": "code",
   "execution_count": 25,
   "metadata": {
    "collapsed": false
   },
   "outputs": [
    {
     "data": {
      "text/plain": [
       "32.987884514433951"
      ]
     },
     "execution_count": 25,
     "metadata": {},
     "output_type": "execute_result"
    }
   ],
   "source": [
    "ozoneSD = np.std(ozone, ddof=1)\n",
    "ozoneSD"
   ]
  },
  {
   "cell_type": "code",
   "execution_count": 35,
   "metadata": {
    "collapsed": false
   },
   "outputs": [
    {
     "data": {
      "text/plain": [
       "(36.062397562188522, 48.196223127466652)"
      ]
     },
     "execution_count": 35,
     "metadata": {},
     "output_type": "execute_result"
    }
   ],
   "source": [
    "stats.t.interval(0.95, loc=ozoneMean, scale=ozoneSD/math.sqrt(ozone.shape[0]),df=ozone.shape[0]-1)"
   ]
  },
  {
   "cell_type": "markdown",
   "metadata": {},
   "source": [
    "## 2.1 Non-parametric bootstrap to test hypothesis about correlation coefficient"
   ]
  },
  {
   "cell_type": "code",
   "execution_count": 9,
   "metadata": {
    "collapsed": false,
    "scrolled": false
   },
   "outputs": [
    {
     "name": "stderr",
     "output_type": "stream",
     "text": [
      "C:\\Miniconda3\\envs\\snowflakes\\lib\\site-packages\\matplotlib\\collections.py:590: FutureWarning: elementwise comparison failed; returning scalar instead, but in the future will perform elementwise comparison\n",
      "  if self._edgecolors == str('face'):\n"
     ]
    },
    {
     "data": {
      "image/png": "[encoded data removed]",
      "text/plain": [
       "<matplotlib.figure.Figure at 0x971eba8>"
      ]
     },
     "metadata": {},
     "output_type": "display_data"
    },
    {
     "data": {
      "image/png": "[encoded data removed]",
      "text/plain": [
       "<matplotlib.figure.Figure at 0x966fda0>"
      ]
     },
     "metadata": {},
     "output_type": "display_data"
    },
    {
     "data": {
      "image/png": "[encoded data removed]",
      "text/plain": [
       "<matplotlib.figure.Figure at 0x9603748>"
      ]
     },
     "metadata": {},
     "output_type": "display_data"
    }
   ],
   "source": [
    "speed = np.array([4, 4, 7, 7, 8, 9, 10, 10, 10, 11, 11, 12, 12, 12, 12, 13,\n",
    "                  13, 13, 13, 14, 14, 14, 14, 15, 15, 15, 16, 16, 17, 17, 17,\n",
    "                  18, 18, 18, 18, 19, 19, 19, 20, 20, 20, 20, 20, 22, 23, 24, 24, 24, 24, 25])\n",
    "distance = np.array([2, 10, 4, 22, 16, 10, 18, 26, 34, 17, 28, 14, 20, 24, 28, 26, 34, 34, \n",
    "                     46, 26, 36, 60, 80, 20, 26, 54, 32, 40, 32, 40, 50, 42, 56, 76, 84, 36, \n",
    "                     46, 68, 32, 48, 52, 56, 64, 66, 54, 70, 92, 93, 120, 85])\n",
    "\n",
    "cars = np.vstack((speed, distance))\n",
    "\n",
    "obsCorr = np.corrcoef(speed,distance)[0,1]\n",
    "\n",
    "plt.scatter(speed,distance,color=['red'],alpha=0.7)\n",
    "plt.xlabel('Speed')\n",
    "plt.ylabel('Distance')\n",
    "plt.title('Scatter plot of car speed and distance.', y=1.08)\n",
    "plt.text(4,100,r'$\\hat{\\rho} = $'+str(obsCorr))\n",
    "plt.show()\n",
    "\n",
    "plt.hist(speed,bins=35,color='orange',alpha=1)\n",
    "plt.title('Histogram of car speeds.', y=1.08)\n",
    "plt.show()\n",
    "\n",
    "plt.hist(distance,bins=35,color='purple',alpha=1)\n",
    "plt.title('Histogram of distances travelled.', y=1.08)\n",
    "plt.show()"
   ]
  },
  {
   "cell_type": "markdown",
   "metadata": {},
   "source": [
    "We want to test the hypothesis:\n",
    "\n",
    "$$\n",
    "H_0 : \\rho(X,Y) = 0 \\text{ vs } H_1: \\rho(X,Y) > 0\n",
    "$$"
   ]
  },
  {
   "cell_type": "markdown",
   "metadata": {},
   "source": [
    "The classical correlation test based on a t-distribution for the correlation coefficient rejects the null hypothesis of no association."
   ]
  },
  {
   "cell_type": "code",
   "execution_count": 10,
   "metadata": {
    "collapsed": false
   },
   "outputs": [
    {
     "data": {
      "text/plain": [
       "1.4898364962950702e-12"
      ]
     },
     "execution_count": 10,
     "metadata": {},
     "output_type": "execute_result"
    }
   ],
   "source": [
    "stats.pearsonr(speed,distance)[1]"
   ]
  },
  {
   "cell_type": "markdown",
   "metadata": {},
   "source": [
    "A parametric bootstrap approach starts by generating bootstrap samples under the null hypothesis, i.e. $\\rho = 0$. In this case there would be no association between x and y, so it would not matter which pairs we consider. For a non-parametric procedure this could be achieved by sampling x and y independently from the observed dataset. \n",
    "\n",
    "For a parametric procedure we instead define two independent distributions for x and y and sample from them. Since we assume that there is association, we will sample from two normal distributions $ x (y) \\sim \\mathcal{N}(\\mu_{x(y)},\\sigma^2_{x(y)}) $ rather than a bivariate normal distributions (which would also be defined by a covariance parameter)."
   ]
  },
  {
   "cell_type": "code",
   "execution_count": 18,
   "metadata": {
    "collapsed": false
   },
   "outputs": [
    {
     "data": {
      "text/plain": [
       "array([ 15.4 ,  42.98])"
      ]
     },
     "execution_count": 18,
     "metadata": {},
     "output_type": "execute_result"
    }
   ],
   "source": [
    "mean = np.mean(cars,axis=1)\n",
    "mean"
   ]
  },
  {
   "cell_type": "code",
   "execution_count": 21,
   "metadata": {
    "collapsed": false
   },
   "outputs": [
    {
     "data": {
      "text/plain": [
       "array([  5.23450093,  25.5103822 ])"
      ]
     },
     "execution_count": 21,
     "metadata": {},
     "output_type": "execute_result"
    }
   ],
   "source": [
    "sd = np.std(cars,axis=1)\n",
    "sd"
   ]
  },
  {
   "cell_type": "code",
   "execution_count": 141,
   "metadata": {
    "collapsed": false
   },
   "outputs": [],
   "source": [
    "def paramBootstrapResample(sample,replicates):\n",
    "    \"\"\" This function returns a random sample of x,y pairs drawn from separate normal distributions based on the provided sample.\n",
    "    \n",
    "    Args: sample (numpy array): the observed data in array format (2 x n) from which to sample.\n",
    "          replicates (int): number of bootstrap samples to generate\n",
    "    \n",
    "    Returns: paramBootstrapSamples (numpy array): x,y arrays with random variables sampled from the multivariate distribution based on the provided \n",
    "                                 sample, of size replicates x sample\n",
    "    \"\"\"\n",
    "    n = sample.shape[1] # bootstrap samples have the same size as the original sample\n",
    "    paramBootstrapSamples = np.zeros((replicates,n,2))\n",
    "    mean = np.mean(sample,axis=1) # calculate the mean vector for x,y\n",
    "    sd = np.std(sample,axis=1) # calculate the standard deviation for x,y\n",
    "    xSample = np.random.normal(mean[0], sd[0], (replicates,n))\n",
    "    ySample = np.random.normal(mean[1], sd[1], (replicates,n))\n",
    "    paramBootstrapSamples[:,:,0],paramBootstrapSamples[:,:,1] = xSample,ySample # array of size replicates x sample size x 2\n",
    "    \n",
    "    return paramBootstrapSamples\n",
    "\n",
    "paramBootstraps = paramBootstrapResample(cars,1000)"
   ]
  },
  {
   "cell_type": "code",
   "execution_count": 177,
   "metadata": {
    "collapsed": false,
    "scrolled": true
   },
   "outputs": [],
   "source": [
    "def CorrCoef(sample):\n",
    "    count = 0\n",
    "    paramBootstrapCorr = np.zeros(sample.shape[0])\n",
    "    for i in sample:\n",
    "        paramBootstrapCorr[count] = np.corrcoef(i[:,0],i[:,1])[0,1]\n",
    "        count += 1\n",
    "    return paramBootstrapCorr\n",
    "Corrs =  CorrCoef(paramBootstraps)"
   ]
  },
  {
   "cell_type": "markdown",
   "metadata": {},
   "source": [
    "The p-value can be obtained as follows:\n",
    "\n",
    "$$\n",
    "P = \\frac{1+\\#\\{|\\hat{\\rho}^*|>|\\hat{\\rho}^{obs}|}{B + 1}\n",
    "$$"
   ]
  },
  {
   "cell_type": "code",
   "execution_count": 198,
   "metadata": {
    "collapsed": false,
    "scrolled": true
   },
   "outputs": [
    {
     "data": {
      "text/plain": [
       "0.000999000999000999"
      ]
     },
     "execution_count": 198,
     "metadata": {},
     "output_type": "execute_result"
    }
   ],
   "source": [
    "P = (1 + (np.absolute(Corrs) > obsCorr).sum() ) / (len(Corrs)+1)\n",
    "P"
   ]
  },
  {
   "cell_type": "code",
   "execution_count": 204,
   "metadata": {
    "collapsed": false
   },
   "outputs": [
    {
     "data": {
      "image/png": "[encoded data removed]",
      "text/plain": [
       "<matplotlib.figure.Figure at 0x973de80>"
      ]
     },
     "metadata": {},
     "output_type": "display_data"
    }
   ],
   "source": [
    "plt.hist(Corrs,bins=35,color='teal',alpha=1)\n",
    "plt.title(\"Histogram of bootstrap replicates of the correlation coefficient.\",y=1.08)\n",
    "plt.xlabel(r\"$\\hat{\\rho}^*_b}$\")\n",
    "plt.ylabel(\"Frequency\")\n",
    "plt.annotate(r'Observed $\\hat{\\rho}$', xy=(obsCorr, 50), xytext=(0.4, 60),\n",
    "            arrowprops=dict(facecolor='black', shrink=0.05))\n",
    "plt.axvline(obsCorr,color='purple')\n",
    "plt.show()"
   ]
  }
 ],
 "metadata": {
  "kernelspec": {
   "display_name": "Python 3",
   "language": "python",
   "name": "python3"
  },
  "language_info": {
   "codemirror_mode": {
    "name": "ipython",
    "version": 3
   },
   "file_extension": ".py",
   "mimetype": "text/x-python",
   "name": "python",
   "nbconvert_exporter": "python",
   "pygments_lexer": "ipython3",
   "version": "3.5.1"
  }
 },
 "nbformat": 4,
 "nbformat_minor": 0
}
