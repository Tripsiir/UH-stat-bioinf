{
 "cells": [
  {
   "cell_type": "markdown",
   "metadata": {},
   "source": [
    "# Lesson 1: Recursive Functions - 16 October 2015"
   ]
  },
  {
   "cell_type": "markdown",
   "metadata": {},
   "source": [
    "Recursive functions are functions that call on themselves. They are basically mathematical rules for computing a value. They work by translating the problem into a smaller subproblem and a stopping rule. E.g. calculating the sum of 0 to n:\n",
    "\n",
    "$$f(n) = \\begin{cases}\n",
    "    0, & \\text{if $x=0$}\\\\\n",
    "    n + f(n-1), & \\text{otherwise}.\n",
    "          \\end{cases}$$"
   ]
  },
  {
   "cell_type": "code",
   "execution_count": 5,
   "metadata": {
    "collapsed": false
   },
   "outputs": [
    {
     "data": {
      "text/plain": [
       "6"
      ]
     },
     "execution_count": 5,
     "metadata": {},
     "output_type": "execute_result"
    }
   ],
   "source": [
    "def sumToNumber(n):\n",
    "    if n == 0:\n",
    "        return 0\n",
    "    else:\n",
    "        return n + sumToNumber(n-1)\n",
    "sumToNumber(3)"
   ]
  },
  {
   "cell_type": "markdown",
   "metadata": {},
   "source": [
    "The following function returns the factorial of a given input number:"
   ]
  },
  {
   "cell_type": "code",
   "execution_count": 311,
   "metadata": {
    "collapsed": true
   },
   "outputs": [],
   "source": [
    "def fact(i):\n",
    "    if i == 1:\n",
    "        return i\n",
    "    else:\n",
    "        return i*fact(i-1)"
   ]
  },
  {
   "cell_type": "code",
   "execution_count": 312,
   "metadata": {
    "collapsed": false
   },
   "outputs": [
    {
     "data": {
      "text/plain": [
       "24"
      ]
     },
     "execution_count": 312,
     "metadata": {},
     "output_type": "execute_result"
    }
   ],
   "source": [
    "fact(4)"
   ]
  },
  {
   "cell_type": "markdown",
   "metadata": {},
   "source": [
    "Similarly, powers can be computed using recursive functions. We also show a non-recursive function and compare the speed of both methods."
   ]
  },
  {
   "cell_type": "code",
   "execution_count": 313,
   "metadata": {
    "collapsed": true
   },
   "outputs": [],
   "source": [
    "def power(i,power):\n",
    "    result = 1\n",
    "    for j in range(power):\n",
    "        result *= i\n",
    "    return result"
   ]
  },
  {
   "cell_type": "code",
   "execution_count": 314,
   "metadata": {
    "collapsed": false,
    "scrolled": true
   },
   "outputs": [
    {
     "data": {
      "text/plain": [
       "27"
      ]
     },
     "execution_count": 314,
     "metadata": {},
     "output_type": "execute_result"
    }
   ],
   "source": [
    "power(3,3)"
   ]
  },
  {
   "cell_type": "code",
   "execution_count": 315,
   "metadata": {
    "collapsed": false
   },
   "outputs": [
    {
     "name": "stdout",
     "output_type": "stream",
     "text": [
      "0.05655582551298721\n"
     ]
    }
   ],
   "source": [
    "if __name__ == '__main__':\n",
    "    import timeit\n",
    "    print(timeit.timeit(\"power(3,30)\", setup=\"from __main__ import power\",number=10000))"
   ]
  },
  {
   "cell_type": "code",
   "execution_count": 316,
   "metadata": {
    "collapsed": false
   },
   "outputs": [],
   "source": [
    "def recursivePower(i,power):\n",
    "    if power == 0:\n",
    "        return 1\n",
    "    else:\n",
    "        i = i*recursivePower(i,power-1)\n",
    "    return i"
   ]
  },
  {
   "cell_type": "code",
   "execution_count": 317,
   "metadata": {
    "collapsed": false,
    "scrolled": true
   },
   "outputs": [
    {
     "data": {
      "text/plain": [
       "27"
      ]
     },
     "execution_count": 317,
     "metadata": {},
     "output_type": "execute_result"
    }
   ],
   "source": [
    "recursivePower(3,3)"
   ]
  },
  {
   "cell_type": "code",
   "execution_count": 318,
   "metadata": {
    "collapsed": false,
    "scrolled": true
   },
   "outputs": [
    {
     "name": "stdout",
     "output_type": "stream",
     "text": [
      "0.16212182371600647\n"
     ]
    }
   ],
   "source": [
    "if __name__ == '__main__':\n",
    "    import timeit\n",
    "    print(timeit.timeit(\"recursivePower(3,30)\", setup=\"from __main__ import recursivePower\",number=10000))"
   ]
  },
  {
   "cell_type": "markdown",
   "metadata": {},
   "source": [
    "The fibonacci sequence also easily lends itself to a recursive method because each consequetive number is a combination of the previous two numbers."
   ]
  },
  {
   "cell_type": "code",
   "execution_count": 15,
   "metadata": {
    "collapsed": false,
    "scrolled": true
   },
   "outputs": [
    {
     "name": "stdout",
     "output_type": "stream",
     "text": [
      "0\n",
      "1\n",
      "1\n",
      "2\n",
      "3\n",
      "5\n",
      "8\n",
      "13\n",
      "21\n",
      "34\n"
     ]
    }
   ],
   "source": [
    "def fibo(x):\n",
    "    old,i=1,0\n",
    "    for j in range(x):\n",
    "        old,i = i,old+i\n",
    "    return i\n",
    "for i in range(10):\n",
    "    print(fibo(i))"
   ]
  },
  {
   "cell_type": "markdown",
   "metadata": {},
   "source": [
    "The final example creates all possible subsets of a natural number n, e.g. $ n = 3 \\Rightarrow [\\{\\},\\{0\\},\\{1\\},\\{2\\},\\{0,1\\},\\{0,2\\},\\{1,2\\}]$"
   ]
  },
  {
   "cell_type": "code",
   "execution_count": 26,
   "metadata": {
    "collapsed": false
   },
   "outputs": [
    {
     "data": {
      "text/plain": [
       "[set(), {1}, {0}, {0, 1}]"
      ]
     },
     "execution_count": 26,
     "metadata": {},
     "output_type": "execute_result"
    }
   ],
   "source": [
    "def all_subsets(n):\n",
    "    L = []\n",
    "    all_subsubsets_rec(n,0,set(),L)\n",
    "    return L\n",
    "\n",
    "def all_subsets_rec(n,i,S,L):\n",
    "    \"\"\"\n",
    "    n is the natural number to take a subset off\n",
    "    S is the final list containing all the subsets S\n",
    "    \"\"\"\n",
    "    if i == n:\n",
    "        L.append(S)\n",
    "    else:\n",
    "        all_subsets_rec(n,i+1,S,L)\n",
    "        all_subsets_rec(n,i+1,S|set([i]),L) # | = union of sets\n",
    "\n",
    "all_subsets(2)"
   ]
  },
  {
   "cell_type": "markdown",
   "metadata": {},
   "source": [
    "all_subsets(2) calls all_subsets_rec(2,0,set(),[])\n",
    "\n",
    "0 is not equal to 2 so we move to the else clause where the function calls itself twice: \n",
    "\n",
    "* with i = 1 and the empty set\n",
    "    \n",
    "    * 1 is not equal to 3 so we move to the else clause where the function calls itself twice:\n",
    "        \n",
    "        * with i = 2 and the empty set\n",
    "            \n",
    "            * 2 = 2 so the if clause is executed and the empty set is appended to L\n",
    "        \n",
    "        * with i = 2 and the set \\{1\\}\n",
    "            \n",
    "            * 2 = 2 so the if clause is executed and the set \\{1\\} is appended to L\n",
    "        \n",
    "* with i = 1 and the set \\{0\\}\n",
    "    \n",
    "    * 1 is not equal to 3 so we move to the else clause where the function calls itself twice:\n",
    "        \n",
    "        * with i = 2 and the set \\{0\\}\n",
    "            \n",
    "            * 2 = 2 so the if clause is executed and the set \\{0\\} is appended to L\n",
    "        \n",
    "        * with i = 2 and the set \\{1,0\\}\n",
    "            \n",
    "            * 2 = 2 so the if clause is executed and the set \\{1,0\\} is appended to L"
   ]
  },
  {
   "cell_type": "markdown",
   "metadata": {},
   "source": [
    "# Exercises 1: Recursive Functions"
   ]
  },
  {
   "cell_type": "markdown",
   "metadata": {},
   "source": [
    "## 1) What does f return?"
   ]
  },
  {
   "cell_type": "markdown",
   "metadata": {},
   "source": [
    "If x is even, the function calls itself again passing half of its original input value. When the input is not an even number, it returns 0. One is added to each function output. In other words, the function returns the number of times a certain number is divisible by 2, i.e. it will return 2 for an input of 4 and 100 for an input of $2^{100}$."
   ]
  },
  {
   "cell_type": "code",
   "execution_count": 234,
   "metadata": {
    "collapsed": false
   },
   "outputs": [
    {
     "data": {
      "text/plain": [
       "100"
      ]
     },
     "execution_count": 234,
     "metadata": {},
     "output_type": "execute_result"
    }
   ],
   "source": [
    "def f(x):\n",
    "    if x % 2 == 0 :\n",
    "        return 1 + f(x//2)\n",
    "    else :\n",
    "        return 0\n",
    "f(2**100)"
   ]
  },
  {
   "cell_type": "markdown",
   "metadata": {},
   "source": [
    "# 2) Max_index_list"
   ]
  },
  {
   "cell_type": "code",
   "execution_count": 241,
   "metadata": {
    "collapsed": false
   },
   "outputs": [
    {
     "name": "stdout",
     "output_type": "stream",
     "text": [
      "10\n"
     ]
    },
    {
     "data": {
      "text/plain": [
       "10"
      ]
     },
     "execution_count": 241,
     "metadata": {},
     "output_type": "execute_result"
    }
   ],
   "source": [
    "L=[5,3,1,10,2,-3,4]\n",
    "\n",
    "# the third number (L[3]) is the overall maximum\n",
    "\n",
    "def max_list(L,k,l):\n",
    "    # returns the largest element in list L between indices\n",
    "    # k and l.\n",
    "    if k == l:\n",
    "        return L[k]\n",
    "    else:\n",
    "        return max(max_list(L,k,l-1),L[l])\n",
    "    \n",
    "print(max_list(L,0,6))"
   ]
  },
  {
   "cell_type": "code",
   "execution_count": 240,
   "metadata": {
    "collapsed": false,
    "scrolled": true
   },
   "outputs": [
    {
     "name": "stdout",
     "output_type": "stream",
     "text": [
      "0\n",
      "0\n",
      "3\n"
     ]
    }
   ],
   "source": [
    "def max_index_list(L,k,l):\n",
    "    # returns the index of the largest element in list L\n",
    "    # between indices k and l.\n",
    "    if k == l:\n",
    "        return k\n",
    "    else:\n",
    "        m = max_index_list(L,k,l-1)\n",
    "        if L[l] > L[m]:\n",
    "            return l\n",
    "        else:\n",
    "            return m\n",
    "print(max_index_list(L,0,0))\n",
    "\n",
    "print(max_index_list(L,0,6))"
   ]
  },
  {
   "cell_type": "markdown",
   "metadata": {},
   "source": [
    "# 3) min_list"
   ]
  },
  {
   "cell_type": "code",
   "execution_count": 242,
   "metadata": {
    "collapsed": false
   },
   "outputs": [
    {
     "name": "stdout",
     "output_type": "stream",
     "text": [
      "-3\n"
     ]
    }
   ],
   "source": [
    "def min_list(L,k,l):\n",
    "    # returns the smallest element in list L\n",
    "    # between indices k and l.\n",
    "    if k == l:\n",
    "        return L[l]\n",
    "    else:\n",
    "        minSub = min_list(L,k,l-1)\n",
    "        return min(minSub,L[l])\n",
    "    \n",
    "print(min_list(L,0,6))"
   ]
  },
  {
   "cell_type": "markdown",
   "metadata": {},
   "source": [
    "# 4) sum_list"
   ]
  },
  {
   "cell_type": "code",
   "execution_count": 245,
   "metadata": {
    "collapsed": false
   },
   "outputs": [
    {
     "name": "stdout",
     "output_type": "stream",
     "text": [
      "6\n"
     ]
    }
   ],
   "source": [
    "def sum_list(L,k,l):\n",
    "    # returns the sum of all elements in list L\n",
    "    # between indices k and l.\n",
    "    if k == l:\n",
    "        return L[k]\n",
    "    else:\n",
    "        return L[l] + sum_list(L,k,l-1)\n",
    "    \n",
    "print(sum_list([0,1,2,3],0,3))"
   ]
  },
  {
   "cell_type": "markdown",
   "metadata": {},
   "source": [
    "# 5) abs_sum_list"
   ]
  },
  {
   "cell_type": "code",
   "execution_count": 283,
   "metadata": {
    "collapsed": false,
    "scrolled": true
   },
   "outputs": [
    {
     "name": "stdout",
     "output_type": "stream",
     "text": [
      "6\n"
     ]
    }
   ],
   "source": [
    "def abs_sum_list(L,k,l):\n",
    "    # returns the sum of the absolute values of\n",
    "    # all elements in list L between indices k and l.\n",
    "    if k == l:\n",
    "        if L[k] < 0:\n",
    "            return -L[k]\n",
    "        else:\n",
    "            return L[k]\n",
    "    else:\n",
    "        if L[k] < 0:\n",
    "            return -L[k] + abs_sum_list(L,k+1,l)\n",
    "        else:\n",
    "            return L[k] + abs_sum_list(L,k+1,l)\n",
    "        \n",
    "print(abs_sum_list([0,-1,2,3],0,3))"
   ]
  },
  {
   "cell_type": "markdown",
   "metadata": {},
   "source": [
    "# 6) min_index_list"
   ]
  },
  {
   "cell_type": "code",
   "execution_count": 286,
   "metadata": {
    "collapsed": false,
    "scrolled": true
   },
   "outputs": [
    {
     "name": "stdout",
     "output_type": "stream",
     "text": [
      "5\n",
      "1\n"
     ]
    }
   ],
   "source": [
    "def min_index_list(L,k,l):\n",
    "    # returns the index of the smallest element in list L\n",
    "    # between indices k and l.\n",
    "    if k == l:\n",
    "        return k\n",
    "    else:\n",
    "        indexMinSublist = min_index_list(L,k+1,l)\n",
    "        if L[k] < L[indexMinSublist]:\n",
    "            return k\n",
    "        else:\n",
    "            return indexMinSublist\n",
    "        \n",
    "print(min_index_list(L,0,6))\n",
    "print(min_index_list([0,-1,2,3],0,3))"
   ]
  },
  {
   "cell_type": "markdown",
   "metadata": {},
   "source": [
    "# 7) in_squared_list"
   ]
  },
  {
   "cell_type": "code",
   "execution_count": 295,
   "metadata": {
    "collapsed": false
   },
   "outputs": [
    {
     "name": "stdout",
     "output_type": "stream",
     "text": [
      "True\n",
      "False\n",
      "True\n"
     ]
    }
   ],
   "source": [
    "def in_squared_list(L,x,k,l):\n",
    "    # Returns true if x is the square of any of the\n",
    "    # elements in list L between indices k and l.\n",
    "    if l==k:\n",
    "        if L[k]**2 == x:\n",
    "            return True\n",
    "        return False\n",
    "    else:\n",
    "        if L[k]**2 == x:\n",
    "            return True\n",
    "        else:\n",
    "            return in_squared_list(L,x,k+1,l)\n",
    "    \n",
    "print(in_squared_list([4,1,2,3],16,0,3))\n",
    "\n",
    "print(in_squared_list([0,1,2,3],16,0,3))\n",
    "\n",
    "print(in_squared_list([0,1,2,4,3,4,3],16,0,6))"
   ]
  },
  {
   "cell_type": "markdown",
   "metadata": {},
   "source": [
    "# 8) count_both_in_list"
   ]
  },
  {
   "cell_type": "code",
   "execution_count": 308,
   "metadata": {
    "collapsed": false
   },
   "outputs": [
    {
     "name": "stdout",
     "output_type": "stream",
     "text": [
      "1\n",
      "0\n",
      "2\n",
      "3\n"
     ]
    }
   ],
   "source": [
    "def count_both_in_list(L,x,k,l):\n",
    "    # Returns the number of times x or its negative appear\n",
    "    # in list L between indices k and l.\n",
    "    if l==k:\n",
    "        if L[k] == x or L[k] == -x:\n",
    "            return 1\n",
    "        return 0\n",
    "    else:\n",
    "        if L[k] == x or L[k] == -x:\n",
    "            return 1 + count_both_in_list(L,x,k+1,l)\n",
    "        else:\n",
    "            return 0 + count_both_in_list(L,x,k+1,l)\n",
    "    \n",
    "print(count_both_in_list([4,1,2,3],4,0,3))\n",
    "\n",
    "print(count_both_in_list([0,1,2,3],4,0,3))\n",
    "\n",
    "print(count_both_in_list([0,1,2,4,3,4,3],4,0,6))\n",
    "\n",
    "print(count_both_in_list([-4,1,2,4,3,4,3],4,0,6))"
   ]
  },
  {
   "cell_type": "markdown",
   "metadata": {},
   "source": [
    "# 9) count_in_list"
   ]
  },
  {
   "cell_type": "code",
   "execution_count": 4,
   "metadata": {
    "collapsed": false
   },
   "outputs": [
    {
     "name": "stdout",
     "output_type": "stream",
     "text": [
      "1\n",
      "0\n",
      "2\n",
      "2\n"
     ]
    }
   ],
   "source": [
    "def count_both_in_list(L,x,k,l):\n",
    "    # Returns the number of times x appears in list L\n",
    "    # between indices k and l.\n",
    "    if l==k:\n",
    "        if L[k] == x:\n",
    "            return 1\n",
    "        return 0\n",
    "    else:\n",
    "        if L[k] == x:\n",
    "            return 1 + count_both_in_list(L,x,k+1,l)\n",
    "        else:\n",
    "            return 0 + count_both_in_list(L,x,k+1,l)\n",
    "    \n",
    "print(count_both_in_list([4,1,2,3],4,0,3))\n",
    "\n",
    "print(count_both_in_list([0,1,2,3],4,0,3))\n",
    "\n",
    "print(count_both_in_list([0,1,2,4,3,4,3],4,0,6))\n",
    "\n",
    "print(count_both_in_list([-4,1,2,4,3,4,3],4,0,6))"
   ]
  },
  {
   "cell_type": "markdown",
   "metadata": {},
   "source": [
    "# 11) van Koch Triangle"
   ]
  },
  {
   "cell_type": "code",
   "execution_count": 1,
   "metadata": {
    "collapsed": false
   },
   "outputs": [],
   "source": [
    "import math\n",
    "import turtle\n",
    "t = turtle.Turtle()\n",
    "t.hideturtle()\n",
    "def draw_line(x1,y1,x2,y2):\n",
    "    \"\"\" Draws a straight line between (x1,y1) and (x2,y2) \"\"\"\n",
    "    t.up()\n",
    "    t.goto(x1,y1)\n",
    "    t.down()\n",
    "    t.goto(x2,y2)\n",
    "    t.up()\n",
    "def first_middle(u,v):\n",
    "    \"\"\" Returns the first middle point \"\"\"\n",
    "    return (2*u+v)/3\n",
    "def second_middle(u,v):\n",
    "    \"\"\" Returns the second middle point \"\"\"\n",
    "    return (u+2*v)/3\n",
    "def x_axis_equilateral_point(x1,y1,x2,y2):\n",
    "    \"\"\" Returns the x-axis of the equilateral point \"\"\"\n",
    "    return ((x2+x1)-math.sqrt(3)*(y2-y1))/2\n",
    "def y_axis_equilateral_point(x1,y1,x2,y2):\n",
    "    \"\"\" Returns the y-axis of the equilateral point \"\"\"\n",
    "    return ((y2+y1)+math.sqrt(3)*(x2-x1))/2\n",
    "def van_koch(x1,y1,x2,y2,n):\n",
    "    if n == 0:\n",
    "        draw_line(x1,y1,x2,y2)\n",
    "    else:\n",
    "        xp1 = first_middle(x1,x2)\n",
    "        yp1 = first_middle(y1,y2)\n",
    "        xp2 = second_middle(x1,x2)\n",
    "        yp2 = second_middle(y1,y2)\n",
    "        xz = x_axis_equilateral_point(xp1,yp1,xp2,yp2)\n",
    "        yz = y_axis_equilateral_point(xp1,yp1,xp2,yp2)\n",
    "        van_koch(x1,y1,xp1,yp1,n-1)\n",
    "        van_koch(xp1,yp1,xz,yz,n-1)\n",
    "        van_koch(xz,yz,xp2,yp2,n-1)\n",
    "        van_koch(xp2,yp2,x2,y2,n-1)\n",
    "van_koch(0,0,300,0,2)\n",
    "turtle.done()"
   ]
  },
  {
   "cell_type": "code",
   "execution_count": 2,
   "metadata": {
    "collapsed": false
   },
   "outputs": [],
   "source": [
    "def koch_triangle(x1,y1,x2,y2,level):\n",
    "    \n",
    "    # equilateral point on left side when going from p2 to p1\n",
    "    u = x_axis_equilateral_point(x2,y2,x1,y1)    \n",
    "    v = y_axis_equilateral_point(x2,y2,x1,y1)\n",
    "    \n",
    "    van_koch(x1,y1,x2,y2,level)\n",
    "    van_koch(x2,y2,u,v,level)\n",
    "    van_koch(u,v,x1,y2,level)\n",
    "    \n",
    "t = turtle.Turtle()\n",
    "t.hideturtle()\n",
    "koch_triangle(0,0,300,0,2)\n",
    "turtle.done()"
   ]
  },
  {
   "cell_type": "markdown",
   "metadata": {},
   "source": [
    "# Recursive functions - Assignment"
   ]
  },
  {
   "cell_type": "markdown",
   "metadata": {},
   "source": [
    "## 1) Count_All_Elements"
   ]
  },
  {
   "cell_type": "code",
   "execution_count": 41,
   "metadata": {
    "collapsed": false
   },
   "outputs": [
    {
     "data": {
      "text/plain": [
       "5"
      ]
     },
     "execution_count": 41,
     "metadata": {},
     "output_type": "execute_result"
    }
   ],
   "source": [
    "def count_all_elements(L):\n",
    "    \"\"\"\n",
    "    returns the number of all basic elements found in L and inside\n",
    "    sublists of L.\n",
    "    \"\"\"\n",
    "    \n",
    "    # check if list is empty and return 0 if it is\n",
    "    if not L: \n",
    "        return 0\n",
    "    \n",
    "    # if input is not a list, return 1\n",
    "    elif not isinstance(L,list):\n",
    "        return 1\n",
    "    \n",
    "    # the number of items = number of items in the first element of L\n",
    "    # plus the total amount of items in the remainder of the list\n",
    "    \n",
    "    else:\n",
    "        return count_all_elements(L[0]) + count_all_elements(L[1:])\n",
    "\n",
    "    #### NOTE: [1][1:] outputs [] empty list\n",
    "    #### this means you do not need to check the length of L\n",
    "    #### you can immediately ask for the count in L[0] + count of remainder\n",
    "    #### of list, even if that remainder is empty!\n",
    "    \n",
    "#     else:\n",
    "#         if len(L) == 1:\n",
    "#             return count_all_elements(L[0])\n",
    "#         else:\n",
    "#             return count_all_elements(L[0]) + count_all_elements(L[1:])\n",
    "        \n",
    "count_all_elements([1,[[[2,3],3],[],3]])"
   ]
  },
  {
   "cell_type": "markdown",
   "metadata": {},
   "source": [
    "#### Alternative method?"
   ]
  },
  {
   "cell_type": "code",
   "execution_count": 31,
   "metadata": {
    "collapsed": false
   },
   "outputs": [
    {
     "data": {
      "text/plain": [
       "5"
      ]
     },
     "execution_count": 31,
     "metadata": {},
     "output_type": "execute_result"
    }
   ],
   "source": [
    "def count_all_elements(L):\n",
    "    \"\"\"\n",
    "    returns the number of all basic elements found in L and inside\n",
    "    sublists of L.\n",
    "    \"\"\"\n",
    "    \n",
    "    # check if list is empty and return 0 if it is\n",
    "    if not L: \n",
    "        return 0\n",
    "    \n",
    "    # check if first element is a list, then output either 1 or \n",
    "    # call the count function on it\n",
    "    # then add the count of the remainder of the list\n",
    "    elif not isinstance(L[0],list):\n",
    "        return 1 + count_all_elements(L[1:])\n",
    "    \n",
    "    else:\n",
    "        return count_all_elements(L[0]) + count_all_elements(L[1:])\n",
    "        \n",
    "count_all_elements([1,[[[2,3],3],[],3]])"
   ]
  },
  {
   "cell_type": "markdown",
   "metadata": {},
   "source": [
    "# 2) count_different_elements"
   ]
  },
  {
   "cell_type": "code",
   "execution_count": 71,
   "metadata": {
    "collapsed": false
   },
   "outputs": [
    {
     "data": {
      "text/plain": [
       "2"
      ]
     },
     "execution_count": 71,
     "metadata": {},
     "output_type": "execute_result"
    }
   ],
   "source": [
    "def count_different_elements(L):\n",
    "    C = []\n",
    "    count_unique(L,C)\n",
    "    return len(L)\n",
    "\n",
    "def count_unique(L,C):\n",
    "    if not L:\n",
    "        return 0\n",
    "    \n",
    "    elif not isinstance(L[0],list):\n",
    "        if not L[0] in C:\n",
    "            return 1 + count_unique(L[1:],C)\n",
    "        else:\n",
    "            return 0 + count_unique(L[1:],C)\n",
    "        \n",
    "    else:\n",
    "        return count_unique(L[0],C) + count_unique(L[1:],C)\n",
    "    \n",
    "count_different_elements([1,[[[2,3],3],[],3]])"
   ]
  },
  {
   "cell_type": "code",
   "execution_count": 72,
   "metadata": {
    "collapsed": false
   },
   "outputs": [
    {
     "data": {
      "text/plain": [
       "0"
      ]
     },
     "execution_count": 72,
     "metadata": {},
     "output_type": "execute_result"
    }
   ],
   "source": [
    "def count_different_elements(L):\n",
    "    count = 0\n",
    "    checklist = []\n",
    "    count_unique(L,count,checklist)\n",
    "    return count\n",
    "\n",
    "def count_unique(L,count,checklist):\n",
    "    if not L:\n",
    "        return 0\n",
    "    \n",
    "    elif not isinstance(L[0],list):\n",
    "        if not L[0] in checklist:\n",
    "            count +=1\n",
    "            count_unique(L[1:],count,checklist)\n",
    "        else:\n",
    "            count_unique(L[1:],count,checklist)\n",
    "        \n",
    "    else:\n",
    "        count_unique(L[0],count,checklist)\n",
    "        count_unique(L[1:],count,checklist)\n",
    "    \n",
    "count_different_elements([1,[[[2,3],3],[],3]])"
   ]
  },
  {
   "cell_type": "code",
   "execution_count": 73,
   "metadata": {
    "collapsed": false
   },
   "outputs": [
    {
     "data": {
      "text/plain": [
       "5"
      ]
     },
     "execution_count": 73,
     "metadata": {},
     "output_type": "execute_result"
    }
   ],
   "source": [
    "def count_different_elements(L):\n",
    "    count = 0\n",
    "    checklist = []\n",
    "    count = count_unique(L,count,checklist)\n",
    "    return count\n",
    "\n",
    "def count_unique(L,count,checklist):\n",
    "    if not L:\n",
    "        return 0\n",
    "    \n",
    "    elif not isinstance(L[0],list):\n",
    "        if not L[0] in checklist:\n",
    "            return 1 + count_unique(L[1:],count,checklist)\n",
    "        else:\n",
    "            return count_unique(L[1:],count,checklist)\n",
    "        \n",
    "    else:\n",
    "        return count_unique(L[0],count,checklist) + count_unique(L[1:],count,checklist)\n",
    "    \n",
    "count_different_elements([1,[[[2,3],3],[],3]])"
   ]
  },
  {
   "cell_type": "code",
   "execution_count": 51,
   "metadata": {
    "collapsed": false
   },
   "outputs": [
    {
     "data": {
      "text/plain": [
       "2"
      ]
     },
     "execution_count": 51,
     "metadata": {},
     "output_type": "execute_result"
    }
   ],
   "source": [
    "def count_different_simple_list(L):\n",
    "    if not L:\n",
    "        return 0\n",
    "    else:\n",
    "        if L[0] in L[1:]:\n",
    "            return count_different_simple_list(L[1:])\n",
    "        else:\n",
    "            return 1 + count_different_simple_list(L[1:])\n",
    "    \n",
    "count_different_simple_list([1,2])"
   ]
  },
  {
   "cell_type": "code",
   "execution_count": 65,
   "metadata": {
    "collapsed": false
   },
   "outputs": [
    {
     "data": {
      "text/plain": [
       "2"
      ]
     },
     "execution_count": 65,
     "metadata": {},
     "output_type": "execute_result"
    }
   ],
   "source": [
    "def count_different_nested_list(L):\n",
    "    if not L:\n",
    "        return 0\n",
    "    \n",
    "    elif isinstance(L[0],list):\n",
    "        return count_different_nested_list(L[0])\n",
    "    \n",
    "    else:\n",
    "        if L[0] in L[1:]:\n",
    "            # problem! [1,[1,1],[]]\n",
    "            # 1 is not found in L[1:]\n",
    "            # [1,1] is however\n",
    "            return count_different_nested_list(L[1:])\n",
    "        else:\n",
    "            return 1 + count_different_nested_list(L[1:])\n",
    "    \n",
    "count_different_nested_list([1,[1,1],[]])"
   ]
  },
  {
   "cell_type": "code",
   "execution_count": 70,
   "metadata": {
    "collapsed": false
   },
   "outputs": [
    {
     "data": {
      "text/plain": [
       "False"
      ]
     },
     "execution_count": 70,
     "metadata": {},
     "output_type": "execute_result"
    }
   ],
   "source": [
    "L = [1,[1,1],[]]\n",
    "\n",
    "L[0] in L[1:]"
   ]
  },
  {
   "cell_type": "markdown",
   "metadata": {},
   "source": [
    "## 3) mybit(n)"
   ]
  },
  {
   "cell_type": "code",
   "execution_count": 76,
   "metadata": {
    "collapsed": false
   },
   "outputs": [
    {
     "name": "stdout",
     "output_type": "stream",
     "text": [
      "00\n",
      "01\n",
      "10\n",
      "11\n"
     ]
    }
   ],
   "source": [
    "# from last years solutions\n",
    "def mybit(n):\n",
    "    mybit_with_prefix(\"\",n)\n",
    "def mybit_with_prefix(s,n):\n",
    "    if n == 0:\n",
    "        print(s)\n",
    "    else:\n",
    "        mybit_with_prefix(s+\"0\",n-1)\n",
    "        mybit_with_prefix(s+\"1\",n-1)\n",
    "mybit(2)"
   ]
  },
  {
   "cell_type": "markdown",
   "metadata": {},
   "source": [
    "# 4) step(D,x,y,k)"
   ]
  },
  {
   "cell_type": "code",
   "execution_count": 166,
   "metadata": {
    "collapsed": false,
    "scrolled": false
   },
   "outputs": [
    {
     "name": "stdout",
     "output_type": "stream",
     "text": [
      "True\n",
      "True\n",
      "True\n"
     ]
    }
   ],
   "source": [
    "def step(D,x,y,k):\n",
    "    if k == 1:\n",
    "        return y in D[x]\n",
    "    else:\n",
    "        if y in D[x+k-1]:\n",
    "            return step(D,x,x+k-1,k-1)\n",
    "    return False\n",
    "        \n",
    "    \n",
    "D = {1 : [2],2 : [3,10],3 : [4,5,9],4 : [2,6,7],5 : [1,2],6 : []}\n",
    "\n",
    "print(step(D,1,2,1))\n",
    "print(step(D,1,10,2))\n",
    "print(step(D,1,7,4))"
   ]
  },
  {
   "cell_type": "markdown",
   "metadata": {},
   "source": [
    "Alternative version where number of steps is counted exclusive."
   ]
  },
  {
   "cell_type": "code",
   "execution_count": 168,
   "metadata": {
    "collapsed": false
   },
   "outputs": [
    {
     "name": "stdout",
     "output_type": "stream",
     "text": [
      "True\n",
      "False\n",
      "True\n",
      "True\n"
     ]
    }
   ],
   "source": [
    "def step(D,x,y,k):\n",
    "    if k == 0:\n",
    "        return y in D[x]\n",
    "    else:\n",
    "        if y in D[x+k]:\n",
    "            return step(D,x,x+k,k-1)\n",
    "    return False\n",
    "    \n",
    "D = {1 : [2],2 : [3,10],3 : [4,5,9],4 : [2,6,7],5 : [1,2],6 : []}\n",
    "\n",
    "print(step(D,1,2,0))\n",
    "print(step(D,1,3,0))\n",
    "print(step(D,1,3,1))\n",
    "print(step(D,1,7,3))"
   ]
  },
  {
   "cell_type": "markdown",
   "metadata": {},
   "source": [
    "# 5) greatest common divisor"
   ]
  },
  {
   "cell_type": "code",
   "execution_count": 96,
   "metadata": {
    "collapsed": false
   },
   "outputs": [
    {
     "data": {
      "text/plain": [
       "128"
      ]
     },
     "execution_count": 96,
     "metadata": {},
     "output_type": "execute_result"
    }
   ],
   "source": [
    "def gcd(m,n):\n",
    "    if m == n:\n",
    "        return n\n",
    "    else:\n",
    "        return gcd(abs(n-m),min(m,n))\n",
    "    \n",
    "gcd(1024,1920)"
   ]
  }
 ],
 "metadata": {
  "kernelspec": {
   "display_name": "Python 3",
   "language": "python",
   "name": "python3"
  },
  "language_info": {
   "codemirror_mode": {
    "name": "ipython",
    "version": 3
   },
   "file_extension": ".py",
   "mimetype": "text/x-python",
   "name": "python",
   "nbconvert_exporter": "python",
   "pygments_lexer": "ipython3",
   "version": "3.5.1"
  }
 },
 "nbformat": 4,
 "nbformat_minor": 0
}
