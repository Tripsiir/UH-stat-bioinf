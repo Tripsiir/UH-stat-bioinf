{
 "cells": [
  {
   "cell_type": "markdown",
   "metadata": {},
   "source": [
    "# Tandem MS database search using a decoy-based strategy"
   ]
  },
  {
   "cell_type": "markdown",
   "metadata": {},
   "source": [
    "This documentation describes the various methods implemented in the ms2matcher package. First, we will provide a short demonstration on how to use the package and later we will show how the underlying functions work and the intermediate output that they provide.\n",
    "\n",
    "In addition to this document, the main functions can all be found in the \\ms2matcher folder in the main module file ms2matcher.py. All methods are documented according to the  NumPy/SciPy style convention (https://github.com/numpy/numpy/blob/master/doc/HOWTO_DOCUMENT.rst.txt), providing a clear overview of the required inputs and delivered outputs for each method, as well as the design philosophy and inter-dependencies between the methods.\n",
    "\n",
    "# Brief Overview\n",
    "This tool implements a simple version of tandem mass spectrometry (MS2 or MS/MS) using a target-decoy database search strategy for the identification of experimentally derived mass spectra of fragmented peptides. For an introduction to tandem MS, please refer to Sadygov, Cociorva & Yates (2004), for a primer on decoy databases, see Käll et al. (2008), and for other topics please refer to the reference list at the end of this document."
   ]
  },
  {
   "cell_type": "markdown",
   "metadata": {},
   "source": [
    "# Using the software"
   ]
  },
  {
   "cell_type": "markdown",
   "metadata": {},
   "source": [
    "The package can be run via the command line by calling 'python main.py' followed by the absolute path to a folder containing the experimental spectrum .dta files and optionally the MS1 ( '-t1' '--toleranceMS1' ), MS2 mass tolerance ( '-t2' '--toleranceMS2' ) and desired FDR ( '-fdr' '--FDR' ). The default values are 50 ppm, 0.1 Dalton and 5% respectively.\n",
    "\n",
    "<pre>\n",
    "python main.py path/to/spectraFolder -t1 50 -t2 0.1 -fdr 0.05\n",
    "</pre>\n",
    "\n",
    "Running 'python main.py --help' also provides an overview of the accepted arguments.\n",
    "\n",
    "To save the output, simply use a '>' command in the command line to specify the desired .txt file to store the results in."
   ]
  },
  {
   "cell_type": "markdown",
   "metadata": {},
   "source": [
    "## Dependencies\n",
    "\n",
    "This tool relies on the following packages:\n",
    "\n",
    "- numpy (http://www.numpy.org/)\n",
    "- pandas (http://pandas.pydata.org/)\n",
    "- biopython (http://biopython.org/wiki/Main_Page)\n",
    "- pyteomics (https://pythonhosted.org/pyteomics/)\n",
    "\n",
    "Please refer to the packages' manuals, pip (https://docs.python.org/3.6/installing/index.html) or a package management system such as Conda (http://conda.pydata.org/docs/) for more information on how to install additional python packages."
   ]
  },
  {
   "cell_type": "markdown",
   "metadata": {},
   "source": [
    "# Step-by-step walkthrough\n",
    "The following section describes the underlying pipeline that is run whenever the tool is run via the command line. The theoretical basis of the methods is also described and references to relevant literature are made."
   ]
  },
  {
   "cell_type": "markdown",
   "metadata": {},
   "source": [
    "## Importing protein and peptide databases (in .fasta format)"
   ]
  },
  {
   "cell_type": "markdown",
   "metadata": {},
   "source": [
    "First the package will read in the protein, peptide digests and reverse decoy databases which are located in the /data/database/ folder of the package. The following lines of code simply show how the relative paths are defined."
   ]
  },
  {
   "cell_type": "code",
   "execution_count": 1,
   "metadata": {
    "collapsed": false
   },
   "outputs": [],
   "source": [
    "import os,sys\n",
    "import inspect\n",
    "currentdir = os.path.dirname(os.path.abspath(inspect.getfile(inspect.currentframe())))\n",
    "parentdir = os.path.dirname(currentdir)\n",
    "moduledir = os.path.normpath(os.path.join(parentdir, 'ms2matcher'))\n",
    "sys.path.insert(0,moduledir)\n",
    "import ms2matcher as ms\n",
    "import pandas as pd\n",
    "import numpy as np\n",
    "\n",
    "data_path = 'data'\n",
    "database_path = 'database'\n",
    "spectra_path = 'spectra'\n",
    "proteinDatabasePath = os.path.normpath(os.path.join(parentdir, data_path,database_path,'studentP.fasta'))\n",
    "peptideDatabasePath = os.path.normpath(os.path.join(parentdir, data_path,database_path,'studentP_peptides.fasta'))\n",
    "decoyDatabasePath = os.path.normpath(os.path.join(parentdir, data_path,database_path,'studentD.fasta'))\n",
    "decoyPeptideDatabasePath = os.path.normpath(os.path.join(parentdir, data_path,database_path,'studentD_peptides.fasta'))\n",
    "spectraFilePath = os.path.normpath(os.path.join(parentdir,data_path,spectra_path))"
   ]
  },
  {
   "cell_type": "markdown",
   "metadata": {},
   "source": [
    "The .fasta databases are imported into a pandas dataframes. One column contains the sequences of the peptides/proteins, while the other contains either the UniProtKB/Swiss-Prot identifiers (for the proteins) or the **monoisotopic masses (M)** (for the peptides)."
   ]
  },
  {
   "cell_type": "code",
   "execution_count": 2,
   "metadata": {
    "collapsed": false
   },
   "outputs": [],
   "source": [
    "proteinData = ms.importProteins(proteinDatabasePath)\n",
    "peptideData = ms.importPeptides(peptideDatabasePath)\n",
    "decoyPeptideData = ms.importPeptides(decoyPeptideDatabasePath)\n",
    "decoyData = ms.importProteins(decoyDatabasePath)"
   ]
  },
  {
   "cell_type": "code",
   "execution_count": 3,
   "metadata": {
    "collapsed": false
   },
   "outputs": [
    {
     "data": {
      "text/html": [
       "<div>\n",
       "<table border=\"1\" class=\"dataframe\">\n",
       "  <thead>\n",
       "    <tr style=\"text-align: right;\">\n",
       "      <th></th>\n",
       "      <th>Monoisotopic Mass</th>\n",
       "      <th>Sequence</th>\n",
       "    </tr>\n",
       "  </thead>\n",
       "  <tbody>\n",
       "    <tr>\n",
       "      <th>0</th>\n",
       "      <td>1598.71340</td>\n",
       "      <td>SMGETESGDAFLDLK</td>\n",
       "    </tr>\n",
       "    <tr>\n",
       "      <th>1</th>\n",
       "      <td>626.37516</td>\n",
       "      <td>KPPASK</td>\n",
       "    </tr>\n",
       "    <tr>\n",
       "      <th>2</th>\n",
       "      <td>511.23254</td>\n",
       "      <td>CPHR</td>\n",
       "    </tr>\n",
       "    <tr>\n",
       "      <th>3</th>\n",
       "      <td>858.46985</td>\n",
       "      <td>EELLDIK</td>\n",
       "    </tr>\n",
       "    <tr>\n",
       "      <th>4</th>\n",
       "      <td>709.37589</td>\n",
       "      <td>ELPHSK</td>\n",
       "    </tr>\n",
       "  </tbody>\n",
       "</table>\n",
       "</div>"
      ],
      "text/plain": [
       "   Monoisotopic Mass         Sequence\n",
       "0         1598.71340  SMGETESGDAFLDLK\n",
       "1          626.37516           KPPASK\n",
       "2          511.23254             CPHR\n",
       "3          858.46985          EELLDIK\n",
       "4          709.37589           ELPHSK"
      ]
     },
     "metadata": {},
     "output_type": "display_data"
    }
   ],
   "source": [
    "from IPython.display import display\n",
    "display(peptideData[:5])"
   ]
  },
  {
   "cell_type": "markdown",
   "metadata": {},
   "source": [
    "## Importing experimental spectra (.dta)"
   ]
  },
  {
   "cell_type": "markdown",
   "metadata": {},
   "source": [
    "Experimental spectra are imported into numpy arrays. Normally, the path to the file is specified when the tool is run via the command line, but for demonstration purposes the underlying function is shown here.\n",
    "\n",
    "The .dta file is a tab-deliminated file where the first line contains the precursor m/z value (in (M+H)^+1 format) and the charge, and all the following lines contain **m/z values and intensities**."
   ]
  },
  {
   "cell_type": "code",
   "execution_count": 4,
   "metadata": {
    "collapsed": false
   },
   "outputs": [
    {
     "name": "stdout",
     "output_type": "stream",
     "text": [
      "[[  2.10287407e+03   2.00000000e+00]\n",
      " [  1.47075820e+02   1.32865000e+04]\n",
      " [  1.56076000e+02   2.53626000e+03]\n",
      " [  1.57060290e+02   1.16938000e+04]\n",
      " [  1.58091720e+02   2.67873000e+03]\n",
      " [  1.63059860e+02   2.38194000e+03]\n",
      " [  1.68064500e+02   4.42759000e+03]\n",
      " [  1.72071260e+02   1.04343000e+04]\n",
      " [  1.75070980e+02   3.96961000e+04]\n",
      " [  1.75118410e+02   8.27672000e+04]]\n"
     ]
    }
   ],
   "source": [
    "expSpec = ms.importExperimentalSpectrum(os.path.normpath(os.path.join(spectraFilePath,'hela1ugul.2404.2404.2.dta')))\n",
    "print(expSpec[:10])"
   ]
  },
  {
   "cell_type": "markdown",
   "metadata": {},
   "source": [
    "For easy retrieval later on the information regarding the precursor ion and the fragmentation peaks are separated.\n",
    "\n",
    "Note that the **precursor mass** in the .dta file is the charged parent ion (i.e. (M+H)+1 ) monoisotopic mass. We subtract the mass of one proton (1.0072764) to obtain the **uncharged monoisotopic parent mass (M)** from this, because this is the same format the peptide database has."
   ]
  },
  {
   "cell_type": "code",
   "execution_count": 5,
   "metadata": {
    "collapsed": false
   },
   "outputs": [
    {
     "name": "stdout",
     "output_type": "stream",
     "text": [
      "Precursor mass (M): 2101.8667935999997\n",
      "Precursor charge: 1\n"
     ]
    }
   ],
   "source": [
    "precursorMass = ms.getPrecursorMass(expSpec)\n",
    "precursorCharge = ms.getPrecursorCharge(expSpec) if ms.getPrecursorCharge(expSpec)==1 else ms.getPrecursorCharge(expSpec)-1\n",
    "expMZ = ms.getExperimentalMZs(expSpec)\n",
    "print('Precursor mass (M):',precursorMass)\n",
    "print('Precursor charge:',precursorCharge)"
   ]
  },
  {
   "cell_type": "markdown",
   "metadata": {},
   "source": [
    "## Peptide candidates - mass filter"
   ]
  },
  {
   "cell_type": "markdown",
   "metadata": {},
   "source": [
    "The peptide database is filtered for potential **peptide candidates** based on the monoisotopic mass of the experimental parent peptide. This step is done to reduce the search space to a more manageable size.\n",
    "\n",
    "The default **mass tolerance** is 50 ppm, but this can be specified in the command line using the argument -t1. \n",
    "\n",
    "For example, for the given spectrum, the theoretical peptides can deviate, in either direction, with a value of: $$\\frac{\\text{Precursor Mass}\\times 50}{10^6} = \\frac{2101.8667936\\times50}{10^6} = 0.10509333968$$"
   ]
  },
  {
   "cell_type": "code",
   "execution_count": 6,
   "metadata": {
    "collapsed": false
   },
   "outputs": [
    {
     "name": "stdout",
     "output_type": "stream",
     "text": [
      "0.10509333968\n"
     ]
    }
   ],
   "source": [
    "print(precursorMass*50/1000000)"
   ]
  },
  {
   "cell_type": "markdown",
   "metadata": {},
   "source": [
    "This results in the following peptide candidates in the database: these are all the sequences that fall inside an 0.10 window of the parent monoisotopic mass (M)."
   ]
  },
  {
   "cell_type": "code",
   "execution_count": 7,
   "metadata": {
    "collapsed": false
   },
   "outputs": [
    {
     "data": {
      "text/html": [
       "<div>\n",
       "<table border=\"1\" class=\"dataframe\">\n",
       "  <thead>\n",
       "    <tr style=\"text-align: right;\">\n",
       "      <th></th>\n",
       "      <th>Monoisotopic Mass</th>\n",
       "      <th>Sequence</th>\n",
       "    </tr>\n",
       "  </thead>\n",
       "  <tbody>\n",
       "    <tr>\n",
       "      <th>1645</th>\n",
       "      <td>2101.9246</td>\n",
       "      <td>AVDWWGLGVVMYEMMCGR</td>\n",
       "    </tr>\n",
       "    <tr>\n",
       "      <th>1657</th>\n",
       "      <td>2101.8744</td>\n",
       "      <td>SSGNSSSSGSGSGSTSAGSSSPGAR</td>\n",
       "    </tr>\n",
       "    <tr>\n",
       "      <th>1730</th>\n",
       "      <td>2101.9246</td>\n",
       "      <td>AVDWWGLGVVMYEMMCGR</td>\n",
       "    </tr>\n",
       "    <tr>\n",
       "      <th>1773</th>\n",
       "      <td>2101.9246</td>\n",
       "      <td>AVDWWGLGVVMYEMMCGR</td>\n",
       "    </tr>\n",
       "    <tr>\n",
       "      <th>1812</th>\n",
       "      <td>2101.8456</td>\n",
       "      <td>GDDEEGECSIDYVEMAVNK</td>\n",
       "    </tr>\n",
       "    <tr>\n",
       "      <th>2192</th>\n",
       "      <td>2101.9341</td>\n",
       "      <td>DFNGSDASTQLNTHYAFSK</td>\n",
       "    </tr>\n",
       "    <tr>\n",
       "      <th>3325</th>\n",
       "      <td>2101.8744</td>\n",
       "      <td>SSGNSSSSGSGSGSTSAGSSSPGAR</td>\n",
       "    </tr>\n",
       "  </tbody>\n",
       "</table>\n",
       "</div>"
      ],
      "text/plain": [
       "      Monoisotopic Mass                   Sequence\n",
       "1645          2101.9246         AVDWWGLGVVMYEMMCGR\n",
       "1657          2101.8744  SSGNSSSSGSGSGSTSAGSSSPGAR\n",
       "1730          2101.9246         AVDWWGLGVVMYEMMCGR\n",
       "1773          2101.9246         AVDWWGLGVVMYEMMCGR\n",
       "1812          2101.8456        GDDEEGECSIDYVEMAVNK\n",
       "2192          2101.9341        DFNGSDASTQLNTHYAFSK\n",
       "3325          2101.8744  SSGNSSSSGSGSGSTSAGSSSPGAR"
      ]
     },
     "metadata": {},
     "output_type": "display_data"
    }
   ],
   "source": [
    "peptideCands = ms.peptideCandidates(precursorMass,peptideDatabase=peptideData,massAccuracy=50)\n",
    "display(peptideCands)"
   ]
  },
  {
   "cell_type": "markdown",
   "metadata": {},
   "source": [
    "## Peptide candidates - fragmenting into b and y ions"
   ]
  },
  {
   "cell_type": "markdown",
   "metadata": {},
   "source": [
    "For each of the candidate peptides in the filtered pandas DataFrame, the b and y ions are generated and the **monoisotopic m/z values** are calculated for the specified charge (default value is precursor charge minus 1, or 1 for those with charge 1). The resulting masses are stored in separate numpy arrays for the **b and y ions**, and in the end both are combined into a dictionary."
   ]
  },
  {
   "cell_type": "code",
   "execution_count": 8,
   "metadata": {
    "collapsed": false,
    "scrolled": false
   },
   "outputs": [
    {
     "name": "stdout",
     "output_type": "stream",
     "text": [
      "y ions ['AVDWWGLGVVMYEMMCGR', 'VDWWGLGVVMYEMMCGR', 'DWWGLGVVMYEMMCGR', 'WWGLGVVMYEMMCGR', 'WGLGVVMYEMMCGR', 'GLGVVMYEMMCGR', 'LGVVMYEMMCGR', 'GVVMYEMMCGR', 'VVMYEMMCGR', 'VMYEMMCGR', 'MYEMMCGR', 'YEMMCGR', 'EMMCGR', 'MMCGR', 'MCGR', 'CGR', 'GR', 'R']\n",
      "b ions: ['A', 'AV', 'AVD', 'AVDW', 'AVDWW', 'AVDWWG', 'AVDWWGL', 'AVDWWGLG', 'AVDWWGLGV', 'AVDWWGLGVV', 'AVDWWGLGVVM', 'AVDWWGLGVVMY', 'AVDWWGLGVVMYE', 'AVDWWGLGVVMYEM', 'AVDWWGLGVVMYEMM', 'AVDWWGLGVVMYEMMC', 'AVDWWGLGVVMYEMMCG', 'AVDWWGLGVVMYEMMCGR']\n",
      "{'bIons+1': array([   72.04439025,   171.11280416,   286.13974719,   472.21906014,\n",
      "         658.29837309,   715.31983681,   828.40390079,   885.42536451,\n",
      "         984.49377842,  1083.56219233,  1214.60267725,  1377.66600578,\n",
      "        1506.70859887,  1637.74908378,  1768.78956869,  1871.79875348,\n",
      "        1928.8202172 ,  2084.92132822]), 'yIons+1': array([ 2102.9318929 ,  2031.89477912,  1932.82636521,  1817.79942218,\n",
      "        1631.72010923,  1445.64079628,  1388.61933256,  1275.53526859,\n",
      "        1218.51380486,  1119.44539095,  1020.37697704,   889.33649213,\n",
      "         726.27316359,   597.23057051,   466.19008559,   335.14960068,\n",
      "         232.14041589,   175.11895217])}\n"
     ]
    }
   ],
   "source": [
    "seq = 'AVDWWGLGVVMYEMMCGR'\n",
    "print('y ions',[seq[i:] for i in range(len(seq))])\n",
    "print('b ions:',[seq[:i+1] for i in range(len(seq))])\n",
    "\n",
    "print(ms.getAllFragmentsChargeX(sequence='AVDWWGLGVVMYEMMCGR',charge=precursorCharge))"
   ]
  },
  {
   "cell_type": "markdown",
   "metadata": {},
   "source": [
    "The **monoisotopic m/z values** are calculated using the pyteomics package. For more information, please check its documentation: https://pythonhosted.org/pyteomics/mass.html"
   ]
  },
  {
   "cell_type": "code",
   "execution_count": 9,
   "metadata": {
    "collapsed": false
   },
   "outputs": [
    {
     "name": "stdout",
     "output_type": "stream",
     "text": [
      "175.11895217407\n",
      "157.10838749037\n"
     ]
    }
   ],
   "source": [
    "from pyteomics import mass\n",
    "print(mass.calculate_mass(sequence='R',ion_type='y',charge=1))\n",
    "print(mass.calculate_mass(sequence='R',ion_type='b',charge=1))"
   ]
  },
  {
   "cell_type": "markdown",
   "metadata": {
    "collapsed": true
   },
   "source": [
    "## Experimental peak matching"
   ]
  },
  {
   "cell_type": "markdown",
   "metadata": {},
   "source": [
    "**For each experimental m/z value**, the **theoretical fragment arrays** are queried to find a corresponding mass. The matching tolerance defaults to 0.1 Dalton, but can be specified in the command line using the parameter -t2.\n",
    "\n",
    "If a matching value is found, in either the b or y ion array, the score is incremented by 1. A match in both the y and b ions would still only count as an increment of 1, although we do not expect this to occurr often, since the ion residu masses would have to differ by exactly 18 Da. \n",
    "\n",
    "After counting all the peaks, this sum is then divided by the total number of experimental peaks. In other words, the **percentage of matched experimental peaks** is used as the score.\n",
    "\n",
    "This procedure is then performed for **every candidate peptide** and the scores are stored in the pandas DataFrame. Note that duplicates are removed in case the peptide database is not unique."
   ]
  },
  {
   "cell_type": "code",
   "execution_count": 10,
   "metadata": {
    "collapsed": false,
    "scrolled": true
   },
   "outputs": [
    {
     "data": {
      "text/html": [
       "<div>\n",
       "<table border=\"1\" class=\"dataframe\">\n",
       "  <thead>\n",
       "    <tr style=\"text-align: right;\">\n",
       "      <th></th>\n",
       "      <th>Monoisotopic Mass</th>\n",
       "      <th>Sequence</th>\n",
       "      <th>Score</th>\n",
       "    </tr>\n",
       "  </thead>\n",
       "  <tbody>\n",
       "    <tr>\n",
       "      <th>1645</th>\n",
       "      <td>2101.9246</td>\n",
       "      <td>AVDWWGLGVVMYEMMCGR</td>\n",
       "      <td>0.024658</td>\n",
       "    </tr>\n",
       "    <tr>\n",
       "      <th>1657</th>\n",
       "      <td>2101.8744</td>\n",
       "      <td>SSGNSSSSGSGSGSTSAGSSSPGAR</td>\n",
       "      <td>0.112329</td>\n",
       "    </tr>\n",
       "    <tr>\n",
       "      <th>1812</th>\n",
       "      <td>2101.8456</td>\n",
       "      <td>GDDEEGECSIDYVEMAVNK</td>\n",
       "      <td>0.013699</td>\n",
       "    </tr>\n",
       "    <tr>\n",
       "      <th>2192</th>\n",
       "      <td>2101.9341</td>\n",
       "      <td>DFNGSDASTQLNTHYAFSK</td>\n",
       "      <td>0.016438</td>\n",
       "    </tr>\n",
       "  </tbody>\n",
       "</table>\n",
       "</div>"
      ],
      "text/plain": [
       "      Monoisotopic Mass                   Sequence     Score\n",
       "1645          2101.9246         AVDWWGLGVVMYEMMCGR  0.024658\n",
       "1657          2101.8744  SSGNSSSSGSGSGSTSAGSSSPGAR  0.112329\n",
       "1812          2101.8456        GDDEEGECSIDYVEMAVNK  0.013699\n",
       "2192          2101.9341        DFNGSDASTQLNTHYAFSK  0.016438"
      ]
     },
     "metadata": {},
     "output_type": "display_data"
    }
   ],
   "source": [
    "peptideCands = ms.matchExpSpectrumToCandidatePeptides(expMZ,peptideCands,charge=precursorCharge,ms2tolerance=0.1)\n",
    "display(peptideCands)"
   ]
  },
  {
   "cell_type": "markdown",
   "metadata": {},
   "source": [
    "### Motivation for using the percentage count as a score\n",
    "\n",
    "Note that we are matching experimental to theoretical fragments here. We divided the number of matches by the total number of experimental peaks, as opposed to those in the theoretical spectrum. Our motivation for this is the following:\n",
    "\n",
    "- Our main point of interest is the observed experimental spectrum. We aim to explain this data as well as possible. Any peak that can be found in the theoretical database is a peak that can be explained. \n",
    "- The reverse, checking how many of the theoretical peaks are actually observed, is of less importances in our opinion. Indeed, there could be many reasons why a certain theoretically predicted y or b ion might not be observed, e.g. incomplete fragmentation leads to missing ions. But this does not mean that the experimental spectrum did not originate from the peptide in question.\n",
    "- By dividing by the number of expected theoretical peaks, we are penalizing observed spectra where for example the shortest or longest ions were not observed, but this should not be indicative of a worse match.\n",
    "- The opposite does not hold either: a theoretical spectrum with only a few peaks might obtain a high score, if almost all of these can be matched to the theoretical spectrum. However, all the other true peaks in the theoretical spectrum cannot be explained by the theoretical one, yet we are not penalizing the score if we divide by the number of theoretical peaks. This peptide would obtain the same score as a peptide which matches additional theoretical peaks, or a lower score than a peptide which matches additional ones, but also lacks a few.\n",
    "- Any electrical noise or chemical noise (contamination) in the experimental spectrum might result in erroneous matches, but we are working under the assumption that the signal of the peptide that was selected during MS1 will be stronger than the noise.\n",
    "- Finally, if we would not use the percentage as a score, but rather the raw counts, the score would become less suitable for comparison across spectra, since short peptides would always result in lower scores. \n",
    "\n",
    "### Shortcomings of scoring function\n",
    "We do note that there are a few shortcomings to this method, which are addressed in other scoring functions. For example, our approach does not take into account the intensities of the experimental spectrum, but this is a complex field and highly dependent on the technology that was used (Sadygov, Cociorva & Yates, 2004). Furthermore, ion series other than the y and b series are ignored and we do not check the completeness of these series. Finally, we also do not look for neutral losses or other modifications of the ions."
   ]
  },
  {
   "cell_type": "markdown",
   "metadata": {},
   "source": [
    "### A note about isotopic peaks\n",
    "\n",
    "Our score does not take into account isotopic peaks in the theoretical spectrum, but we believe this is likely not a big issue:\n",
    "\n",
    "- First of all, all theoretical spectra consist of only the monoisotopic m/z values.\n",
    "- Consequently, all peptide candidates will fail to match to the higher mass isotopic peaks in the theoretical fragment (unless a different y/b ion has the same m/z as a higher order isotopic peak of a different ion). The scores of the peptides will systematically be lower by the same amount, i.e. their ranking will be consistent.\n",
    "\n",
    "An alternative strategy would be to first de-isotope the experimental spectrum, but this would require accuracte calling of true peaks and can be difficult if there is noise or overlap between the b/y ion series."
   ]
  },
  {
   "cell_type": "markdown",
   "metadata": {},
   "source": [
    "### Visualisation of peak matching\n",
    "Visually, the following is happening: all black peaks (experimental peaks) that overlap (given a certain error tolerance) with the red peaks (theoretical fragment masses) are counted."
   ]
  },
  {
   "cell_type": "code",
   "execution_count": 11,
   "metadata": {
    "collapsed": false
   },
   "outputs": [
    {
     "data": {
      "text/plain": [
       "<Container object of 36 artists>"
      ]
     },
     "execution_count": 11,
     "metadata": {},
     "output_type": "execute_result"
    },
    {
     "data": {
      "image/png": "[encoded data removed]",
      "text/plain": [
       "<matplotlib.figure.Figure at 0x7a0a780>"
      ]
     },
     "metadata": {},
     "output_type": "display_data"
    }
   ],
   "source": [
    "%matplotlib inline\n",
    "import numpy as np\n",
    "import pylab\n",
    "pylab.figure()\n",
    "pylab.title('Theoretical and experimental spectra')\n",
    "pylab.xlabel('m/z, Th')\n",
    "pylab.ylabel('Intensity, rel. units')\n",
    "pylab.bar(expSpec[:,0], expSpec[:,1], width=0.1, linewidth=2,edgecolor='black')\n",
    "theor_spectrum = list(ms.getAllFragmentsChargeX(peptideCands.loc[1645,'Sequence'],1).values())\n",
    "theor_spectrum = np.vstack(theor_spectrum).flatten()\n",
    "pylab.bar(theor_spectrum,[expSpec[:,1].max()]*len(theor_spectrum),width=0.1, edgecolor='red', alpha=0.7)"
   ]
  },
  {
   "cell_type": "markdown",
   "metadata": {},
   "source": [
    "## Decoy peak matching"
   ]
  },
  {
   "cell_type": "markdown",
   "metadata": {},
   "source": [
    "The **reversed decoy peptides** are filtered and the *in silico* y/b ions are derived in exactly the same manner as above."
   ]
  },
  {
   "cell_type": "code",
   "execution_count": 12,
   "metadata": {
    "collapsed": false,
    "scrolled": true
   },
   "outputs": [
    {
     "data": {
      "text/html": [
       "<div>\n",
       "<table border=\"1\" class=\"dataframe\">\n",
       "  <thead>\n",
       "    <tr style=\"text-align: right;\">\n",
       "      <th></th>\n",
       "      <th>Monoisotopic Mass</th>\n",
       "      <th>Sequence</th>\n",
       "      <th>Score</th>\n",
       "    </tr>\n",
       "  </thead>\n",
       "  <tbody>\n",
       "    <tr>\n",
       "      <th>1660</th>\n",
       "      <td>2101.9246</td>\n",
       "      <td>GCMMEYMVVGLGWWDVAR</td>\n",
       "      <td>0.019178</td>\n",
       "    </tr>\n",
       "    <tr>\n",
       "      <th>2146</th>\n",
       "      <td>2101.9341</td>\n",
       "      <td>SFAYHTNLQTSADSGNFDK</td>\n",
       "      <td>0.013699</td>\n",
       "    </tr>\n",
       "  </tbody>\n",
       "</table>\n",
       "</div>"
      ],
      "text/plain": [
       "      Monoisotopic Mass             Sequence     Score\n",
       "1660          2101.9246   GCMMEYMVVGLGWWDVAR  0.019178\n",
       "2146          2101.9341  SFAYHTNLQTSADSGNFDK  0.013699"
      ]
     },
     "metadata": {},
     "output_type": "display_data"
    }
   ],
   "source": [
    "decoyCands = ms.peptideCandidates(precursorMass,peptideDatabase=decoyPeptideData,massAccuracy=50)\n",
    "decoyCands = ms.matchExpSpectrumToCandidatePeptides(expMZ,decoyCands,charge=precursorCharge,ms2tolerance=0.1)\n",
    "display(decoyCands)"
   ]
  },
  {
   "cell_type": "markdown",
   "metadata": {},
   "source": [
    "## Peptide Spectrum Match"
   ]
  },
  {
   "cell_type": "markdown",
   "metadata": {},
   "source": [
    "For each spectrum, the top scoring peptide is selected as the **peptide spectrum match** (or PSM). Doing this for both the target and decoy database results in a target and decoy PSM as follows:"
   ]
  },
  {
   "cell_type": "code",
   "execution_count": 13,
   "metadata": {
    "collapsed": false
   },
   "outputs": [
    {
     "name": "stdout",
     "output_type": "stream",
     "text": [
      "Sequence    SSGNSSSSGSGSGSTSAGSSSPGAR\n",
      "Score                        0.112329\n",
      "Type                           Target\n",
      "Spectrum    hela1ugul.2404.2404.2.dta\n",
      "Name: 1657, dtype: object \n",
      "\n",
      "Sequence           GCMMEYMVVGLGWWDVAR\n",
      "Score                       0.0191781\n",
      "Type                            Decoy\n",
      "Spectrum    hela1ugul.2404.2404.2.dta\n",
      "Name: 1660, dtype: object\n"
     ]
    }
   ],
   "source": [
    "targetPSM = peptideCands.loc[peptideCands['Score'].idxmax()].copy()\n",
    "targetPSM['Type'] = 'Target'\n",
    "targetPSM['Spectrum'] = 'hela1ugul.2404.2404.2.dta'\n",
    "targetPSM = targetPSM.drop('Monoisotopic Mass')\n",
    "\n",
    "decoyPSM =decoyCands.loc[decoyCands['Score'].idxmax()].copy()\n",
    "decoyPSM['Type'] = 'Decoy'\n",
    "decoyPSM['Spectrum'] = 'hela1ugul.2404.2404.2.dta'\n",
    "decoyPSM = decoyPSM.drop('Monoisotopic Mass')\n",
    "\n",
    "print(targetPSM,'\\n')\n",
    "print(decoyPSM)"
   ]
  },
  {
   "cell_type": "markdown",
   "metadata": {},
   "source": [
    "## Retrieving peptide spectrum matches for all the spectra"
   ]
  },
  {
   "cell_type": "markdown",
   "metadata": {},
   "source": [
    "The following functions perform all of the procedures we described above, for all the experimental spectra. When running this tool in the command line, all the .dta files in the specified folder will be considered.\n",
    "\n",
    "The final dataframe at the bottom contains the **top target and decoy PSM's for each spectrum**."
   ]
  },
  {
   "cell_type": "code",
   "execution_count": 14,
   "metadata": {
    "collapsed": false,
    "scrolled": true
   },
   "outputs": [
    {
     "data": {
      "text/html": [
       "<div>\n",
       "<table border=\"1\" class=\"dataframe\">\n",
       "  <thead>\n",
       "    <tr style=\"text-align: right;\">\n",
       "      <th></th>\n",
       "      <th>Sequence</th>\n",
       "      <th>Score</th>\n",
       "      <th>Type</th>\n",
       "      <th>Spectrum</th>\n",
       "    </tr>\n",
       "  </thead>\n",
       "  <tbody>\n",
       "    <tr>\n",
       "      <th>1657</th>\n",
       "      <td>SSGNSSSSGSGSGSTSAGSSSPGAR</td>\n",
       "      <td>0.112329</td>\n",
       "      <td>Target</td>\n",
       "      <td>hela1ugul.2404.2404.2.dta</td>\n",
       "    </tr>\n",
       "    <tr>\n",
       "      <th>1659</th>\n",
       "      <td>LGIYDADGDGDFDVDDAK</td>\n",
       "      <td>0.053608</td>\n",
       "      <td>Target</td>\n",
       "      <td>hela1ugul.12566.12566.2.dta</td>\n",
       "    </tr>\n",
       "    <tr>\n",
       "      <th>1730</th>\n",
       "      <td>ADDVDFDGDGDADYIGLK</td>\n",
       "      <td>0.039175</td>\n",
       "      <td>Decoy</td>\n",
       "      <td>hela1ugul.12566.12566.2.dta</td>\n",
       "    </tr>\n",
       "    <tr>\n",
       "      <th>1981</th>\n",
       "      <td>QEDSPFQCPK</td>\n",
       "      <td>0.038997</td>\n",
       "      <td>Target</td>\n",
       "      <td>hela1ugul.3746.3746.2.dta</td>\n",
       "    </tr>\n",
       "    <tr>\n",
       "      <th>2094</th>\n",
       "      <td>QDCWVQMLR</td>\n",
       "      <td>0.033426</td>\n",
       "      <td>Decoy</td>\n",
       "      <td>hela1ugul.3746.3746.2.dta</td>\n",
       "    </tr>\n",
       "    <tr>\n",
       "      <th>1669</th>\n",
       "      <td>GAIETYQEVASLPDVPADLLK</td>\n",
       "      <td>0.029006</td>\n",
       "      <td>Target</td>\n",
       "      <td>hela1ugul.16509.16509.3.dta</td>\n",
       "    </tr>\n",
       "    <tr>\n",
       "      <th>1657</th>\n",
       "      <td>SSGNSSSSGSGSGSTSAGSSSPGAR</td>\n",
       "      <td>0.027607</td>\n",
       "      <td>Target</td>\n",
       "      <td>hela1ugul.2406.2406.3.dta</td>\n",
       "    </tr>\n",
       "    <tr>\n",
       "      <th>2879</th>\n",
       "      <td>TSPSSSPQLAESPPVNAAWFR</td>\n",
       "      <td>0.019337</td>\n",
       "      <td>Decoy</td>\n",
       "      <td>hela1ugul.16509.16509.3.dta</td>\n",
       "    </tr>\n",
       "    <tr>\n",
       "      <th>1660</th>\n",
       "      <td>GCMMEYMVVGLGWWDVAR</td>\n",
       "      <td>0.019178</td>\n",
       "      <td>Decoy</td>\n",
       "      <td>hela1ugul.2404.2404.2.dta</td>\n",
       "    </tr>\n",
       "    <tr>\n",
       "      <th>2146</th>\n",
       "      <td>SFAYHTNLQTSADSGNFDK</td>\n",
       "      <td>0.018405</td>\n",
       "      <td>Decoy</td>\n",
       "      <td>hela1ugul.2406.2406.3.dta</td>\n",
       "    </tr>\n",
       "  </tbody>\n",
       "</table>\n",
       "</div>"
      ],
      "text/plain": [
       "                       Sequence     Score    Type                     Spectrum\n",
       "1657  SSGNSSSSGSGSGSTSAGSSSPGAR  0.112329  Target    hela1ugul.2404.2404.2.dta\n",
       "1659         LGIYDADGDGDFDVDDAK  0.053608  Target  hela1ugul.12566.12566.2.dta\n",
       "1730         ADDVDFDGDGDADYIGLK  0.039175   Decoy  hela1ugul.12566.12566.2.dta\n",
       "1981                 QEDSPFQCPK  0.038997  Target    hela1ugul.3746.3746.2.dta\n",
       "2094                  QDCWVQMLR  0.033426   Decoy    hela1ugul.3746.3746.2.dta\n",
       "1669      GAIETYQEVASLPDVPADLLK  0.029006  Target  hela1ugul.16509.16509.3.dta\n",
       "1657  SSGNSSSSGSGSGSTSAGSSSPGAR  0.027607  Target    hela1ugul.2406.2406.3.dta\n",
       "2879      TSPSSSPQLAESPPVNAAWFR  0.019337   Decoy  hela1ugul.16509.16509.3.dta\n",
       "1660         GCMMEYMVVGLGWWDVAR  0.019178   Decoy    hela1ugul.2404.2404.2.dta\n",
       "2146        SFAYHTNLQTSADSGNFDK  0.018405   Decoy    hela1ugul.2406.2406.3.dta"
      ]
     },
     "metadata": {},
     "output_type": "display_data"
    }
   ],
   "source": [
    "import pandas as pd\n",
    "def getPSM(spectrumFile,folderPath,ms1Tolerance,ms2Tolerance):\n",
    "    \"\"\"\n",
    "    For the provided spectrum, the peptide spectrum match (PSM) and associated\n",
    "    score will be computed by filtering peptide candidates from the peptide database,\n",
    "    using the ms1 tolerance (default = 50 ppm), generating b/y ions\n",
    "    and calculating their m/z values (with the parent charge minus 1, or 1 for singly charged parents),\n",
    "    and finally counting the number of matching peaks between the experimental and\n",
    "    theoretical peptide spectrum (using the ms2 tolerance 0.1 Da).\n",
    "    The same procedure is repeated by searching against the decoy peptide database.\n",
    "\n",
    "    Parameters\n",
    "    ----------\n",
    "    spectrumFile : str\n",
    "        The file name of experimental spectrum .dta file.\n",
    "    folderPath : str\n",
    "        The folder containing the experimental spectra .dta files.\n",
    "        Provided by the calling function matchAllSpectra().\n",
    "    ms1tolerance : float\n",
    "        The ms1 mass filtering error tolerance to use, in ppm.\n",
    "    ms2tolerance : float\n",
    "        The ms2 error tolerance to use during peak matching, in Dalton.\n",
    "\n",
    "    Returns\n",
    "    -------\n",
    "    targetPSM : Series\n",
    "        A pandas series containing the target PSM score and sequence.\n",
    "    decoyPSM : Series\n",
    "        A pandas series containing the decoy PSM score and sequence.\n",
    "    \"\"\"\n",
    "\n",
    "    # Read in experimental spectrum\n",
    "    expSpec = ms.importExperimentalSpectrum(os.path.normpath(os.path.join(folderPath,spectrumFile)))\n",
    "\n",
    "    # Retrieve parent mass (M) and charge to use: parent charge minus 1 unless parent charge is 1 already\n",
    "    precursorMass = ms.getPrecursorMass(expSpec)\n",
    "    precursorCharge = ms.getPrecursorCharge(expSpec) if ms.getPrecursorCharge(expSpec)==1 else ms.getPrecursorCharge(expSpec)-1\n",
    "\n",
    "    # Retrieve experimental m/z values\n",
    "    expMZ = ms.getExperimentalMZs(expSpec)\n",
    "\n",
    "    # Find peptide candidates in database\n",
    "    peptideCands = ms.peptideCandidates(precursorMass,peptideDatabase=peptideData,massAccuracy=ms1Tolerance)\n",
    "\n",
    "    # Calculate scores for peptide candidates - use precursor charge -1\n",
    "    peptideCands = ms.matchExpSpectrumToCandidatePeptides(expMZ,peptideCands,charge=precursorCharge,ms2tolerance=ms2Tolerance)\n",
    "\n",
    "    # Retrieve highest score = target peptide spectrum match\n",
    "    targetPSM = peptideCands.loc[peptideCands['Score'].idxmax()].copy()\n",
    "    targetPSM['Type'] = 'Target'\n",
    "    targetPSM['Spectrum'] = spectrumFile\n",
    "    targetPSM = targetPSM.drop('Monoisotopic Mass')\n",
    "\n",
    "    # Find peptide candidates in decoys\n",
    "    decoyCands = ms.peptideCandidates(precursorMass,peptideDatabase=decoyPeptideData,massAccuracy=ms1Tolerance)\n",
    "\n",
    "    # Calculate scores for peptide candidates - use precursor charge -1\n",
    "    decoyCands = ms.matchExpSpectrumToCandidatePeptides(expMZ,decoyCands,charge=precursorCharge,ms2tolerance=ms2Tolerance)\n",
    "\n",
    "    # Retrieve highest decoy score = decoy peptide spectrum match\n",
    "    decoyPSM =decoyCands.loc[decoyCands['Score'].idxmax()].copy()\n",
    "    decoyPSM['Type'] = 'Decoy'\n",
    "    decoyPSM['Spectrum'] = spectrumFile\n",
    "    decoyPSM = decoyPSM.drop('Monoisotopic Mass')\n",
    "    \n",
    "#    print('Peptide matching scores for experimental spectrum ',spectrumFile)\n",
    "#    print(peptideCands,'\\n')\n",
    "#    print('Target PSM: ',targetPSM,'\\n')\n",
    "#    print('Decoy matching scores for experimental spectrum ',spectrumFile)\n",
    "#    print(decoyCands,'\\n')\n",
    "#    print('Decoy PSM: ',decoyPSM,'\\n')\n",
    "\n",
    "    return targetPSM,decoyPSM\n",
    "\n",
    "def matchAllSpectra(pathToSpectra,ms1Tolerance,ms2Tolerance):\n",
    "    \"\"\"\n",
    "    For all the provided spectra files, the target and decoy peptide spectrum match (PSM)\n",
    "    is returned.\n",
    "\n",
    "    See the function getPSM() for more details.\n",
    "\n",
    "    Parameters\n",
    "    ----------\n",
    "    pathToSpectra : The absolute path to the spectra .dta files.\n",
    "    ms1tolerance : float\n",
    "        The ms1 mass filtering error tolerance to use, in ppm.\n",
    "    ms2tolerance : float\n",
    "        The ms2 error tolerance to use during peak matching, in Dalton.\n",
    "\n",
    "    Returns\n",
    "    -------\n",
    "    spectrumScoreDatabase : DataFrame\n",
    "        A pandas DataFrame containing target and decoy PSM scores for all spectra.\n",
    "    \"\"\"\n",
    "\n",
    "    # Initialise dataframe to store results\n",
    "    spectrumScoreDatabase = pd.DataFrame()\n",
    "\n",
    "    for f in os.listdir(pathToSpectra):\n",
    "        #print('Processing',f)\n",
    "        if f.endswith(\".dta\"):\n",
    "            target,decoy = getPSM(f,folderPath=pathToSpectra,ms1Tolerance=ms1Tolerance,ms2Tolerance=ms2Tolerance)\n",
    "            spectrumScoreDatabase = spectrumScoreDatabase.append([target,decoy])\n",
    "        else:\n",
    "            continue\n",
    "\n",
    "    # sort scores\n",
    "    spectrumScoreDatabase = spectrumScoreDatabase.sort_values('Score',ascending=False)\n",
    "\n",
    "    return spectrumScoreDatabase\n",
    "PSM = matchAllSpectra(spectraFilePath,ms1Tolerance=50,ms2Tolerance=0.1)\n",
    "display(PSM)"
   ]
  },
  {
   "cell_type": "markdown",
   "metadata": {},
   "source": [
    "## Some notes about target-decoy search strategy\n",
    "\n",
    "For each experimental spectrum we selected the highest scoring theoretical spectrum as the best match (PSM), but in reality not all of these will be correct matches. Some of the experimental spectra might not be derived from peptide digests of the original protein, but instead stem from contaminating (bio)-molecules. In addition, the correct peptide sequence might not be present in the database or the experimental spectrum might be of poor quality (Elias & Gygi, 2007). \n",
    "\n",
    "Because of these issues we need a statistically sound method of calling a match significant. Furthermore, when processing multiple spectra, we should guard ourselves against multiple testing issue, for example by controlling the false discovery rate (FDR) (although P-value or Expectation value based approaches also exist.\n",
    "\n",
    "The peptide decoy dataset provides an intuitive representation of the **null hypothesis**: any experimental spectrum that is queried against the decoys will result in decoy matches which are by definition incorrect (Elias & Gygi, 2007; Käll et al., 2008). As such, it provides a nice estimation of the number of false positives.\n",
    "\n",
    "Decoys can be obtained by reversing the original target databases, like was done here, but also by shuffling or stochastically (e.g. using Markov models), and while there is no clear choice for this, the methods generally perform similarly (Jeong, Kim & Bandeira, 2012).\n",
    "\n",
    "### P-value calculation\n",
    "The decoy search allows us to calculate p-values by counting how many decoy PSM scores are greater than each target PSM score (Käll et al., 2008). However, note that, similar to Monte Carlo p-values, the accuracy depends on the size of the decoy database. In our case the p-values will only be able to take on five different values, but they are still illustrative."
   ]
  },
  {
   "cell_type": "code",
   "execution_count": 15,
   "metadata": {
    "collapsed": false
   },
   "outputs": [
    {
     "data": {
      "text/html": [
       "<div>\n",
       "<table border=\"1\" class=\"dataframe\">\n",
       "  <thead>\n",
       "    <tr style=\"text-align: right;\">\n",
       "      <th></th>\n",
       "      <th>Sequence</th>\n",
       "      <th>Score</th>\n",
       "      <th>Type</th>\n",
       "      <th>Spectrum</th>\n",
       "      <th>P-value</th>\n",
       "    </tr>\n",
       "  </thead>\n",
       "  <tbody>\n",
       "    <tr>\n",
       "      <th>1657</th>\n",
       "      <td>SSGNSSSSGSGSGSTSAGSSSPGAR</td>\n",
       "      <td>0.112329</td>\n",
       "      <td>Target</td>\n",
       "      <td>hela1ugul.2404.2404.2.dta</td>\n",
       "      <td>0.0</td>\n",
       "    </tr>\n",
       "    <tr>\n",
       "      <th>1659</th>\n",
       "      <td>LGIYDADGDGDFDVDDAK</td>\n",
       "      <td>0.053608</td>\n",
       "      <td>Target</td>\n",
       "      <td>hela1ugul.12566.12566.2.dta</td>\n",
       "      <td>0.0</td>\n",
       "    </tr>\n",
       "    <tr>\n",
       "      <th>1730</th>\n",
       "      <td>ADDVDFDGDGDADYIGLK</td>\n",
       "      <td>0.039175</td>\n",
       "      <td>Decoy</td>\n",
       "      <td>hela1ugul.12566.12566.2.dta</td>\n",
       "      <td>0.2</td>\n",
       "    </tr>\n",
       "    <tr>\n",
       "      <th>1981</th>\n",
       "      <td>QEDSPFQCPK</td>\n",
       "      <td>0.038997</td>\n",
       "      <td>Target</td>\n",
       "      <td>hela1ugul.3746.3746.2.dta</td>\n",
       "      <td>0.2</td>\n",
       "    </tr>\n",
       "    <tr>\n",
       "      <th>2094</th>\n",
       "      <td>QDCWVQMLR</td>\n",
       "      <td>0.033426</td>\n",
       "      <td>Decoy</td>\n",
       "      <td>hela1ugul.3746.3746.2.dta</td>\n",
       "      <td>0.4</td>\n",
       "    </tr>\n",
       "    <tr>\n",
       "      <th>1669</th>\n",
       "      <td>GAIETYQEVASLPDVPADLLK</td>\n",
       "      <td>0.029006</td>\n",
       "      <td>Target</td>\n",
       "      <td>hela1ugul.16509.16509.3.dta</td>\n",
       "      <td>0.4</td>\n",
       "    </tr>\n",
       "    <tr>\n",
       "      <th>1657</th>\n",
       "      <td>SSGNSSSSGSGSGSTSAGSSSPGAR</td>\n",
       "      <td>0.027607</td>\n",
       "      <td>Target</td>\n",
       "      <td>hela1ugul.2406.2406.3.dta</td>\n",
       "      <td>0.4</td>\n",
       "    </tr>\n",
       "    <tr>\n",
       "      <th>2879</th>\n",
       "      <td>TSPSSSPQLAESPPVNAAWFR</td>\n",
       "      <td>0.019337</td>\n",
       "      <td>Decoy</td>\n",
       "      <td>hela1ugul.16509.16509.3.dta</td>\n",
       "      <td>0.6</td>\n",
       "    </tr>\n",
       "    <tr>\n",
       "      <th>1660</th>\n",
       "      <td>GCMMEYMVVGLGWWDVAR</td>\n",
       "      <td>0.019178</td>\n",
       "      <td>Decoy</td>\n",
       "      <td>hela1ugul.2404.2404.2.dta</td>\n",
       "      <td>0.8</td>\n",
       "    </tr>\n",
       "    <tr>\n",
       "      <th>2146</th>\n",
       "      <td>SFAYHTNLQTSADSGNFDK</td>\n",
       "      <td>0.018405</td>\n",
       "      <td>Decoy</td>\n",
       "      <td>hela1ugul.2406.2406.3.dta</td>\n",
       "      <td>1.0</td>\n",
       "    </tr>\n",
       "  </tbody>\n",
       "</table>\n",
       "</div>"
      ],
      "text/plain": [
       "                       Sequence     Score    Type  \\\n",
       "1657  SSGNSSSSGSGSGSTSAGSSSPGAR  0.112329  Target   \n",
       "1659         LGIYDADGDGDFDVDDAK  0.053608  Target   \n",
       "1730         ADDVDFDGDGDADYIGLK  0.039175   Decoy   \n",
       "1981                 QEDSPFQCPK  0.038997  Target   \n",
       "2094                  QDCWVQMLR  0.033426   Decoy   \n",
       "1669      GAIETYQEVASLPDVPADLLK  0.029006  Target   \n",
       "1657  SSGNSSSSGSGSGSTSAGSSSPGAR  0.027607  Target   \n",
       "2879      TSPSSSPQLAESPPVNAAWFR  0.019337   Decoy   \n",
       "1660         GCMMEYMVVGLGWWDVAR  0.019178   Decoy   \n",
       "2146        SFAYHTNLQTSADSGNFDK  0.018405   Decoy   \n",
       "\n",
       "                         Spectrum  P-value  \n",
       "1657    hela1ugul.2404.2404.2.dta      0.0  \n",
       "1659  hela1ugul.12566.12566.2.dta      0.0  \n",
       "1730  hela1ugul.12566.12566.2.dta      0.2  \n",
       "1981    hela1ugul.3746.3746.2.dta      0.2  \n",
       "2094    hela1ugul.3746.3746.2.dta      0.4  \n",
       "1669  hela1ugul.16509.16509.3.dta      0.4  \n",
       "1657    hela1ugul.2406.2406.3.dta      0.4  \n",
       "2879  hela1ugul.16509.16509.3.dta      0.6  \n",
       "1660    hela1ugul.2404.2404.2.dta      0.8  \n",
       "2146    hela1ugul.2406.2406.3.dta      1.0  "
      ]
     },
     "metadata": {},
     "output_type": "display_data"
    }
   ],
   "source": [
    "PSM.loc[:,'P-value'] = PSM.apply(lambda row: (row['Score'] <= PSM.loc[PSM['Type'] == 'Decoy','Score']).sum() / PSM.loc[PSM['Type'] == 'Decoy','Score'].size ,axis=1)\n",
    "display(PSM)"
   ]
  },
  {
   "cell_type": "markdown",
   "metadata": {},
   "source": [
    "### Multiple testing and false discovery\n",
    "\n",
    "The decoy search also provides an elegant way to estimate the false discovery rate (FDR) and guard against multiple testing issues. The FDR describes the expected number of false positives among all significant/accepted PSM's. By setting a scoring or p-value threshold, the FDR is simply the number of decoys PSM's higher than this threshold, divided by the number of target PSM's (Käll et al., 2008): $$ FDR_{t} = \\frac{N_{decoy}}{N_{target}} $$ \n",
    "\n",
    "where $N_{decoy}$ and $N_{target}$ are the number of PSM scores larger than the threshold $t$.\n",
    "\n",
    "### Q-values\n",
    "FDR's can be a bit unintuitive, because they are defined for a set of spectra, rather than being a function of the score or p-value of a single PSM. **Q-values** provide a more elegant solution: they describe the minimum FDR threshold at which the current PSM would still be accepted (Käll et al., 2008; Noble, 2009). In other words, the q-value estimates the number of false positives among all PSM's with a score higher than the current PSM.\n",
    "\n",
    "Note that the decoy PSM's do not get assigned a q-value."
   ]
  },
  {
   "cell_type": "code",
   "execution_count": 16,
   "metadata": {
    "collapsed": false
   },
   "outputs": [
    {
     "data": {
      "text/html": [
       "<div>\n",
       "<table border=\"1\" class=\"dataframe\">\n",
       "  <thead>\n",
       "    <tr style=\"text-align: right;\">\n",
       "      <th></th>\n",
       "      <th>Sequence</th>\n",
       "      <th>Score</th>\n",
       "      <th>Type</th>\n",
       "      <th>Spectrum</th>\n",
       "      <th>P-value</th>\n",
       "      <th>Q-value</th>\n",
       "    </tr>\n",
       "  </thead>\n",
       "  <tbody>\n",
       "    <tr>\n",
       "      <th>1657</th>\n",
       "      <td>SSGNSSSSGSGSGSTSAGSSSPGAR</td>\n",
       "      <td>0.112329</td>\n",
       "      <td>Target</td>\n",
       "      <td>hela1ugul.2404.2404.2.dta</td>\n",
       "      <td>0.0</td>\n",
       "      <td>0.000000</td>\n",
       "    </tr>\n",
       "    <tr>\n",
       "      <th>1659</th>\n",
       "      <td>LGIYDADGDGDFDVDDAK</td>\n",
       "      <td>0.053608</td>\n",
       "      <td>Target</td>\n",
       "      <td>hela1ugul.12566.12566.2.dta</td>\n",
       "      <td>0.0</td>\n",
       "      <td>0.000000</td>\n",
       "    </tr>\n",
       "    <tr>\n",
       "      <th>1730</th>\n",
       "      <td>ADDVDFDGDGDADYIGLK</td>\n",
       "      <td>0.039175</td>\n",
       "      <td>Decoy</td>\n",
       "      <td>hela1ugul.12566.12566.2.dta</td>\n",
       "      <td>0.2</td>\n",
       "      <td>NaN</td>\n",
       "    </tr>\n",
       "    <tr>\n",
       "      <th>1981</th>\n",
       "      <td>QEDSPFQCPK</td>\n",
       "      <td>0.038997</td>\n",
       "      <td>Target</td>\n",
       "      <td>hela1ugul.3746.3746.2.dta</td>\n",
       "      <td>0.2</td>\n",
       "      <td>0.333333</td>\n",
       "    </tr>\n",
       "    <tr>\n",
       "      <th>2094</th>\n",
       "      <td>QDCWVQMLR</td>\n",
       "      <td>0.033426</td>\n",
       "      <td>Decoy</td>\n",
       "      <td>hela1ugul.3746.3746.2.dta</td>\n",
       "      <td>0.4</td>\n",
       "      <td>NaN</td>\n",
       "    </tr>\n",
       "    <tr>\n",
       "      <th>1669</th>\n",
       "      <td>GAIETYQEVASLPDVPADLLK</td>\n",
       "      <td>0.029006</td>\n",
       "      <td>Target</td>\n",
       "      <td>hela1ugul.16509.16509.3.dta</td>\n",
       "      <td>0.4</td>\n",
       "      <td>0.400000</td>\n",
       "    </tr>\n",
       "    <tr>\n",
       "      <th>1657</th>\n",
       "      <td>SSGNSSSSGSGSGSTSAGSSSPGAR</td>\n",
       "      <td>0.027607</td>\n",
       "      <td>Target</td>\n",
       "      <td>hela1ugul.2406.2406.3.dta</td>\n",
       "      <td>0.4</td>\n",
       "      <td>0.000000</td>\n",
       "    </tr>\n",
       "    <tr>\n",
       "      <th>2879</th>\n",
       "      <td>TSPSSSPQLAESPPVNAAWFR</td>\n",
       "      <td>0.019337</td>\n",
       "      <td>Decoy</td>\n",
       "      <td>hela1ugul.16509.16509.3.dta</td>\n",
       "      <td>0.6</td>\n",
       "      <td>NaN</td>\n",
       "    </tr>\n",
       "    <tr>\n",
       "      <th>1660</th>\n",
       "      <td>GCMMEYMVVGLGWWDVAR</td>\n",
       "      <td>0.019178</td>\n",
       "      <td>Decoy</td>\n",
       "      <td>hela1ugul.2404.2404.2.dta</td>\n",
       "      <td>0.8</td>\n",
       "      <td>NaN</td>\n",
       "    </tr>\n",
       "    <tr>\n",
       "      <th>2146</th>\n",
       "      <td>SFAYHTNLQTSADSGNFDK</td>\n",
       "      <td>0.018405</td>\n",
       "      <td>Decoy</td>\n",
       "      <td>hela1ugul.2406.2406.3.dta</td>\n",
       "      <td>1.0</td>\n",
       "      <td>NaN</td>\n",
       "    </tr>\n",
       "  </tbody>\n",
       "</table>\n",
       "</div>"
      ],
      "text/plain": [
       "                       Sequence     Score    Type  \\\n",
       "1657  SSGNSSSSGSGSGSTSAGSSSPGAR  0.112329  Target   \n",
       "1659         LGIYDADGDGDFDVDDAK  0.053608  Target   \n",
       "1730         ADDVDFDGDGDADYIGLK  0.039175   Decoy   \n",
       "1981                 QEDSPFQCPK  0.038997  Target   \n",
       "2094                  QDCWVQMLR  0.033426   Decoy   \n",
       "1669      GAIETYQEVASLPDVPADLLK  0.029006  Target   \n",
       "1657  SSGNSSSSGSGSGSTSAGSSSPGAR  0.027607  Target   \n",
       "2879      TSPSSSPQLAESPPVNAAWFR  0.019337   Decoy   \n",
       "1660         GCMMEYMVVGLGWWDVAR  0.019178   Decoy   \n",
       "2146        SFAYHTNLQTSADSGNFDK  0.018405   Decoy   \n",
       "\n",
       "                         Spectrum  P-value   Q-value  \n",
       "1657    hela1ugul.2404.2404.2.dta      0.0  0.000000  \n",
       "1659  hela1ugul.12566.12566.2.dta      0.0  0.000000  \n",
       "1730  hela1ugul.12566.12566.2.dta      0.2       NaN  \n",
       "1981    hela1ugul.3746.3746.2.dta      0.2  0.333333  \n",
       "2094    hela1ugul.3746.3746.2.dta      0.4       NaN  \n",
       "1669  hela1ugul.16509.16509.3.dta      0.4  0.400000  \n",
       "1657    hela1ugul.2406.2406.3.dta      0.4  0.000000  \n",
       "2879  hela1ugul.16509.16509.3.dta      0.6       NaN  \n",
       "1660    hela1ugul.2404.2404.2.dta      0.8       NaN  \n",
       "2146    hela1ugul.2406.2406.3.dta      1.0       NaN  "
      ]
     },
     "metadata": {},
     "output_type": "display_data"
    }
   ],
   "source": [
    "# reverse PSM list to allow checking if current q-value is larger than previous ones\n",
    "revPSM = PSM.iloc[::-1].copy()\n",
    "# initialize q-value column\n",
    "revPSM['Q-value'] = np.nan\n",
    "# retrieve decoy and target scores\n",
    "decoys = revPSM.loc[revPSM['Type'] == 'Decoy']\n",
    "targets = revPSM.loc[revPSM['Type'] == 'Target']\n",
    "# set variable to remember previous FDR during loop\n",
    "previousFDR = 1\n",
    "# Set the q-value for each PSM to the smallest FDR cut-off at which it would still be accepted\n",
    "# Prevents q-values for higher scores to be lower than for lower scores by looking back at previous values\n",
    "for index, row in revPSM.iterrows():\n",
    "    if row['Type'] == 'Decoy':\n",
    "        continue\n",
    "    FDR = (decoys.Score >= row['Score']).sum()/ (targets.Score >= row['Score']).sum()\n",
    "    FDR = FDR if previousFDR >= FDR else previousFDR\n",
    "    revPSM.loc[index,'Q-value'] = FDR\n",
    "    previousFDR = FDR\n",
    "# return again sorted from high to low\n",
    "PSM = revPSM.iloc[::-1]\n",
    "display(PSM)"
   ]
  },
  {
   "cell_type": "markdown",
   "metadata": {},
   "source": [
    "### FDR-filter\n",
    "\n",
    "The FDR threshold can be set in the command line, but it defaults to 0.05. Because there are so few PSM's in our example, there is no score threshold which exactly corresponds to 0.05, so the function takes the next lower option, which is zero in this case. This also corresponds to selecting all the q-values which are equal to zero. Only the target PSM's that are accepted at the given FDR threshold are retained in the end."
   ]
  },
  {
   "cell_type": "code",
   "execution_count": 17,
   "metadata": {
    "collapsed": false
   },
   "outputs": [
    {
     "data": {
      "text/html": [
       "<div>\n",
       "<table border=\"1\" class=\"dataframe\">\n",
       "  <thead>\n",
       "    <tr style=\"text-align: right;\">\n",
       "      <th></th>\n",
       "      <th>Sequence</th>\n",
       "      <th>Score</th>\n",
       "      <th>Type</th>\n",
       "      <th>Spectrum</th>\n",
       "      <th>P-value</th>\n",
       "      <th>Q-value</th>\n",
       "    </tr>\n",
       "  </thead>\n",
       "  <tbody>\n",
       "    <tr>\n",
       "      <th>1657</th>\n",
       "      <td>SSGNSSSSGSGSGSTSAGSSSPGAR</td>\n",
       "      <td>0.112329</td>\n",
       "      <td>Target</td>\n",
       "      <td>hela1ugul.2404.2404.2.dta</td>\n",
       "      <td>0.0</td>\n",
       "      <td>0.0</td>\n",
       "    </tr>\n",
       "    <tr>\n",
       "      <th>1659</th>\n",
       "      <td>LGIYDADGDGDFDVDDAK</td>\n",
       "      <td>0.053608</td>\n",
       "      <td>Target</td>\n",
       "      <td>hela1ugul.12566.12566.2.dta</td>\n",
       "      <td>0.0</td>\n",
       "      <td>0.0</td>\n",
       "    </tr>\n",
       "  </tbody>\n",
       "</table>\n",
       "</div>"
      ],
      "text/plain": [
       "                       Sequence     Score    Type  \\\n",
       "1657  SSGNSSSSGSGSGSTSAGSSSPGAR  0.112329  Target   \n",
       "1659         LGIYDADGDGDFDVDDAK  0.053608  Target   \n",
       "\n",
       "                         Spectrum  P-value  Q-value  \n",
       "1657    hela1ugul.2404.2404.2.dta      0.0      0.0  \n",
       "1659  hela1ugul.12566.12566.2.dta      0.0      0.0  "
      ]
     },
     "metadata": {},
     "output_type": "display_data"
    }
   ],
   "source": [
    "decoys = PSM.loc[PSM['Type']=='Decoy']\n",
    "targets = PSM.loc[PSM['Type'] == 'Target']\n",
    "scores = PSM.Score.sort_values()\n",
    "FDR = 100\n",
    "for potentialCutOff in scores:\n",
    "    FDR = (decoys.Score >= potentialCutOff).sum()/ (targets.Score >= potentialCutOff).sum()\n",
    "    if FDR <= 0.05:\n",
    "        cutOff = potentialCutOff\n",
    "        break\n",
    "accepted = targets.loc[targets['Score'] >= cutOff].copy()\n",
    "# Drop decoys from dataframe\n",
    "accepted = accepted[accepted.Type == 'Target']\n",
    "display(accepted)"
   ]
  },
  {
   "cell_type": "markdown",
   "metadata": {},
   "source": [
    "### Concatenated versus separate decoy search\n",
    "\n",
    "We have performed a separate search against the decoy and target database, but it has been suggested that it is more sensible to perform a concatenated search for the purposes of FDR estimation. In this setting decoy and target PSM scores for the same spectrum are competing directly with each other, which avoids too conservative FDR estimation (Elias & Gygi, 2007; Jeong, Kim & Bandeira, 2012). On the other hand, in our simple setting this would have reduced the number of PSM's to five instead of ten, which would have made inference even more difficult."
   ]
  },
  {
   "cell_type": "markdown",
   "metadata": {},
   "source": [
    "## Protein Inference\n",
    "\n",
    "The final step is to search the sequences in the protein database for sub-string matches to the accepted peptides. A list of the UniProtKB/Swiss-Prot identifiers is appended to each PSM.\n",
    "\n",
    "We have controlled the FDR at the level of the PSM's, but this does not tell us anything about the FDR at the protein-level (Cottrell, 2011). Our approach does not attempt to assign probabilities to the protein assignments (for methods that do, see Teng, Huang & He (2013) and Reiter et al. (2009)), but we do note that we can be more confident in proteins that are infered from multiple peptides. "
   ]
  },
  {
   "cell_type": "code",
   "execution_count": 18,
   "metadata": {
    "collapsed": false,
    "scrolled": false
   },
   "outputs": [
    {
     "data": {
      "text/html": [
       "<div>\n",
       "<table border=\"1\" class=\"dataframe\">\n",
       "  <thead>\n",
       "    <tr style=\"text-align: right;\">\n",
       "      <th></th>\n",
       "      <th>Sequence</th>\n",
       "      <th>Score</th>\n",
       "      <th>Type</th>\n",
       "      <th>Spectrum</th>\n",
       "      <th>P-value</th>\n",
       "      <th>Q-value</th>\n",
       "      <th>Inferred Proteins</th>\n",
       "    </tr>\n",
       "  </thead>\n",
       "  <tbody>\n",
       "    <tr>\n",
       "      <th>1657</th>\n",
       "      <td>SSGNSSSSGSGSGSTSAGSSSPGAR</td>\n",
       "      <td>0.112329</td>\n",
       "      <td>Target</td>\n",
       "      <td>hela1ugul.2404.2404.2.dta</td>\n",
       "      <td>0.0</td>\n",
       "      <td>0.0</td>\n",
       "      <td>[[Q12797], [Q12797]]</td>\n",
       "    </tr>\n",
       "    <tr>\n",
       "      <th>1659</th>\n",
       "      <td>LGIYDADGDGDFDVDDAK</td>\n",
       "      <td>0.053608</td>\n",
       "      <td>Target</td>\n",
       "      <td>hela1ugul.12566.12566.2.dta</td>\n",
       "      <td>0.0</td>\n",
       "      <td>0.0</td>\n",
       "      <td>[[Q12797], [Q12797]]</td>\n",
       "    </tr>\n",
       "  </tbody>\n",
       "</table>\n",
       "</div>"
      ],
      "text/plain": [
       "                       Sequence     Score    Type  \\\n",
       "1657  SSGNSSSSGSGSGSTSAGSSSPGAR  0.112329  Target   \n",
       "1659         LGIYDADGDGDFDVDDAK  0.053608  Target   \n",
       "\n",
       "                         Spectrum  P-value  Q-value     Inferred Proteins  \n",
       "1657    hela1ugul.2404.2404.2.dta      0.0      0.0  [[Q12797], [Q12797]]  \n",
       "1659  hela1ugul.12566.12566.2.dta      0.0      0.0  [[Q12797], [Q12797]]  "
      ]
     },
     "metadata": {},
     "output_type": "display_data"
    }
   ],
   "source": [
    "accepted.loc[:,'Inferred Proteins'] = accepted.apply(lambda row: proteinData.loc[proteinData.Sequence.str.contains(row['Sequence'])].Identifier.tolist() ,axis=1)\n",
    "display(accepted)"
   ]
  },
  {
   "cell_type": "markdown",
   "metadata": {},
   "source": [
    "The above table is the final output that is received upon running this tool. The last column contains the UniProtKB/Swiss-Prot identifiers of all the proteins in the protein database that contain the exact peptide sequence of the PSM's that were accepted."
   ]
  },
  {
   "cell_type": "markdown",
   "metadata": {},
   "source": [
    "# References\n",
    "\n",
    "- Cottrell, J. (2011). Protein identification using MS/MS data. Journal Of Proteomics, 74(10), 1842-1851. http://dx.doi.org/10.1016/j.jprot.2011.05.014\n",
    "- Elias, J., & Gygi, S. (2007). Target-decoy search strategy for increased confidence in large-scale protein identifications by mass spectrometry. Nature Methods, 4(3), 207-214. http://dx.doi.org/10.1038/nmeth1019\n",
    "- Jeong, K., Kim, S., & Bandeira, N. (2012). False discovery rates in spectral identification. BMC Bioinformatics, 13(Suppl 16), S2. http://dx.doi.org/10.1186/1471-2105-13-s16-s2\n",
    "- Käll, L., Storey, J., MacCoss, M., & Noble, W. (2008). Assigning Significance to Peptides Identified by Tandem Mass Spectrometry Using Decoy Databases. J. Proteome Res., 7(1), 29-34. http://dx.doi.org/10.1021/pr700600n\n",
    "- Noble, W. (2009). How does multiple testing correction work?. Nat Biotechnol, 27(12), 1135-1137. http://dx.doi.org/10.1038/nbt1209-1135\n",
    "- Reiter, L., Claassen, M., Schrimpf, S., Jovanovic, M., Schmidt, A., & Buhmann, J. et al. (2009). Protein Identification False Discovery Rates for Very Large Proteomics Data Sets Generated by Tandem Mass Spectrometry. Molecular & Cellular Proteomics, 8(11), 2405-2417. http://dx.doi.org/10.1074/mcp.m900317-mcp200\n",
    "- Sadygov, R., Cociorva, D., & Yates, J. (2004). Large-scale database searching using tandem mass spectra: Looking up the answer in the back of the book. Nature Methods, 1(3), 195-202. http://dx.doi.org/10.1038/nmeth725\n",
    "- Teng, B., Huang, T., & He, Z. (2013). Decoy-free protein-level false discovery rate estimation. Bioinformatics, 30(5), 675-681. http://dx.doi.org/10.1093/bioinformatics/btt431"
   ]
  }
 ],
 "metadata": {
  "kernelspec": {
   "display_name": "Python 3",
   "language": "python",
   "name": "python3"
  },
  "language_info": {
   "codemirror_mode": {
    "name": "ipython",
    "version": 3
   },
   "file_extension": ".py",
   "mimetype": "text/x-python",
   "name": "python",
   "nbconvert_exporter": "python",
   "pygments_lexer": "ipython3",
   "version": "3.5.1"
  }
 },
 "nbformat": 4,
 "nbformat_minor": 0
}
