{
 "cells": [
  {
   "cell_type": "markdown",
   "metadata": {},
   "source": [
    "# MS2 experimental spectrum to database search"
   ]
  },
  {
   "cell_type": "markdown",
   "metadata": {},
   "source": [
    "This documentation describes the various methods implemented in the ms2matcher package. First we will provide a short demonstration on how to use the package and later we will show how the underlying functions work and the intermediate output that they provide.\n",
    "\n",
    "In addition to this document, the main functions can all be found in the \\ms2matcher folder in the main module file ms2matcher.py. All methods are documented according to the  NumPy/SciPy style convention (https://github.com/numpy/numpy/blob/master/doc/HOWTO_DOCUMENT.rst.txt), providing a clear overview of the required inputs and delivered outputs for each method, as well as the design philosephy and inter-dependencies between the methods."
   ]
  },
  {
   "cell_type": "markdown",
   "metadata": {},
   "source": [
    "# Using the software"
   ]
  },
  {
   "cell_type": "markdown",
   "metadata": {},
   "source": [
    "The package can be run via the command line by calling 'python main.py' followed by the absolute path to a folder containing the experimental spectrum .dta files and optionally the MS1 ( '-t1 --toleranceMS1' ) and MS2 mass tolerance ( '-t2 --toleranceMS2' ). The default values are 50 ppm and 0.1 Dalton respectively.\n",
    "\n",
    "<pre>\n",
    "python main.py path/to/spectraFolder -t1 50 -t2 01\n",
    "</pre>\n",
    "\n",
    "Running 'python main.py --help' also provides an overview of the accepted arguments."
   ]
  },
  {
   "cell_type": "markdown",
   "metadata": {},
   "source": [
    "## Dependencies\n",
    "\n",
    "This tool relies on the following packages:\n",
    "\n",
    "- numpy (http://www.numpy.org/)\n",
    "- pandas (http://pandas.pydata.org/)\n",
    "- biopython (http://biopython.org/wiki/Main_Page)\n",
    "- pyteomics (https://pythonhosted.org/pyteomics/)\n",
    "\n",
    "Please refer to the packages' manuals, pip (https://docs.python.org/3.6/installing/index.html) or a package management system such as Conda (http://conda.pydata.org/docs/) for more information on how to install additional python packages."
   ]
  },
  {
   "cell_type": "markdown",
   "metadata": {},
   "source": [
    "# Step-by-step walkthrough"
   ]
  },
  {
   "cell_type": "markdown",
   "metadata": {},
   "source": [
    "## Importing protein and peptide databases (in .fasta format)"
   ]
  },
  {
   "cell_type": "markdown",
   "metadata": {},
   "source": [
    "First the package will read in the protein, peptide digests and reverse decoy databases which are located in the /data/database/ folder of the package. The following lines of code show how the relative paths are defined."
   ]
  },
  {
   "cell_type": "code",
   "execution_count": 3,
   "metadata": {
    "collapsed": false
   },
   "outputs": [],
   "source": [
    "import os,sys\n",
    "import inspect\n",
    "currentdir = os.path.dirname(os.path.abspath(inspect.getfile(inspect.currentframe())))\n",
    "parentdir = os.path.dirname(currentdir)\n",
    "moduledir = os.path.normpath(os.path.join(parentdir, 'ms2matcher'))\n",
    "sys.path.insert(0,moduledir)\n",
    "import ms2matcher as ms\n",
    "\n",
    "data_path = 'data'\n",
    "database_path = 'database'\n",
    "spectra_path = 'spectra'\n",
    "proteinDatabasePath = os.path.normpath(os.path.join(parentdir, data_path,database_path,'studentP.fasta'))\n",
    "peptideDatabasePath = os.path.normpath(os.path.join(parentdir, data_path,database_path,'studentP_peptides.fasta'))\n",
    "decoyDatabasePath = os.path.normpath(os.path.join(parentdir, data_path,database_path,'studentD.fasta'))\n",
    "decoyPeptideDatabasePath = os.path.normpath(os.path.join(parentdir, data_path,database_path,'studentD_peptides.fasta'))\n",
    "spectraFilePath = os.path.normpath(os.path.join(parentdir,data_path,spectra_path))"
   ]
  },
  {
   "cell_type": "markdown",
   "metadata": {},
   "source": [
    "The .fasta databases are imported into a pandas dataframes. One column contains the sequences of the peptides/proteins, while the other contains either the UniProtKB/Swiss-Prot identifiers (for the proteins) or the **monoisotopic masses (M)** (for the peptides)."
   ]
  },
  {
   "cell_type": "code",
   "execution_count": 4,
   "metadata": {
    "collapsed": false
   },
   "outputs": [],
   "source": [
    "proteinData = ms.importProteins(proteinDatabasePath)\n",
    "peptideData = ms.importPeptides(peptideDatabasePath)\n",
    "decoyPeptideData = ms.importPeptides(decoyPeptideDatabasePath)\n",
    "decoyData = ms.importProteins(decoyDatabasePath)"
   ]
  },
  {
   "cell_type": "code",
   "execution_count": 5,
   "metadata": {
    "collapsed": false
   },
   "outputs": [
    {
     "name": "stdout",
     "output_type": "stream",
     "text": [
      "   Monoisotopic Mass         Sequence\n",
      "0         1598.71340  SMGETESGDAFLDLK\n",
      "1          626.37516           KPPASK\n",
      "2          511.23254             CPHR\n",
      "3          858.46985          EELLDIK\n",
      "4          709.37589           ELPHSK\n"
     ]
    }
   ],
   "source": [
    "print(peptideData[:5])"
   ]
  },
  {
   "cell_type": "markdown",
   "metadata": {},
   "source": [
    "## Importing experimental spectra (.dta)"
   ]
  },
  {
   "cell_type": "markdown",
   "metadata": {},
   "source": [
    "Experimental spectra are imported into numpy arrays. Normally, the path to the file is specified when the tool is run via the command line, but for demonstration purposes the underlying function is shown here.\n",
    "\n",
    "The .dta file is a tab-deliminated file where the first line contains the precursor m/z value (in (M+H)^+1 format) and the charge, and all the following lines contain **m/z values and intensities**."
   ]
  },
  {
   "cell_type": "code",
   "execution_count": 6,
   "metadata": {
    "collapsed": false
   },
   "outputs": [
    {
     "name": "stdout",
     "output_type": "stream",
     "text": [
      "[[  2.10287407e+03   2.00000000e+00]\n",
      " [  1.47075820e+02   1.32865000e+04]\n",
      " [  1.56076000e+02   2.53626000e+03]\n",
      " [  1.57060290e+02   1.16938000e+04]\n",
      " [  1.58091720e+02   2.67873000e+03]\n",
      " [  1.63059860e+02   2.38194000e+03]\n",
      " [  1.68064500e+02   4.42759000e+03]\n",
      " [  1.72071260e+02   1.04343000e+04]\n",
      " [  1.75070980e+02   3.96961000e+04]\n",
      " [  1.75118410e+02   8.27672000e+04]]\n"
     ]
    }
   ],
   "source": [
    "expSpec = ms.importExperimentalSpectrum(os.path.normpath(os.path.join(spectraFilePath,'hela1ugul.2404.2404.2.dta')))\n",
    "print(expSpec[:10])"
   ]
  },
  {
   "cell_type": "markdown",
   "metadata": {},
   "source": [
    "For easy retrieval later on the information regarding the precursor ion and the fragmentation peaks are separated.\n",
    "\n",
    "Note that the **precursor mass** in the .dta file is the charged parent ion (i.e. (M+H)+1 ) monoisotopic mass. We subtract the mass of one proton (1.0072764) to obtain the **uncharged monoisotopic parent mass (M)** from this, because this is the same format the peptide database has."
   ]
  },
  {
   "cell_type": "code",
   "execution_count": 7,
   "metadata": {
    "collapsed": false
   },
   "outputs": [
    {
     "name": "stdout",
     "output_type": "stream",
     "text": [
      "2101.8667935999997\n",
      "1\n"
     ]
    }
   ],
   "source": [
    "precursorMass = ms.getPrecursorMass(expSpec)\n",
    "precursorCharge = ms.getPrecursorCharge(expSpec) if ms.getPrecursorCharge(expSpec)==1 else ms.getPrecursorCharge(expSpec)-1\n",
    "expMZ = ms.getExperimentalMZs(expSpec)\n",
    "print(precursorMass)\n",
    "print(precursorCharge)"
   ]
  },
  {
   "cell_type": "markdown",
   "metadata": {},
   "source": [
    "## Peptide candidates - mass filter"
   ]
  },
  {
   "cell_type": "markdown",
   "metadata": {},
   "source": [
    "The peptide database is filtered for potential **peptide candidates** based on the monoisotopic mass of the experimental parent peptide. The default **mass tolerance** is 50 ppm, but this can be specified in the command line using the argument -t1. \n",
    "\n",
    "For example, for the given spectrum, the theoretical peptides can deviate, in either direction, with a value of: $$\\frac{\\text{Precursor Mass}\\times 50}{10^6} = \\frac{2101.8667936\\times50}{10^6} = 0.10509333968$$"
   ]
  },
  {
   "cell_type": "code",
   "execution_count": 8,
   "metadata": {
    "collapsed": false
   },
   "outputs": [
    {
     "name": "stdout",
     "output_type": "stream",
     "text": [
      "0.10509333968\n"
     ]
    }
   ],
   "source": [
    "print(precursorMass*50/1000000)"
   ]
  },
  {
   "cell_type": "markdown",
   "metadata": {},
   "source": [
    "This results in the following peptide candidates in the database: these are all the sequences that fall inside an 0.10 window of the parent monoisotopic mass (M)."
   ]
  },
  {
   "cell_type": "code",
   "execution_count": 9,
   "metadata": {
    "collapsed": false
   },
   "outputs": [
    {
     "name": "stdout",
     "output_type": "stream",
     "text": [
      "      Monoisotopic Mass                   Sequence\n",
      "1645          2101.9246         AVDWWGLGVVMYEMMCGR\n",
      "1657          2101.8744  SSGNSSSSGSGSGSTSAGSSSPGAR\n",
      "1730          2101.9246         AVDWWGLGVVMYEMMCGR\n",
      "1773          2101.9246         AVDWWGLGVVMYEMMCGR\n",
      "1812          2101.8456        GDDEEGECSIDYVEMAVNK\n",
      "2192          2101.9341        DFNGSDASTQLNTHYAFSK\n",
      "3325          2101.8744  SSGNSSSSGSGSGSTSAGSSSPGAR\n"
     ]
    }
   ],
   "source": [
    "peptideCands = ms.peptideCandidates(precursorMass,peptideDatabase=peptideData,massAccuracy=50)\n",
    "print(peptideCands)"
   ]
  },
  {
   "cell_type": "markdown",
   "metadata": {},
   "source": [
    "## Peptide candidates - fragmenting into b and y ions"
   ]
  },
  {
   "cell_type": "markdown",
   "metadata": {},
   "source": [
    "For each of the candidate peptides in the filtered pandas DataFrame, the b and y ions are generated and the **monoisotopic m/z values** are calculated for the specified charge (default value is precursor charge minus 1, or 1 for those with charge 1). The resulting masses are stored in separate numpy arrays for the b and y ions, and in the end both are combined into a dictionary."
   ]
  },
  {
   "cell_type": "code",
   "execution_count": 10,
   "metadata": {
    "collapsed": false,
    "scrolled": false
   },
   "outputs": [
    {
     "name": "stdout",
     "output_type": "stream",
     "text": [
      "y ions ['AVDWWGLGVVMYEMMCGR', 'VDWWGLGVVMYEMMCGR', 'DWWGLGVVMYEMMCGR', 'WWGLGVVMYEMMCGR', 'WGLGVVMYEMMCGR', 'GLGVVMYEMMCGR', 'LGVVMYEMMCGR', 'GVVMYEMMCGR', 'VVMYEMMCGR', 'VMYEMMCGR', 'MYEMMCGR', 'YEMMCGR', 'EMMCGR', 'MMCGR', 'MCGR', 'CGR', 'GR', 'R']\n",
      "b ions: ['A', 'AV', 'AVD', 'AVDW', 'AVDWW', 'AVDWWG', 'AVDWWGL', 'AVDWWGLG', 'AVDWWGLGV', 'AVDWWGLGVV', 'AVDWWGLGVVM', 'AVDWWGLGVVMY', 'AVDWWGLGVVMYE', 'AVDWWGLGVVMYEM', 'AVDWWGLGVVMYEMM', 'AVDWWGLGVVMYEMMC', 'AVDWWGLGVVMYEMMCG', 'AVDWWGLGVVMYEMMCGR']\n",
      "{'bIons+1': array([   72.04439025,   171.11280416,   286.13974719,   472.21906014,\n",
      "         658.29837309,   715.31983681,   828.40390079,   885.42536451,\n",
      "         984.49377842,  1083.56219233,  1214.60267725,  1377.66600578,\n",
      "        1506.70859887,  1637.74908378,  1768.78956869,  1871.79875348,\n",
      "        1928.8202172 ,  2084.92132822]), 'yIons+1': array([ 2102.9318929 ,  2031.89477912,  1932.82636521,  1817.79942218,\n",
      "        1631.72010923,  1445.64079628,  1388.61933256,  1275.53526859,\n",
      "        1218.51380486,  1119.44539095,  1020.37697704,   889.33649213,\n",
      "         726.27316359,   597.23057051,   466.19008559,   335.14960068,\n",
      "         232.14041589,   175.11895217])}\n"
     ]
    }
   ],
   "source": [
    "seq = 'AVDWWGLGVVMYEMMCGR'\n",
    "print('y ions',[seq[i:] for i in range(len(seq))])\n",
    "print('b ions:',[seq[:i+1] for i in range(len(seq))])\n",
    "\n",
    "print(ms.getAllFragmentsChargeX(sequence='AVDWWGLGVVMYEMMCGR',charge=precursorCharge))"
   ]
  },
  {
   "cell_type": "markdown",
   "metadata": {},
   "source": [
    "The **monoisotopic masses** are calculated using the pyteomics package. For more information, please check its documentation: https://pythonhosted.org/pyteomics/mass.html"
   ]
  },
  {
   "cell_type": "code",
   "execution_count": 11,
   "metadata": {
    "collapsed": false
   },
   "outputs": [
    {
     "name": "stdout",
     "output_type": "stream",
     "text": [
      "175.11895217407\n",
      "157.10838749037\n"
     ]
    }
   ],
   "source": [
    "from pyteomics import mass\n",
    "print(mass.calculate_mass(sequence='R',ion_type='y',charge=1))\n",
    "print(mass.calculate_mass(sequence='R',ion_type='b',charge=1))"
   ]
  },
  {
   "cell_type": "markdown",
   "metadata": {
    "collapsed": true
   },
   "source": [
    "## Experimental peak matching"
   ]
  },
  {
   "cell_type": "markdown",
   "metadata": {},
   "source": [
    "**For each experimental m/z value**, the **theoretical fragment masses** are queried to find a corresponding mass. The matching tolerance defaults to 0.1 Dalton, but can be specified in the command line using the parameter -t2.\n",
    "\n",
    "If a matching value is found, in either the b or y ion array, the score is incremented by 1. A match in both the y and b ions would still count as a score of 1, although we do not expect this to occurr often, since there are no amino acids that differ by exactly 18 Da. \n",
    "\n",
    "This procedure is then performed for **every candidate peptide** and the scores are appended to the pandas DataFrame. Note that duplicates are removed in case the peptide database is not unique."
   ]
  },
  {
   "cell_type": "code",
   "execution_count": 12,
   "metadata": {
    "collapsed": false,
    "scrolled": true
   },
   "outputs": [
    {
     "name": "stdout",
     "output_type": "stream",
     "text": [
      "      Monoisotopic Mass                   Sequence  Score\n",
      "1645          2101.9246         AVDWWGLGVVMYEMMCGR      9\n",
      "1657          2101.8744  SSGNSSSSGSGSGSTSAGSSSPGAR     41\n",
      "1812          2101.8456        GDDEEGECSIDYVEMAVNK      5\n",
      "2192          2101.9341        DFNGSDASTQLNTHYAFSK      6\n"
     ]
    }
   ],
   "source": [
    "peptideCands = ms.matchExpSpectrumToCandidatePeptides(expMZ,peptideCands,charge=precursorCharge,ms2tolerance=0.1)\n",
    "print(peptideCands)"
   ]
  },
  {
   "cell_type": "markdown",
   "metadata": {},
   "source": [
    "### Motivation for using the count as a score\n",
    "\n",
    "Note that we are matching experimental to theoretical fragments here. We did not divide the score by the number of peaks in either the experimental (since this would simply be a constant) or the theoretical spectrum. Our motivation for this is the following:\n",
    "\n",
    "- Our main point of interest is the observed experimental spectrum. We aim to explain this data as good as possible. Any peak that can be found in the theoretical database is a peak that can be explained. \n",
    "- The reverse, checking how many of the theoretical peaks are actually observed, is of less importances in our opinion. Indeed, there could be many reasons why a certain theoretically predicted y or b ion might not be observed. But this does not mean that the experimental spectrum did not originate from the peptide in question.\n",
    "- By dividing by the number of expected theoretical peaks, we are penalizing observed spectra where for example the shortest or longest ions were not observed, but this should not be indicative of a worse match.\n",
    "- The opposite does not hold either: a theoretical spectrum with only a few peaks might obtain a high score, if almost all of these can be matched to the theoretical spectrum. However, all the other true peaks in the theoretical spectrum cannot be explained by the theoretical one, yet we are not penalizing the score if we divide by the number of theoretical peaks. This peptide would obtain the same score as a peptide which matches additional theoretical peaks, or a lower score than a peptide which matches additional ones, but also lacks a few.\n",
    "- Any noise or contamination in the experimental spectrum might result in erroneous matches, but we are working under the assumption that the signal of the peptide that was selected during MS1 will be stronger than the noise."
   ]
  },
  {
   "cell_type": "markdown",
   "metadata": {},
   "source": [
    "### A note about isotopic peaks\n",
    "\n",
    "Our score does not take into account isotopic peaks in the theoretical spectrum, but we believe this is likely not a big issue:\n",
    "\n",
    "- First of all, all theoretical spectra consist of only the monoisotopic m/z values.\n",
    "- Consequently, all peptide candidates will fail to match to the higher mass isotopic peaks in the theoretical fragment (unless a different y/b ion has the same m/z as a higher order isotopic peak of a different ion). The scores of the peptides will systematically be lower by the same amount, i.e. their ranking will be consistent.\n",
    "\n",
    "An alternative strategy would be to first de-isotope the experimental spectrum, but this would require accuracte calling of true peaks and can be difficult if there is noise or overlap between the b/y ion series."
   ]
  },
  {
   "cell_type": "markdown",
   "metadata": {},
   "source": [
    "### Visualisation of peak matching\n",
    "Visually, the following is happening: all black peaks (experimental peaks) that overlap (given a certain error tolerance) with the red peaks (theoretical fragment masses) are counted."
   ]
  },
  {
   "cell_type": "code",
   "execution_count": 13,
   "metadata": {
    "collapsed": false
   },
   "outputs": [
    {
     "data": {
      "text/plain": [
       "<Container object of 36 artists>"
      ]
     },
     "execution_count": 13,
     "metadata": {},
     "output_type": "execute_result"
    },
    {
     "data": {
      "image/png": "[encoded data removed]",
      "text/plain": [
       "<matplotlib.figure.Figure at 0x7bc1ba8>"
      ]
     },
     "metadata": {},
     "output_type": "display_data"
    }
   ],
   "source": [
    "%matplotlib inline\n",
    "import numpy as np\n",
    "import pylab\n",
    "pylab.figure()\n",
    "pylab.title('Theoretical and experimental spectra')\n",
    "pylab.xlabel('m/z, Th')\n",
    "pylab.ylabel('Intensity, rel. units')\n",
    "pylab.bar(expSpec[:,0], expSpec[:,1], width=0.1, linewidth=2,edgecolor='black')\n",
    "theor_spectrum = list(ms.getAllFragmentsChargeX(peptideCands.loc[1645,'Sequence'],1).values())\n",
    "theor_spectrum = np.vstack(theor_spectrum).flatten()\n",
    "pylab.bar(theor_spectrum,[expSpec[:,1].max()]*len(theor_spectrum),width=0.1, edgecolor='red', alpha=0.7)"
   ]
  },
  {
   "cell_type": "markdown",
   "metadata": {},
   "source": [
    "## Decoy peak matching"
   ]
  },
  {
   "cell_type": "markdown",
   "metadata": {},
   "source": [
    "The **reversed decoy peptides** are filtered and the *in silico* y/b ions are derived in exactly the same manner as above."
   ]
  },
  {
   "cell_type": "code",
   "execution_count": 14,
   "metadata": {
    "collapsed": false,
    "scrolled": true
   },
   "outputs": [
    {
     "name": "stdout",
     "output_type": "stream",
     "text": [
      "      Monoisotopic Mass             Sequence  Score\n",
      "1660          2101.9246   GCMMEYMVVGLGWWDVAR      7\n",
      "2146          2101.9341  SFAYHTNLQTSADSGNFDK      5\n"
     ]
    }
   ],
   "source": [
    "decoyCands = ms.peptideCandidates(precursorMass,peptideDatabase=decoyPeptideData,massAccuracy=50)\n",
    "decoyCands = ms.matchExpSpectrumToCandidatePeptides(expMZ,decoyCands,charge=precursorCharge,ms2tolerance=0.1)\n",
    "print(decoyCands)"
   ]
  },
  {
   "cell_type": "markdown",
   "metadata": {},
   "source": [
    "## Peptide Spectrum Match"
   ]
  },
  {
   "cell_type": "markdown",
   "metadata": {},
   "source": [
    "For each spectrum, the top scoring peptide is selected as the **peptide spectrum match** (or PSM). Doing this for both the target and decoy database results in a target and decoy PSM as follows:"
   ]
  },
  {
   "cell_type": "code",
   "execution_count": 16,
   "metadata": {
    "collapsed": false
   },
   "outputs": [
    {
     "name": "stdout",
     "output_type": "stream",
     "text": [
      "Sequence    SSGNSSSSGSGSGSTSAGSSSPGAR\n",
      "Score                              41\n",
      "Type                           Target\n",
      "Spectrum    hela1ugul.2404.2404.2.dta\n",
      "Name: 1657, dtype: object \n",
      "\n",
      "Sequence           GCMMEYMVVGLGWWDVAR\n",
      "Score                               7\n",
      "Type                            Decoy\n",
      "Spectrum    hela1ugul.2404.2404.2.dta\n",
      "Name: 1660, dtype: object\n"
     ]
    }
   ],
   "source": [
    "targetPSM = peptideCands.loc[peptideCands['Score'].idxmax()].copy()\n",
    "targetPSM['Type'] = 'Target'\n",
    "targetPSM['Spectrum'] = 'hela1ugul.2404.2404.2.dta'\n",
    "targetPSM = targetPSM.drop('Monoisotopic Mass')\n",
    "\n",
    "decoyPSM =decoyCands.loc[decoyCands['Score'].idxmax()].copy()\n",
    "decoyPSM['Type'] = 'Decoy'\n",
    "decoyPSM['Spectrum'] = 'hela1ugul.2404.2404.2.dta'\n",
    "decoyPSM = decoyPSM.drop('Monoisotopic Mass')\n",
    "\n",
    "print(targetPSM,'\\n')\n",
    "print(decoyPSM)"
   ]
  },
  {
   "cell_type": "markdown",
   "metadata": {},
   "source": [
    "## Retrieving peptide spectrum matches for all the spectra"
   ]
  },
  {
   "cell_type": "markdown",
   "metadata": {},
   "source": [
    "The following functions perform all of the procedures we described above, for all the specified spectra. When running this tool in the command line, all the .dta files in the specified folder will be considered.\n",
    "\n",
    "All the intermediate steps (i.e. peptide scoring within a spectrum) are printed here for illustration purposes. The final dataframe at the bottom contains the top target and decoy PSM's for each spectrum."
   ]
  },
  {
   "cell_type": "code",
   "execution_count": 17,
   "metadata": {
    "collapsed": false
   },
   "outputs": [
    {
     "name": "stdout",
     "output_type": "stream",
     "text": [
      "Processing hela1ugul.12566.12566.2.dta\n",
      "Peptide matching scores for experimental spectrum  hela1ugul.12566.12566.2.dta\n",
      "      Monoisotopic Mass             Sequence  Score\n",
      "632           1899.8904    GPNPAFWWVNGQGDEVK      9\n",
      "1659          1899.8010   LGIYDADGDGDFDVDDAK     26\n",
      "2035          1899.8495    ANPMYNAVSNADLMDFK      4\n",
      "2657          1899.8363      NNFEFCEAHIPFYNR      7\n",
      "3030          1899.8017  TSSSSCSAHSSFSSTGQPR      6\n",
      "3379          1899.7855     CFSLDAFCHHFSNMNK      7 \n",
      "\n",
      "Target PSM:  Sequence             LGIYDADGDGDFDVDDAK\n",
      "Score                                26\n",
      "Type                             Target\n",
      "Spectrum    hela1ugul.12566.12566.2.dta\n",
      "Name: 1659, dtype: object \n",
      "\n",
      "Decoy matching scores for experimental spectrum  hela1ugul.12566.12566.2.dta\n",
      "      Monoisotopic Mass            Sequence  Score\n",
      "1730          1899.8010  ADDVDFDGDGDADYIGLK     19\n",
      "3429          1899.7855    NMNSFHHCFADLSFCK      6 \n",
      "\n",
      "Decoy PSM:  Sequence             ADDVDFDGDGDADYIGLK\n",
      "Score                                19\n",
      "Type                              Decoy\n",
      "Spectrum    hela1ugul.12566.12566.2.dta\n",
      "Name: 1730, dtype: object \n",
      "\n",
      "Processing hela1ugul.16509.16509.3.dta\n",
      "Peptide matching scores for experimental spectrum  hela1ugul.16509.16509.3.dta\n",
      "      Monoisotopic Mass                 Sequence  Score\n",
      "102           2228.2093   LAPDPSLVIYAIFPSGGVVADK     15\n",
      "389           2228.1338      AFNSHTWEQLGTLQLLSQR      9\n",
      "812           2228.2430     LLLENVLPAHVAPQFIGQNR     14\n",
      "1204          2228.0597  TEVEAGASGYSVTGGGDQGIFVK     17\n",
      "1669          2228.1576    GAIETYQEVASLPDVPADLLK     21\n",
      "2232          2228.1736    TALHLACANGHPEVVTLLVDR     15\n",
      "2833          2228.0862    FWAANVPPSEALQPSSSPSTR     14\n",
      "3162          2228.1107    HENNLSVLAISNMEASSTLAK      8 \n",
      "\n",
      "Target PSM:  Sequence          GAIETYQEVASLPDVPADLLK\n",
      "Score                                21\n",
      "Type                             Target\n",
      "Spectrum    hela1ugul.16509.16509.3.dta\n",
      "Name: 1669, dtype: object \n",
      "\n",
      "Decoy matching scores for experimental spectrum  hela1ugul.16509.16509.3.dta\n",
      "      Monoisotopic Mass                 Sequence  Score\n",
      "796           2228.2430     NQGIFQPAVHAPLVNELLLR     11\n",
      "1639          2228.0597  VFIGQDGGGTVSYGSAGAEVETK      9\n",
      "2395          2228.1736    DVLLTVVEPHGNACALHLATR     10\n",
      "2879          2228.0862    TSPSSSPQLAESPPVNAAWFR     14 \n",
      "\n",
      "Decoy PSM:  Sequence          TSPSSSPQLAESPPVNAAWFR\n",
      "Score                                14\n",
      "Type                              Decoy\n",
      "Spectrum    hela1ugul.16509.16509.3.dta\n",
      "Name: 2879, dtype: object \n",
      "\n",
      "Processing hela1ugul.2404.2404.2.dta\n",
      "Peptide matching scores for experimental spectrum  hela1ugul.2404.2404.2.dta\n",
      "      Monoisotopic Mass                   Sequence  Score\n",
      "1645          2101.9246         AVDWWGLGVVMYEMMCGR      9\n",
      "1657          2101.8744  SSGNSSSSGSGSGSTSAGSSSPGAR     41\n",
      "1812          2101.8456        GDDEEGECSIDYVEMAVNK      5\n",
      "2192          2101.9341        DFNGSDASTQLNTHYAFSK      6 \n",
      "\n",
      "Target PSM:  Sequence    SSGNSSSSGSGSGSTSAGSSSPGAR\n",
      "Score                              41\n",
      "Type                           Target\n",
      "Spectrum    hela1ugul.2404.2404.2.dta\n",
      "Name: 1657, dtype: object \n",
      "\n",
      "Decoy matching scores for experimental spectrum  hela1ugul.2404.2404.2.dta\n",
      "      Monoisotopic Mass             Sequence  Score\n",
      "1660          2101.9246   GCMMEYMVVGLGWWDVAR      7\n",
      "2146          2101.9341  SFAYHTNLQTSADSGNFDK      5 \n",
      "\n",
      "Decoy PSM:  Sequence           GCMMEYMVVGLGWWDVAR\n",
      "Score                               7\n",
      "Type                            Decoy\n",
      "Spectrum    hela1ugul.2404.2404.2.dta\n",
      "Name: 1660, dtype: object \n",
      "\n",
      "Processing hela1ugul.2406.2406.3.dta\n",
      "Peptide matching scores for experimental spectrum  hela1ugul.2406.2406.3.dta\n",
      "      Monoisotopic Mass                   Sequence  Score\n",
      "1645          2101.9246         AVDWWGLGVVMYEMMCGR      4\n",
      "1657          2101.8744  SSGNSSSSGSGSGSTSAGSSSPGAR      9\n",
      "1812          2101.8456        GDDEEGECSIDYVEMAVNK      6\n",
      "2192          2101.9341        DFNGSDASTQLNTHYAFSK      7 \n",
      "\n",
      "Target PSM:  Sequence    SSGNSSSSGSGSGSTSAGSSSPGAR\n",
      "Score                               9\n",
      "Type                           Target\n",
      "Spectrum    hela1ugul.2406.2406.3.dta\n",
      "Name: 1657, dtype: object \n",
      "\n",
      "Decoy matching scores for experimental spectrum  hela1ugul.2406.2406.3.dta\n",
      "      Monoisotopic Mass             Sequence  Score\n",
      "1660          2101.9246   GCMMEYMVVGLGWWDVAR      5\n",
      "2146          2101.9341  SFAYHTNLQTSADSGNFDK      6 \n",
      "\n",
      "Decoy PSM:  Sequence          SFAYHTNLQTSADSGNFDK\n",
      "Score                               6\n",
      "Type                            Decoy\n",
      "Spectrum    hela1ugul.2406.2406.3.dta\n",
      "Name: 2146, dtype: object \n",
      "\n",
      "Processing hela1ugul.3746.3746.2.dta\n",
      "Peptide matching scores for experimental spectrum  hela1ugul.3746.3746.2.dta\n",
      "      Monoisotopic Mass     Sequence  Score\n",
      "178           1177.5404    AQSYEYVYR      4\n",
      "699           1177.5015    DGYFWFMGR     10\n",
      "886           1177.4636   GHEDDSYEAR      6\n",
      "1981          1177.5074   QEDSPFQCPK     14\n",
      "2062          1177.5372    LMQVWCDQR      7\n",
      "2490          1177.5364  ASSPQGFDVDR     10\n",
      "3067          1177.4427  NGGCNHMQCSK      8\n",
      "3486          1177.5285  AEQEALTGECK      6 \n",
      "\n",
      "Target PSM:  Sequence                   QEDSPFQCPK\n",
      "Score                              14\n",
      "Type                           Target\n",
      "Spectrum    hela1ugul.3746.3746.2.dta\n",
      "Name: 1981, dtype: object \n",
      "\n",
      "Decoy matching scores for experimental spectrum  hela1ugul.3746.3746.2.dta\n",
      "      Monoisotopic Mass     Sequence  Score\n",
      "1532          1177.5285   DALSMDEELR     11\n",
      "2094          1177.5372    QDCWVQMLR     12\n",
      "3095          1177.4427  SCQMHNCGGNK      5 \n",
      "\n",
      "Decoy PSM:  Sequence                    QDCWVQMLR\n",
      "Score                              12\n",
      "Type                            Decoy\n",
      "Spectrum    hela1ugul.3746.3746.2.dta\n",
      "Name: 2094, dtype: object \n",
      "\n",
      "                       Sequence  Score    Type                     Spectrum\n",
      "1657  SSGNSSSSGSGSGSTSAGSSSPGAR     41  Target    hela1ugul.2404.2404.2.dta\n",
      "1659         LGIYDADGDGDFDVDDAK     26  Target  hela1ugul.12566.12566.2.dta\n",
      "1669      GAIETYQEVASLPDVPADLLK     21  Target  hela1ugul.16509.16509.3.dta\n",
      "1730         ADDVDFDGDGDADYIGLK     19   Decoy  hela1ugul.12566.12566.2.dta\n",
      "2879      TSPSSSPQLAESPPVNAAWFR     14   Decoy  hela1ugul.16509.16509.3.dta\n",
      "1981                 QEDSPFQCPK     14  Target    hela1ugul.3746.3746.2.dta\n",
      "2094                  QDCWVQMLR     12   Decoy    hela1ugul.3746.3746.2.dta\n",
      "1657  SSGNSSSSGSGSGSTSAGSSSPGAR      9  Target    hela1ugul.2406.2406.3.dta\n",
      "1660         GCMMEYMVVGLGWWDVAR      7   Decoy    hela1ugul.2404.2404.2.dta\n",
      "2146        SFAYHTNLQTSADSGNFDK      6   Decoy    hela1ugul.2406.2406.3.dta\n"
     ]
    }
   ],
   "source": [
    "import pandas as pd\n",
    "def getPSM(spectrumFile,folderPath,ms1Tolerance,ms2Tolerance):\n",
    "    \"\"\"\n",
    "    For the provided spectrum, the peptide spectrum match (PSM) and associated\n",
    "    score will be computed by filtering peptide candidates from the peptide database,\n",
    "    using the ms1 tolerance (default = 50 ppm), generating b/y ions\n",
    "    and calculating their m/z values (with the parent charge minus 1, or 1 for singly charged parents),\n",
    "    and finally counting the number of matching peaks between the experimental and\n",
    "    theoretical peptide spectrum (using the ms2 tolerance 0.1 Da).\n",
    "    The same procedure is repeated by searching against the decoy peptide database.\n",
    "\n",
    "    Parameters\n",
    "    ----------\n",
    "    spectrumFile : str\n",
    "        The file name of experimental spectrum .dta file.\n",
    "    folderPath : str\n",
    "        The folder containing the experimental spectra .dta files.\n",
    "        Provided by the calling function matchAllSpectra().\n",
    "    ms1tolerance : float\n",
    "        The ms1 mass filtering error tolerance to use, in ppm.\n",
    "    ms2tolerance : float\n",
    "        The ms2 error tolerance to use during peak matching, in Dalton.\n",
    "\n",
    "    Returns\n",
    "    -------\n",
    "    targetPSM : Series\n",
    "        A pandas series containing the target PSM score and sequence.\n",
    "    decoyPSM : Series\n",
    "        A pandas series containing the decoy PSM score and sequence.\n",
    "    \"\"\"\n",
    "\n",
    "    # Read in experimental spectrum\n",
    "    expSpec = ms.importExperimentalSpectrum(os.path.normpath(os.path.join(folderPath,spectrumFile)))\n",
    "\n",
    "    # Retrieve parent mass (M) and charge to use: parent charge minus 1 unless parent charge is 1 already\n",
    "    precursorMass = ms.getPrecursorMass(expSpec)\n",
    "    precursorCharge = ms.getPrecursorCharge(expSpec) if ms.getPrecursorCharge(expSpec)==1 else ms.getPrecursorCharge(expSpec)-1\n",
    "\n",
    "    # Retrieve experimental m/z values\n",
    "    expMZ = ms.getExperimentalMZs(expSpec)\n",
    "\n",
    "    # Find peptide candidates in database\n",
    "    peptideCands = ms.peptideCandidates(precursorMass,peptideDatabase=peptideData,massAccuracy=ms1Tolerance)\n",
    "\n",
    "    # Calculate scores for peptide candidates - use precursor charge -1\n",
    "    peptideCands = ms.matchExpSpectrumToCandidatePeptides(expMZ,peptideCands,charge=precursorCharge,ms2tolerance=ms2Tolerance)\n",
    "\n",
    "    # Retrieve highest score = target peptide spectrum match\n",
    "    targetPSM = peptideCands.loc[peptideCands['Score'].idxmax()].copy()\n",
    "    targetPSM['Type'] = 'Target'\n",
    "    targetPSM['Spectrum'] = spectrumFile\n",
    "    targetPSM = targetPSM.drop('Monoisotopic Mass')\n",
    "\n",
    "    # Find peptide candidates in decoys\n",
    "    decoyCands = ms.peptideCandidates(precursorMass,peptideDatabase=decoyPeptideData,massAccuracy=ms1Tolerance)\n",
    "\n",
    "    # Calculate scores for peptide candidates - use precursor charge -1\n",
    "    decoyCands = ms.matchExpSpectrumToCandidatePeptides(expMZ,decoyCands,charge=precursorCharge,ms2tolerance=ms2Tolerance)\n",
    "\n",
    "    # Retrieve highest decoy score = decoy peptide spectrum match\n",
    "    decoyPSM =decoyCands.loc[decoyCands['Score'].idxmax()].copy()\n",
    "    decoyPSM['Type'] = 'Decoy'\n",
    "    decoyPSM['Spectrum'] = spectrumFile\n",
    "    decoyPSM = decoyPSM.drop('Monoisotopic Mass')\n",
    "    \n",
    "    print('Peptide matching scores for experimental spectrum ',spectrumFile)\n",
    "    print(peptideCands,'\\n')\n",
    "    print('Target PSM: ',targetPSM,'\\n')\n",
    "    print('Decoy matching scores for experimental spectrum ',spectrumFile)\n",
    "    print(decoyCands,'\\n')\n",
    "    print('Decoy PSM: ',decoyPSM,'\\n')\n",
    "\n",
    "    return targetPSM,decoyPSM\n",
    "\n",
    "def matchAllSpectra(pathToSpectra,ms1Tolerance,ms2Tolerance):\n",
    "    \"\"\"\n",
    "    For all the provided spectra files, the target and decoy peptide spectrum match (PSM)\n",
    "    is returned.\n",
    "\n",
    "    See the function getPSM() for more details.\n",
    "\n",
    "    Parameters\n",
    "    ----------\n",
    "    pathToSpectra : The absolute path to the spectra .dta files.\n",
    "    ms1tolerance : float\n",
    "        The ms1 mass filtering error tolerance to use, in ppm.\n",
    "    ms2tolerance : float\n",
    "        The ms2 error tolerance to use during peak matching, in Dalton.\n",
    "\n",
    "    Returns\n",
    "    -------\n",
    "    spectrumScoreDatabase : DataFrame\n",
    "        A pandas DataFrame containing target and decoy PSM scores for all spectra.\n",
    "    \"\"\"\n",
    "\n",
    "    # Initialise dataframe to store results\n",
    "    spectrumScoreDatabase = pd.DataFrame()\n",
    "\n",
    "    for f in os.listdir(pathToSpectra):\n",
    "        print('Processing',f)\n",
    "        if f.endswith(\".dta\"):\n",
    "            target,decoy = getPSM(f,folderPath=pathToSpectra,ms1Tolerance=ms1Tolerance,ms2Tolerance=ms2Tolerance)\n",
    "            spectrumScoreDatabase = spectrumScoreDatabase.append([target,decoy])\n",
    "        else:\n",
    "            continue\n",
    "\n",
    "    # sort scores\n",
    "    spectrumScoreDatabase = spectrumScoreDatabase.sort_values('Score',ascending=False)\n",
    "\n",
    "    return spectrumScoreDatabase\n",
    "\n",
    "print(matchAllSpectra(spectraFilePath,ms1Tolerance=50,ms2Tolerance=0.1))"
   ]
  },
  {
   "cell_type": "markdown",
   "metadata": {},
   "source": [
    "# Confidence assignment"
   ]
  },
  {
   "cell_type": "code",
   "execution_count": 13,
   "metadata": {
    "collapsed": false
   },
   "outputs": [
    {
     "name": "stdout",
     "output_type": "stream",
     "text": [
      "      Monoisotopic Mass                   Sequence  Score  P-value\n",
      "1645          2101.9246         AVDWWGLGVVMYEMMCGR      9      0.0\n",
      "1657          2101.8744  SSGNSSSSGSGSGSTSAGSSSPGAR     41      0.0\n",
      "1812          2101.8456        GDDEEGECSIDYVEMAVNK      5      1.0\n",
      "2192          2101.9341        DFNGSDASTQLNTHYAFSK      6      0.5\n"
     ]
    }
   ],
   "source": [
    "peptideCands.loc[:,'P-value'] = peptideCands.apply(lambda row: (row['Score'] <= decoyCands.Score).sum() / decoyCands.Score.size,axis=1)\n",
    "\n",
    "\n",
    "print(peptideCands)\n"
   ]
  },
  {
   "cell_type": "markdown",
   "metadata": {
    "collapsed": true
   },
   "source": [
    "This is a recommendation to repeat the search, using identical search parameters, against a database in which the sequences have been reversed or randomised. You do not expect to get any true matches from the \"decoy\" database. So, the number of matches that are found is an excellent estimate of the number of false positives that are present in the results from the real or \"target\" database\n",
    "\n",
    "\n",
    "here: too small dataset for reliable estimate"
   ]
  }
 ],
 "metadata": {
  "kernelspec": {
   "display_name": "Python 3",
   "language": "python",
   "name": "python3"
  },
  "language_info": {
   "codemirror_mode": {
    "name": "ipython",
    "version": 3
   },
   "file_extension": ".py",
   "mimetype": "text/x-python",
   "name": "python",
   "nbconvert_exporter": "python",
   "pygments_lexer": "ipython3",
   "version": "3.5.1"
  }
 },
 "nbformat": 4,
 "nbformat_minor": 0
}
